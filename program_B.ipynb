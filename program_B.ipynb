{
 "cells": [
  {
   "cell_type": "code",
   "execution_count": 2,
   "metadata": {},
   "outputs": [
    {
     "ename": "NameError",
     "evalue": "name 'file_name' is not defined",
     "output_type": "error",
     "traceback": [
      "\u001b[0;31m---------------------------------------------------------------------------\u001b[0m",
      "\u001b[0;31mNameError\u001b[0m                                 Traceback (most recent call last)",
      "\u001b[0;32m<ipython-input-2-b06543927ef8>\u001b[0m in \u001b[0;36m<module>\u001b[0;34m()\u001b[0m\n\u001b[0;32m----> 1\u001b[0;31m \u001b[0mread_file\u001b[0m \u001b[0;34m=\u001b[0m \u001b[0mopen\u001b[0m\u001b[0;34m(\u001b[0m\u001b[0mfile_name\u001b[0m\u001b[0;34m,\u001b[0m \u001b[0;34m\"r\"\u001b[0m\u001b[0;34m)\u001b[0m\u001b[0;34m\u001b[0m\u001b[0;34m\u001b[0m\u001b[0m\n\u001b[0m",
      "\u001b[0;31mNameError\u001b[0m: name 'file_name' is not defined"
     ]
    }
   ],
   "source": [
    "read_file = open(file_name, \"r\")"
   ]
  },
  {
   "cell_type": "code",
   "execution_count": 3,
   "metadata": {},
   "outputs": [
    {
     "name": "stdout",
     "output_type": "stream",
     "text": [
      "LICENSE  program_B.Rproj  \u001b[0m\u001b[01;34mraw_data\u001b[0m/  rstudio_programB.R  Untitled.ipynb\r\n"
     ]
    }
   ],
   "source": [
    "ls"
   ]
  },
  {
   "cell_type": "code",
   "execution_count": 13,
   "metadata": {},
   "outputs": [
    {
     "name": "stdout",
     "output_type": "stream",
     "text": [
      "/home/anna/Desktop/program_B\n"
     ]
    }
   ],
   "source": [
    "cd .."
   ]
  },
  {
   "cell_type": "code",
   "execution_count": 5,
   "metadata": {},
   "outputs": [
    {
     "name": "stdout",
     "output_type": "stream",
     "text": [
      "sampleA.txt  sampleBprime.txt  sampleB.txt\r\n"
     ]
    }
   ],
   "source": [
    "ls"
   ]
  },
  {
   "cell_type": "code",
   "execution_count": 36,
   "metadata": {},
   "outputs": [],
   "source": [
    "def read_file(txt_file):\n",
    "    \"\"\"read in .txt files\"\"\"\n",
    "    with open(txt_file, 'r') as f:\n",
    "        print(f)\n",
    "        "
   ]
  },
  {
   "cell_type": "code",
   "execution_count": 33,
   "metadata": {},
   "outputs": [
    {
     "name": "stdout",
     "output_type": "stream",
     "text": [
      "sampleA.txt  sampleBprime.txt  sampleB.txt\r\n"
     ]
    }
   ],
   "source": [
    "ls"
   ]
  },
  {
   "cell_type": "code",
   "execution_count": 34,
   "metadata": {},
   "outputs": [],
   "source": [
    "txt_file = 'sampleA.txt'"
   ]
  },
  {
   "cell_type": "code",
   "execution_count": 37,
   "metadata": {},
   "outputs": [
    {
     "name": "stdout",
     "output_type": "stream",
     "text": [
      "<_io.TextIOWrapper name='sampleA.txt' mode='r' encoding='UTF-8'>\n"
     ]
    }
   ],
   "source": [
    "read_file(txt_file)"
   ]
  },
  {
   "cell_type": "code",
   "execution_count": 57,
   "metadata": {},
   "outputs": [],
   "source": [
    "file_handle = open(txt_file, 'r')"
   ]
  },
  {
   "cell_type": "code",
   "execution_count": 56,
   "metadata": {},
   "outputs": [
    {
     "name": "stdout",
     "output_type": "stream",
     "text": [
      "gene\tsampleA\n",
      "\n",
      "['gene', 'sampleA']\n",
      "EfM3.000010\t21\n",
      "\n",
      "['EfM3.000010', '21']\n",
      "EfM3.000020\t63\n",
      "\n",
      "['EfM3.000020', '63']\n",
      "EfM3.000030\t42\n",
      "\n",
      "['EfM3.000030', '42']\n",
      "EfM3.000040\t8\n",
      "\n",
      "['EfM3.000040', '8']\n",
      "EfM3.000050\t206\n",
      "\n",
      "['EfM3.000050', '206']\n",
      "EfM3.000060\t202\n",
      "\n",
      "['EfM3.000060', '202']\n",
      "EfM3.000070\t129\n",
      "\n",
      "['EfM3.000070', '129']\n",
      "EfM3.000080\t89\n",
      "\n",
      "['EfM3.000080', '89']\n",
      "EfM3.000090\t11\n",
      "\n",
      "['EfM3.000090', '11']\n",
      "EfM3.000100\t326\n",
      "\n",
      "['EfM3.000100', '326']\n",
      "EfM3.000110\t149\n",
      "\n",
      "['EfM3.000110', '149']\n",
      "EfM3.000120\t51\n",
      "\n",
      "['EfM3.000120', '51']\n",
      "EfM3.000130\t0\n",
      "\n",
      "['EfM3.000130', '0']\n",
      "EfM3.000140\t5\n",
      "\n",
      "['EfM3.000140', '5']\n",
      "EfM3.000150\t77\n",
      "\n",
      "['EfM3.000150', '77']\n",
      "EfM3.000160\t66\n",
      "\n",
      "['EfM3.000160', '66']\n",
      "EfM3.000170\t120\n",
      "\n",
      "['EfM3.000170', '120']\n",
      "EfM3.000180\t14\n",
      "\n",
      "['EfM3.000180', '14']\n",
      "EfM3.000190\t1060\n",
      "\n",
      "['EfM3.000190', '1060']\n",
      "EfM3.000200\t57\n",
      "\n",
      "['EfM3.000200', '57']\n",
      "EfM3.000210\t876\n",
      "\n",
      "['EfM3.000210', '876']\n",
      "EfM3.000220\t1\n",
      "\n",
      "['EfM3.000220', '1']\n",
      "EfM3.000230\t24\n",
      "\n",
      "['EfM3.000230', '24']\n",
      "EfM3.000240\t67\n",
      "\n",
      "['EfM3.000240', '67']\n",
      "EfM3.000250\t4\n",
      "\n",
      "['EfM3.000250', '4']\n",
      "EfM3.000260\t14\n",
      "\n",
      "['EfM3.000260', '14']\n",
      "EfM3.000270\t174\n",
      "\n",
      "['EfM3.000270', '174']\n",
      "EfM3.000280\t6\n",
      "\n",
      "['EfM3.000280', '6']\n",
      "EfM3.000290\t68\n",
      "\n",
      "['EfM3.000290', '68']\n",
      "EfM3.000300\t24\n",
      "\n",
      "['EfM3.000300', '24']\n",
      "EfM3.000310\t85\n",
      "\n",
      "['EfM3.000310', '85']\n",
      "EfM3.000320\t36\n",
      "\n",
      "['EfM3.000320', '36']\n",
      "EfM3.000330\t142\n",
      "\n",
      "['EfM3.000330', '142']\n",
      "EfM3.000340\t107\n",
      "\n",
      "['EfM3.000340', '107']\n",
      "EfM3.000350\t134\n",
      "\n",
      "['EfM3.000350', '134']\n",
      "EfM3.000360\t322\n",
      "\n",
      "['EfM3.000360', '322']\n",
      "EfM3.000370\t147\n",
      "\n",
      "['EfM3.000370', '147']\n",
      "EfM3.000380\t3\n",
      "\n",
      "['EfM3.000380', '3']\n",
      "EfM3.000390\t333\n",
      "\n",
      "['EfM3.000390', '333']\n",
      "EfM3.000400\t237\n",
      "\n",
      "['EfM3.000400', '237']\n",
      "EfM3.000410\t25\n",
      "\n",
      "['EfM3.000410', '25']\n",
      "EfM3.000420\t35\n",
      "\n",
      "['EfM3.000420', '35']\n",
      "EfM3.000430\t314\n",
      "\n",
      "['EfM3.000430', '314']\n",
      "EfM3.000440\t214\n",
      "\n",
      "['EfM3.000440', '214']\n",
      "EfM3.000450\t8\n",
      "\n",
      "['EfM3.000450', '8']\n",
      "EfM3.000460\t42\n",
      "\n",
      "['EfM3.000460', '42']\n",
      "EfM3.000470\t38\n",
      "\n",
      "['EfM3.000470', '38']\n",
      "EfM3.000480\t78\n",
      "\n",
      "['EfM3.000480', '78']\n",
      "EfM3.000490\t127\n",
      "\n",
      "['EfM3.000490', '127']\n",
      "EfM3.000500\t125\n",
      "\n",
      "['EfM3.000500', '125']\n",
      "EfM3.000510\t228\n",
      "\n",
      "['EfM3.000510', '228']\n",
      "EfM3.000520\t416\n",
      "\n",
      "['EfM3.000520', '416']\n",
      "EfM3.000530\t626\n",
      "\n",
      "['EfM3.000530', '626']\n",
      "EfM3.000540\t207\n",
      "\n",
      "['EfM3.000540', '207']\n",
      "EfM3.000550\t12\n",
      "\n",
      "['EfM3.000550', '12']\n",
      "EfM3.000560\t168\n",
      "\n",
      "['EfM3.000560', '168']\n",
      "EfM3.000570\t524\n",
      "\n",
      "['EfM3.000570', '524']\n",
      "EfM3.000580\t102\n",
      "\n",
      "['EfM3.000580', '102']\n",
      "EfM3.000590\t101\n",
      "\n",
      "['EfM3.000590', '101']\n",
      "EfM3.000600\t207\n",
      "\n",
      "['EfM3.000600', '207']\n",
      "EfM3.000610\t344\n",
      "\n",
      "['EfM3.000610', '344']\n",
      "EfM3.000620\t116\n",
      "\n",
      "['EfM3.000620', '116']\n",
      "EfM3.000630\t109\n",
      "\n",
      "['EfM3.000630', '109']\n",
      "EfM3.000640\t1\n",
      "\n",
      "['EfM3.000640', '1']\n",
      "EfM3.000650\t163\n",
      "\n",
      "['EfM3.000650', '163']\n",
      "EfM3.000660\t18\n",
      "\n",
      "['EfM3.000660', '18']\n",
      "EfM3.000670\t285\n",
      "\n",
      "['EfM3.000670', '285']\n",
      "EfM3.000680\t1\n",
      "\n",
      "['EfM3.000680', '1']\n",
      "EfM3.000690\t295\n",
      "\n",
      "['EfM3.000690', '295']\n",
      "EfM3.000700\t199\n",
      "\n",
      "['EfM3.000700', '199']\n",
      "EfM3.000710\t204\n",
      "\n",
      "['EfM3.000710', '204']\n",
      "EfM3.000720\t366\n",
      "\n",
      "['EfM3.000720', '366']\n",
      "EfM3.000730\t45\n",
      "\n",
      "['EfM3.000730', '45']\n",
      "EfM3.000740\t139\n",
      "\n",
      "['EfM3.000740', '139']\n",
      "EfM3.000750\t41\n",
      "\n",
      "['EfM3.000750', '41']\n",
      "EfM3.000760\t103\n",
      "\n",
      "['EfM3.000760', '103']\n",
      "EfM3.000770\t314\n",
      "\n",
      "['EfM3.000770', '314']\n",
      "EfM3.000780\t66\n",
      "\n",
      "['EfM3.000780', '66']\n",
      "EfM3.000790\t142\n",
      "\n",
      "['EfM3.000790', '142']\n",
      "EfM3.000800\t157\n",
      "\n",
      "['EfM3.000800', '157']\n",
      "EfM3.000810\t24\n",
      "\n",
      "['EfM3.000810', '24']\n",
      "EfM3.000820\t28\n",
      "\n",
      "['EfM3.000820', '28']\n",
      "EfM3.000830\t22\n",
      "\n",
      "['EfM3.000830', '22']\n",
      "EfM3.000840\t64\n",
      "\n",
      "['EfM3.000840', '64']\n",
      "EfM3.000850\t112\n",
      "\n",
      "['EfM3.000850', '112']\n",
      "EfM3.000860\t52\n",
      "\n",
      "['EfM3.000860', '52']\n",
      "EfM3.000870\t86\n",
      "\n",
      "['EfM3.000870', '86']\n",
      "EfM3.000880\t2\n",
      "\n",
      "['EfM3.000880', '2']\n",
      "EfM3.000890\t124\n",
      "\n",
      "['EfM3.000890', '124']\n",
      "EfM3.000900\t77\n",
      "\n",
      "['EfM3.000900', '77']\n",
      "EfM3.000910\t34\n",
      "\n",
      "['EfM3.000910', '34']\n",
      "EfM3.000920\t290\n",
      "\n",
      "['EfM3.000920', '290']\n",
      "EfM3.000930\t909\n",
      "\n",
      "['EfM3.000930', '909']\n",
      "EfM3.000940\t266\n",
      "\n",
      "['EfM3.000940', '266']\n",
      "EfM3.000950\t16\n",
      "\n",
      "['EfM3.000950', '16']\n",
      "EfM3.000960\t130\n",
      "\n",
      "['EfM3.000960', '130']\n",
      "EfM3.000970\t414\n",
      "\n",
      "['EfM3.000970', '414']\n",
      "EfM3.000980\t95\n",
      "\n",
      "['EfM3.000980', '95']\n",
      "EfM3.000990\t336\n",
      "\n",
      "['EfM3.000990', '336']\n",
      "EfM3.001000\t14\n",
      "\n",
      "['EfM3.001000', '14']\n"
     ]
    }
   ],
   "source": [
    "for line in file_handle:\n",
    "    print(line)\n",
    "    print([token.strip() for token in line.split(\"\\t\")])"
   ]
  },
  {
   "cell_type": "code",
   "execution_count": 58,
   "metadata": {},
   "outputs": [
    {
     "data": {
      "text/plain": [
       "['gene\\tsampleA\\n',\n",
       " 'EfM3.000010\\t21\\n',\n",
       " 'EfM3.000020\\t63\\n',\n",
       " 'EfM3.000030\\t42\\n',\n",
       " 'EfM3.000040\\t8\\n',\n",
       " 'EfM3.000050\\t206\\n',\n",
       " 'EfM3.000060\\t202\\n',\n",
       " 'EfM3.000070\\t129\\n',\n",
       " 'EfM3.000080\\t89\\n',\n",
       " 'EfM3.000090\\t11\\n',\n",
       " 'EfM3.000100\\t326\\n',\n",
       " 'EfM3.000110\\t149\\n',\n",
       " 'EfM3.000120\\t51\\n',\n",
       " 'EfM3.000130\\t0\\n',\n",
       " 'EfM3.000140\\t5\\n',\n",
       " 'EfM3.000150\\t77\\n',\n",
       " 'EfM3.000160\\t66\\n',\n",
       " 'EfM3.000170\\t120\\n',\n",
       " 'EfM3.000180\\t14\\n',\n",
       " 'EfM3.000190\\t1060\\n',\n",
       " 'EfM3.000200\\t57\\n',\n",
       " 'EfM3.000210\\t876\\n',\n",
       " 'EfM3.000220\\t1\\n',\n",
       " 'EfM3.000230\\t24\\n',\n",
       " 'EfM3.000240\\t67\\n',\n",
       " 'EfM3.000250\\t4\\n',\n",
       " 'EfM3.000260\\t14\\n',\n",
       " 'EfM3.000270\\t174\\n',\n",
       " 'EfM3.000280\\t6\\n',\n",
       " 'EfM3.000290\\t68\\n',\n",
       " 'EfM3.000300\\t24\\n',\n",
       " 'EfM3.000310\\t85\\n',\n",
       " 'EfM3.000320\\t36\\n',\n",
       " 'EfM3.000330\\t142\\n',\n",
       " 'EfM3.000340\\t107\\n',\n",
       " 'EfM3.000350\\t134\\n',\n",
       " 'EfM3.000360\\t322\\n',\n",
       " 'EfM3.000370\\t147\\n',\n",
       " 'EfM3.000380\\t3\\n',\n",
       " 'EfM3.000390\\t333\\n',\n",
       " 'EfM3.000400\\t237\\n',\n",
       " 'EfM3.000410\\t25\\n',\n",
       " 'EfM3.000420\\t35\\n',\n",
       " 'EfM3.000430\\t314\\n',\n",
       " 'EfM3.000440\\t214\\n',\n",
       " 'EfM3.000450\\t8\\n',\n",
       " 'EfM3.000460\\t42\\n',\n",
       " 'EfM3.000470\\t38\\n',\n",
       " 'EfM3.000480\\t78\\n',\n",
       " 'EfM3.000490\\t127\\n',\n",
       " 'EfM3.000500\\t125\\n',\n",
       " 'EfM3.000510\\t228\\n',\n",
       " 'EfM3.000520\\t416\\n',\n",
       " 'EfM3.000530\\t626\\n',\n",
       " 'EfM3.000540\\t207\\n',\n",
       " 'EfM3.000550\\t12\\n',\n",
       " 'EfM3.000560\\t168\\n',\n",
       " 'EfM3.000570\\t524\\n',\n",
       " 'EfM3.000580\\t102\\n',\n",
       " 'EfM3.000590\\t101\\n',\n",
       " 'EfM3.000600\\t207\\n',\n",
       " 'EfM3.000610\\t344\\n',\n",
       " 'EfM3.000620\\t116\\n',\n",
       " 'EfM3.000630\\t109\\n',\n",
       " 'EfM3.000640\\t1\\n',\n",
       " 'EfM3.000650\\t163\\n',\n",
       " 'EfM3.000660\\t18\\n',\n",
       " 'EfM3.000670\\t285\\n',\n",
       " 'EfM3.000680\\t1\\n',\n",
       " 'EfM3.000690\\t295\\n',\n",
       " 'EfM3.000700\\t199\\n',\n",
       " 'EfM3.000710\\t204\\n',\n",
       " 'EfM3.000720\\t366\\n',\n",
       " 'EfM3.000730\\t45\\n',\n",
       " 'EfM3.000740\\t139\\n',\n",
       " 'EfM3.000750\\t41\\n',\n",
       " 'EfM3.000760\\t103\\n',\n",
       " 'EfM3.000770\\t314\\n',\n",
       " 'EfM3.000780\\t66\\n',\n",
       " 'EfM3.000790\\t142\\n',\n",
       " 'EfM3.000800\\t157\\n',\n",
       " 'EfM3.000810\\t24\\n',\n",
       " 'EfM3.000820\\t28\\n',\n",
       " 'EfM3.000830\\t22\\n',\n",
       " 'EfM3.000840\\t64\\n',\n",
       " 'EfM3.000850\\t112\\n',\n",
       " 'EfM3.000860\\t52\\n',\n",
       " 'EfM3.000870\\t86\\n',\n",
       " 'EfM3.000880\\t2\\n',\n",
       " 'EfM3.000890\\t124\\n',\n",
       " 'EfM3.000900\\t77\\n',\n",
       " 'EfM3.000910\\t34\\n',\n",
       " 'EfM3.000920\\t290\\n',\n",
       " 'EfM3.000930\\t909\\n',\n",
       " 'EfM3.000940\\t266\\n',\n",
       " 'EfM3.000950\\t16\\n',\n",
       " 'EfM3.000960\\t130\\n',\n",
       " 'EfM3.000970\\t414\\n',\n",
       " 'EfM3.000980\\t95\\n',\n",
       " 'EfM3.000990\\t336\\n',\n",
       " 'EfM3.001000\\t14\\n']"
      ]
     },
     "execution_count": 58,
     "metadata": {},
     "output_type": "execute_result"
    }
   ],
   "source": [
    "file_handle.readlines()\n"
   ]
  },
  {
   "cell_type": "code",
   "execution_count": 59,
   "metadata": {},
   "outputs": [],
   "source": [
    "d = {}"
   ]
  },
  {
   "cell_type": "code",
   "execution_count": 64,
   "metadata": {},
   "outputs": [],
   "source": [
    "d['k'] = \"12\\n\""
   ]
  },
  {
   "cell_type": "code",
   "execution_count": 65,
   "metadata": {},
   "outputs": [
    {
     "data": {
      "text/plain": [
       "{'k': '12\\n'}"
      ]
     },
     "execution_count": 65,
     "metadata": {},
     "output_type": "execute_result"
    }
   ],
   "source": [
    "d"
   ]
  },
  {
   "cell_type": "code",
   "execution_count": 66,
   "metadata": {},
   "outputs": [
    {
     "data": {
      "text/plain": [
       "'12\\n12\\n12\\n12\\n12\\n12\\n12\\n'"
      ]
     },
     "execution_count": 66,
     "metadata": {},
     "output_type": "execute_result"
    }
   ],
   "source": [
    "d['k'] * 7"
   ]
  },
  {
   "cell_type": "code",
   "execution_count": 37,
   "metadata": {},
   "outputs": [
    {
     "data": {
      "text/plain": [
       "'gene\\tsampleA\\n'"
      ]
     },
     "execution_count": 37,
     "metadata": {},
     "output_type": "execute_result"
    }
   ],
   "source": [
    "handle = open('sampleA.txt') \n",
    "next(handle)"
   ]
  },
  {
   "cell_type": "code",
   "execution_count": 40,
   "metadata": {},
   "outputs": [
    {
     "name": "stdout",
     "output_type": "stream",
     "text": [
      "{'EfM3.000010': 21, 'EfM3.000020': 63, 'EfM3.000030': 42, 'EfM3.000040': 8, 'EfM3.000050': 206, 'EfM3.000060': 202, 'EfM3.000070': 129, 'EfM3.000080': 89, 'EfM3.000090': 11, 'EfM3.000100': 326, 'EfM3.000110': 149, 'EfM3.000120': 51, 'EfM3.000130': 0, 'EfM3.000140': 5, 'EfM3.000150': 77, 'EfM3.000160': 66, 'EfM3.000170': 120, 'EfM3.000180': 14, 'EfM3.000190': 1060, 'EfM3.000200': 57, 'EfM3.000210': 876, 'EfM3.000220': 1, 'EfM3.000230': 24, 'EfM3.000240': 67, 'EfM3.000250': 4, 'EfM3.000260': 14, 'EfM3.000270': 174, 'EfM3.000280': 6, 'EfM3.000290': 68, 'EfM3.000300': 24, 'EfM3.000310': 85, 'EfM3.000320': 36, 'EfM3.000330': 142, 'EfM3.000340': 107, 'EfM3.000350': 134, 'EfM3.000360': 322, 'EfM3.000370': 147, 'EfM3.000380': 3, 'EfM3.000390': 333, 'EfM3.000400': 237, 'EfM3.000410': 25, 'EfM3.000420': 35, 'EfM3.000430': 314, 'EfM3.000440': 214, 'EfM3.000450': 8, 'EfM3.000460': 42, 'EfM3.000470': 38, 'EfM3.000480': 78, 'EfM3.000490': 127, 'EfM3.000500': 125, 'EfM3.000510': 228, 'EfM3.000520': 416, 'EfM3.000530': 626, 'EfM3.000540': 207, 'EfM3.000550': 12, 'EfM3.000560': 168, 'EfM3.000570': 524, 'EfM3.000580': 102, 'EfM3.000590': 101, 'EfM3.000600': 207, 'EfM3.000610': 344, 'EfM3.000620': 116, 'EfM3.000630': 109, 'EfM3.000640': 1, 'EfM3.000650': 163, 'EfM3.000660': 18, 'EfM3.000670': 285, 'EfM3.000680': 1, 'EfM3.000690': 295, 'EfM3.000700': 199, 'EfM3.000710': 204, 'EfM3.000720': 366, 'EfM3.000730': 45, 'EfM3.000740': 139, 'EfM3.000750': 41, 'EfM3.000760': 103, 'EfM3.000770': 314, 'EfM3.000780': 66, 'EfM3.000790': 142, 'EfM3.000800': 157, 'EfM3.000810': 24, 'EfM3.000820': 28, 'EfM3.000830': 22, 'EfM3.000840': 64, 'EfM3.000850': 112, 'EfM3.000860': 52, 'EfM3.000870': 86, 'EfM3.000880': 2, 'EfM3.000890': 124, 'EfM3.000900': 77, 'EfM3.000910': 34, 'EfM3.000920': 290, 'EfM3.000930': 909, 'EfM3.000940': 266, 'EfM3.000950': 16, 'EfM3.000960': 130, 'EfM3.000970': 414, 'EfM3.000980': 95, 'EfM3.000990': 336, 'EfM3.001000': 14}\n"
     ]
    }
   ],
   "source": [
    "#take .txt files and convert to dictionary form so we can access the values(read counts)\n",
    "read_count_dict = {}\n",
    "with open('sampleA.txt') as a:\n",
    "    next(a) #skipping the header\n",
    "    for line in a:\n",
    "        (k, v) = line.split('\\t')\n",
    "        read_count_dict[k.strip()] = int(v.strip())\n",
    "print(read_count_dict)"
   ]
  },
  {
   "cell_type": "code",
   "execution_count": 41,
   "metadata": {},
   "outputs": [
    {
     "data": {
      "text/plain": [
       "dict_values([21, 63, 42, 8, 206, 202, 129, 89, 11, 326, 149, 51, 0, 5, 77, 66, 120, 14, 1060, 57, 876, 1, 24, 67, 4, 14, 174, 6, 68, 24, 85, 36, 142, 107, 134, 322, 147, 3, 333, 237, 25, 35, 314, 214, 8, 42, 38, 78, 127, 125, 228, 416, 626, 207, 12, 168, 524, 102, 101, 207, 344, 116, 109, 1, 163, 18, 285, 1, 295, 199, 204, 366, 45, 139, 41, 103, 314, 66, 142, 157, 24, 28, 22, 64, 112, 52, 86, 2, 124, 77, 34, 290, 909, 266, 16, 130, 414, 95, 336, 14])"
      ]
     },
     "execution_count": 41,
     "metadata": {},
     "output_type": "execute_result"
    }
   ],
   "source": [
    "read_count_dict.values()"
   ]
  },
  {
   "cell_type": "code",
   "execution_count": 42,
   "metadata": {},
   "outputs": [
    {
     "ename": "SyntaxError",
     "evalue": "invalid syntax (<ipython-input-42-8151fb44bb2e>, line 7)",
     "output_type": "error",
     "traceback": [
      "\u001b[0;36m  File \u001b[0;32m\"<ipython-input-42-8151fb44bb2e>\"\u001b[0;36m, line \u001b[0;32m7\u001b[0m\n\u001b[0;31m    print \"k:\" + str(k.strip()) + \"v:\" + str(v.strip()) #never mind. sorted in the cell above. this line is python2\u001b[0m\n\u001b[0m             ^\u001b[0m\n\u001b[0;31mSyntaxError\u001b[0m\u001b[0;31m:\u001b[0m invalid syntax\n"
     ]
    }
   ],
   "source": [
    "#get v to be an int not str\n",
    "dict = {}\n",
    "with open('sampleA.txt') as a:\n",
    "    for line in a:\n",
    "        (k, v) = line.split('\\t')\n",
    "        #dict[k.strip()] = int(v.strip())\n",
    "        print \"k:\" + str(k.strip()) + \"v:\" + str(v.strip()) #never mind. sorted in the cell above. this line is python2"
   ]
  },
  {
   "cell_type": "code",
   "execution_count": 14,
   "metadata": {},
   "outputs": [
    {
     "data": {
      "text/plain": [
       "'sampleA\\n'"
      ]
     },
     "execution_count": 14,
     "metadata": {},
     "output_type": "execute_result"
    }
   ],
   "source": [
    "v"
   ]
  },
  {
   "cell_type": "code",
   "execution_count": 15,
   "metadata": {},
   "outputs": [
    {
     "data": {
      "text/plain": [
       "{}"
      ]
     },
     "execution_count": 15,
     "metadata": {},
     "output_type": "execute_result"
    }
   ],
   "source": [
    "dict"
   ]
  },
  {
   "cell_type": "code",
   "execution_count": 22,
   "metadata": {},
   "outputs": [
    {
     "data": {
      "text/plain": [
       "dict_keys([])"
      ]
     },
     "execution_count": 22,
     "metadata": {},
     "output_type": "execute_result"
    }
   ],
   "source": [
    "dict.keys()"
   ]
  },
  {
   "cell_type": "code",
   "execution_count": 19,
   "metadata": {},
   "outputs": [
    {
     "ename": "SyntaxError",
     "evalue": "invalid syntax (<ipython-input-19-ee255f4a360c>, line 1)",
     "output_type": "error",
     "traceback": [
      "\u001b[0;36m  File \u001b[0;32m\"<ipython-input-19-ee255f4a360c>\"\u001b[0;36m, line \u001b[0;32m1\u001b[0m\n\u001b[0;31m    print 'k:' + str(k.strip()) + 'v:' + str(v.strip())\u001b[0m\n\u001b[0m             ^\u001b[0m\n\u001b[0;31mSyntaxError\u001b[0m\u001b[0;31m:\u001b[0m invalid syntax\n"
     ]
    }
   ],
   "source": [
    "print 'k:' + str(k.strip()) + 'v:' + str(v.strip())"
   ]
  },
  {
   "cell_type": "code",
   "execution_count": 62,
   "metadata": {},
   "outputs": [],
   "source": [
    "def tsv_to_dict(tsv_file):\n",
    "    \"\"\"takes a tsv file and reads it as a dictionary\n",
    "    tsv_file : input tsv file\n",
    "    read_count_dict : ouput dictionary\n",
    "    dictionary keys : gene names\n",
    "    dictionary values : read count (int)\n",
    "    \"\"\"\n",
    "    read_count_dict = {} #initialise dictionary\n",
    "    with open(tsv_file) as f:\n",
    "        next(f) #skipping the header\n",
    "        for line in f:\n",
    "            (k, v) = line.split('\\t')\n",
    "            read_count_dict[k.strip()] = int(v.strip())\n",
    "    return(read_count_dict)"
   ]
  },
  {
   "cell_type": "code",
   "execution_count": 47,
   "metadata": {},
   "outputs": [],
   "source": [
    "tsv_file = 'sampleA.txt'"
   ]
  },
  {
   "cell_type": "code",
   "execution_count": 50,
   "metadata": {},
   "outputs": [],
   "source": [
    "read_count_dict = 'practice_dictionary'"
   ]
  },
  {
   "cell_type": "code",
   "execution_count": 51,
   "metadata": {},
   "outputs": [
    {
     "name": "stdout",
     "output_type": "stream",
     "text": [
      "{'EfM3.000010': 21, 'EfM3.000020': 63, 'EfM3.000030': 42, 'EfM3.000040': 8, 'EfM3.000050': 206, 'EfM3.000060': 202, 'EfM3.000070': 129, 'EfM3.000080': 89, 'EfM3.000090': 11, 'EfM3.000100': 326, 'EfM3.000110': 149, 'EfM3.000120': 51, 'EfM3.000130': 0, 'EfM3.000140': 5, 'EfM3.000150': 77, 'EfM3.000160': 66, 'EfM3.000170': 120, 'EfM3.000180': 14, 'EfM3.000190': 1060, 'EfM3.000200': 57, 'EfM3.000210': 876, 'EfM3.000220': 1, 'EfM3.000230': 24, 'EfM3.000240': 67, 'EfM3.000250': 4, 'EfM3.000260': 14, 'EfM3.000270': 174, 'EfM3.000280': 6, 'EfM3.000290': 68, 'EfM3.000300': 24, 'EfM3.000310': 85, 'EfM3.000320': 36, 'EfM3.000330': 142, 'EfM3.000340': 107, 'EfM3.000350': 134, 'EfM3.000360': 322, 'EfM3.000370': 147, 'EfM3.000380': 3, 'EfM3.000390': 333, 'EfM3.000400': 237, 'EfM3.000410': 25, 'EfM3.000420': 35, 'EfM3.000430': 314, 'EfM3.000440': 214, 'EfM3.000450': 8, 'EfM3.000460': 42, 'EfM3.000470': 38, 'EfM3.000480': 78, 'EfM3.000490': 127, 'EfM3.000500': 125, 'EfM3.000510': 228, 'EfM3.000520': 416, 'EfM3.000530': 626, 'EfM3.000540': 207, 'EfM3.000550': 12, 'EfM3.000560': 168, 'EfM3.000570': 524, 'EfM3.000580': 102, 'EfM3.000590': 101, 'EfM3.000600': 207, 'EfM3.000610': 344, 'EfM3.000620': 116, 'EfM3.000630': 109, 'EfM3.000640': 1, 'EfM3.000650': 163, 'EfM3.000660': 18, 'EfM3.000670': 285, 'EfM3.000680': 1, 'EfM3.000690': 295, 'EfM3.000700': 199, 'EfM3.000710': 204, 'EfM3.000720': 366, 'EfM3.000730': 45, 'EfM3.000740': 139, 'EfM3.000750': 41, 'EfM3.000760': 103, 'EfM3.000770': 314, 'EfM3.000780': 66, 'EfM3.000790': 142, 'EfM3.000800': 157, 'EfM3.000810': 24, 'EfM3.000820': 28, 'EfM3.000830': 22, 'EfM3.000840': 64, 'EfM3.000850': 112, 'EfM3.000860': 52, 'EfM3.000870': 86, 'EfM3.000880': 2, 'EfM3.000890': 124, 'EfM3.000900': 77, 'EfM3.000910': 34, 'EfM3.000920': 290, 'EfM3.000930': 909, 'EfM3.000940': 266, 'EfM3.000950': 16, 'EfM3.000960': 130, 'EfM3.000970': 414, 'EfM3.000980': 95, 'EfM3.000990': 336, 'EfM3.001000': 14}\n"
     ]
    }
   ],
   "source": [
    "read_count_dict = {} #initialise dictionary\n",
    "with open(tsv_file) as f:\n",
    "    next(f) #skipping the header\n",
    "    for line in f:\n",
    "        (k, v) = line.split('\\t')\n",
    "        read_count_dict[k.strip()] = int(v.strip())\n",
    "print(read_count_dict)"
   ]
  },
  {
   "cell_type": "code",
   "execution_count": 64,
   "metadata": {},
   "outputs": [],
   "source": [
    "res = tsv_to_dict('sampleA.txt')"
   ]
  },
  {
   "cell_type": "code",
   "execution_count": 65,
   "metadata": {},
   "outputs": [
    {
     "data": {
      "text/plain": [
       "163"
      ]
     },
     "execution_count": 65,
     "metadata": {},
     "output_type": "execute_result"
    }
   ],
   "source": [
    "res['EfM3.000650']"
   ]
  },
  {
   "cell_type": "code",
   "execution_count": 66,
   "metadata": {},
   "outputs": [],
   "source": [
    "res_b = tsv_to_dict('sampleB.txt')"
   ]
  },
  {
   "cell_type": "code",
   "execution_count": 67,
   "metadata": {},
   "outputs": [
    {
     "data": {
      "text/plain": [
       "100"
      ]
     },
     "execution_count": 67,
     "metadata": {},
     "output_type": "execute_result"
    }
   ],
   "source": [
    "res_b['EfM3.000650']"
   ]
  },
  {
   "cell_type": "code",
   "execution_count": 102,
   "metadata": {},
   "outputs": [],
   "source": [
    "#write a function to iterate over every value from tsv_file_a and tsv_file_b (use dict.values)\n",
    "#and find the difference between the read counts for every gene\n",
    "def read_counts_diff(dict_a, dict_b): #some code modified from stackoverflow @slearner\n",
    "    \"\"\"write this properly from the # above when I know exactly what I'm talking about\"\"\"\n",
    "    #iterate over every key with .keys\n",
    "    output_dict = {}\n",
    "    for k in dict_a.keys():\n",
    "        if k in dict_b.keys():\n",
    "            output_dict[k] = abs(dict_a[k] - dict_b[k])\n",
    "    return(output_dict) #now what I actually want to put in dictionary is chi squared results"
   ]
  },
  {
   "cell_type": "code",
   "execution_count": 106,
   "metadata": {},
   "outputs": [
    {
     "data": {
      "text/plain": [
       "{'EfM3.000010': 13,\n",
       " 'EfM3.000020': 49,\n",
       " 'EfM3.000030': 35,\n",
       " 'EfM3.000040': 5,\n",
       " 'EfM3.000050': 165,\n",
       " 'EfM3.000060': 125,\n",
       " 'EfM3.000070': 33,\n",
       " 'EfM3.000080': 34,\n",
       " 'EfM3.000090': 6,\n",
       " 'EfM3.000100': 211,\n",
       " 'EfM3.000110': 97,\n",
       " 'EfM3.000120': 39,\n",
       " 'EfM3.000130': 0,\n",
       " 'EfM3.000140': 4,\n",
       " 'EfM3.000150': 37,\n",
       " 'EfM3.000160': 39,\n",
       " 'EfM3.000170': 95,\n",
       " 'EfM3.000180': 9,\n",
       " 'EfM3.000190': 929,\n",
       " 'EfM3.000200': 29,\n",
       " 'EfM3.000210': 747,\n",
       " 'EfM3.000220': 1,\n",
       " 'EfM3.000230': 19,\n",
       " 'EfM3.000240': 35,\n",
       " 'EfM3.000250': 1,\n",
       " 'EfM3.000260': 4,\n",
       " 'EfM3.000270': 111,\n",
       " 'EfM3.000280': 5,\n",
       " 'EfM3.000290': 22,\n",
       " 'EfM3.000300': 6,\n",
       " 'EfM3.000310': 46,\n",
       " 'EfM3.000320': 22,\n",
       " 'EfM3.000330': 85,\n",
       " 'EfM3.000340': 71,\n",
       " 'EfM3.000350': 69,\n",
       " 'EfM3.000360': 122,\n",
       " 'EfM3.000370': 97,\n",
       " 'EfM3.000380': 13,\n",
       " 'EfM3.000390': 232,\n",
       " 'EfM3.000400': 92,\n",
       " 'EfM3.000410': 21,\n",
       " 'EfM3.000420': 26,\n",
       " 'EfM3.000430': 281,\n",
       " 'EfM3.000440': 67,\n",
       " 'EfM3.000450': 3,\n",
       " 'EfM3.000460': 10,\n",
       " 'EfM3.000470': 17,\n",
       " 'EfM3.000480': 42,\n",
       " 'EfM3.000490': 85,\n",
       " 'EfM3.000500': 82,\n",
       " 'EfM3.000510': 100,\n",
       " 'EfM3.000520': 157,\n",
       " 'EfM3.000530': 379,\n",
       " 'EfM3.000540': 104,\n",
       " 'EfM3.000550': 4,\n",
       " 'EfM3.000560': 117,\n",
       " 'EfM3.000570': 412,\n",
       " 'EfM3.000580': 65,\n",
       " 'EfM3.000590': 27,\n",
       " 'EfM3.000600': 144,\n",
       " 'EfM3.000610': 270,\n",
       " 'EfM3.000620': 53,\n",
       " 'EfM3.000630': 72,\n",
       " 'EfM3.000640': 1,\n",
       " 'EfM3.000650': 63,\n",
       " 'EfM3.000660': 10,\n",
       " 'EfM3.000670': 99,\n",
       " 'EfM3.000680': 0,\n",
       " 'EfM3.000690': 203,\n",
       " 'EfM3.000700': 125,\n",
       " 'EfM3.000710': 148,\n",
       " 'EfM3.000720': 228,\n",
       " 'EfM3.000730': 32,\n",
       " 'EfM3.000740': 35,\n",
       " 'EfM3.000750': 11,\n",
       " 'EfM3.000760': 54,\n",
       " 'EfM3.000770': 211,\n",
       " 'EfM3.000780': 34,\n",
       " 'EfM3.000790': 8,\n",
       " 'EfM3.000800': 116,\n",
       " 'EfM3.000810': 17,\n",
       " 'EfM3.000820': 8,\n",
       " 'EfM3.000830': 0,\n",
       " 'EfM3.000840': 35,\n",
       " 'EfM3.000850': 52,\n",
       " 'EfM3.000860': 23,\n",
       " 'EfM3.000870': 54,\n",
       " 'EfM3.000880': 7,\n",
       " 'EfM3.000890': 51,\n",
       " 'EfM3.000900': 57,\n",
       " 'EfM3.000910': 15,\n",
       " 'EfM3.000920': 186,\n",
       " 'EfM3.000930': 643,\n",
       " 'EfM3.000940': 192,\n",
       " 'EfM3.000950': 15,\n",
       " 'EfM3.000960': 101,\n",
       " 'EfM3.000970': 188,\n",
       " 'EfM3.000980': 42,\n",
       " 'EfM3.000990': 200,\n",
       " 'EfM3.001000': 5}"
      ]
     },
     "execution_count": 106,
     "metadata": {},
     "output_type": "execute_result"
    }
   ],
   "source": [
    "read_counts_diff(res, res_b)"
   ]
  },
  {
   "cell_type": "code",
   "execution_count": 107,
   "metadata": {},
   "outputs": [],
   "source": [
    "#write a function to iterate over every value from tsv_file_a and tsv_file_b (use dict.values)\n",
    "#and find the difference between the read counts for every gene\n",
    "def read_counts_diff(dict_a, dict_b): #some code modified from stackoverflow @slearner\n",
    "    \"\"\"write this properly from the # above when I know exactly what I'm talking about\"\"\"\n",
    "    #iterate over every key with .keys\n",
    "    output_dict = {}\n",
    "    for k in dict_a.keys():\n",
    "        if k in dict_b.keys():\n",
    "            output_dict[k] = abs(dict_a[k] - dict_b[k])\n",
    "    return(output_dict) #now what I actually want to put in dictionary is chi squared results"
   ]
  },
  {
   "cell_type": "code",
   "execution_count": 117,
   "metadata": {},
   "outputs": [],
   "source": [
    "from scipy.stats import chi2_contingency\n",
    "import numpy as np"
   ]
  },
  {
   "cell_type": "code",
   "execution_count": 118,
   "metadata": {},
   "outputs": [
    {
     "data": {
      "text/plain": [
       "<function scipy.stats.contingency.chi2_contingency>"
      ]
     },
     "execution_count": 118,
     "metadata": {},
     "output_type": "execute_result"
    }
   ],
   "source": [
    "chi2_contingency"
   ]
  },
  {
   "cell_type": "code",
   "execution_count": 119,
   "metadata": {},
   "outputs": [
    {
     "data": {
      "text/plain": [
       "(2.7777777777777777, 0.24935220877729622, 2, array([[ 12.,  12.,  16.],\n",
       "        [ 18.,  18.,  24.]]))"
      ]
     },
     "execution_count": 119,
     "metadata": {},
     "output_type": "execute_result"
    }
   ],
   "source": [
    "from scipy.stats import chi2_contingency\n",
    "obs = np.array([[10, 10, 20], [20, 20, 20]]) # 2C 3R\n",
    "chi2_contingency(obs) #get data out we want from output and fit data into contingency"
   ]
  },
  {
   "cell_type": "code",
   "execution_count": null,
   "metadata": {},
   "outputs": [],
   "source": []
  }
 ],
 "metadata": {
  "kernelspec": {
   "display_name": "Python 3",
   "language": "python",
   "name": "python3"
  },
  "language_info": {
   "codemirror_mode": {
    "name": "ipython",
    "version": 3
   },
   "file_extension": ".py",
   "mimetype": "text/x-python",
   "name": "python",
   "nbconvert_exporter": "python",
   "pygments_lexer": "ipython3",
   "version": "3.6.7"
  }
 },
 "nbformat": 4,
 "nbformat_minor": 2
}
