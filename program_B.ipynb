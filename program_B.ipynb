{
 "cells": [
  {
   "cell_type": "code",
   "execution_count": 2,
   "metadata": {},
   "outputs": [
    {
     "ename": "NameError",
     "evalue": "name 'file_name' is not defined",
     "output_type": "error",
     "traceback": [
      "\u001b[0;31m---------------------------------------------------------------------------\u001b[0m",
      "\u001b[0;31mNameError\u001b[0m                                 Traceback (most recent call last)",
      "\u001b[0;32m<ipython-input-2-b06543927ef8>\u001b[0m in \u001b[0;36m<module>\u001b[0;34m()\u001b[0m\n\u001b[0;32m----> 1\u001b[0;31m \u001b[0mread_file\u001b[0m \u001b[0;34m=\u001b[0m \u001b[0mopen\u001b[0m\u001b[0;34m(\u001b[0m\u001b[0mfile_name\u001b[0m\u001b[0;34m,\u001b[0m \u001b[0;34m\"r\"\u001b[0m\u001b[0;34m)\u001b[0m\u001b[0;34m\u001b[0m\u001b[0;34m\u001b[0m\u001b[0m\n\u001b[0m",
      "\u001b[0;31mNameError\u001b[0m: name 'file_name' is not defined"
     ]
    }
   ],
   "source": [
    "read_file = open(file_name, \"r\")"
   ]
  },
  {
   "cell_type": "code",
   "execution_count": 3,
   "metadata": {},
   "outputs": [
    {
     "name": "stdout",
     "output_type": "stream",
     "text": [
      "LICENSE  program_B.Rproj  \u001b[0m\u001b[01;34mraw_data\u001b[0m/  rstudio_programB.R  Untitled.ipynb\r\n"
     ]
    }
   ],
   "source": [
    "ls"
   ]
  },
  {
   "cell_type": "code",
   "execution_count": 13,
   "metadata": {},
   "outputs": [
    {
     "name": "stdout",
     "output_type": "stream",
     "text": [
      "/home/anna/Desktop/program_B\n"
     ]
    }
   ],
   "source": [
    "cd .."
   ]
  },
  {
   "cell_type": "code",
   "execution_count": 5,
   "metadata": {},
   "outputs": [
    {
     "name": "stdout",
     "output_type": "stream",
     "text": [
      "sampleA.txt  sampleBprime.txt  sampleB.txt\r\n"
     ]
    }
   ],
   "source": [
    "ls"
   ]
  },
  {
   "cell_type": "code",
   "execution_count": 36,
   "metadata": {},
   "outputs": [],
   "source": [
    "def read_file(txt_file):\n",
    "    \"\"\"read in .txt files\"\"\"\n",
    "    with open(txt_file, 'r') as f:\n",
    "        print(f)\n",
    "        "
   ]
  },
  {
   "cell_type": "code",
   "execution_count": 33,
   "metadata": {},
   "outputs": [
    {
     "name": "stdout",
     "output_type": "stream",
     "text": [
      "sampleA.txt  sampleBprime.txt  sampleB.txt\r\n"
     ]
    }
   ],
   "source": [
    "ls"
   ]
  },
  {
   "cell_type": "code",
   "execution_count": 34,
   "metadata": {},
   "outputs": [],
   "source": [
    "txt_file = 'sampleA.txt'"
   ]
  },
  {
   "cell_type": "code",
   "execution_count": 37,
   "metadata": {},
   "outputs": [
    {
     "name": "stdout",
     "output_type": "stream",
     "text": [
      "<_io.TextIOWrapper name='sampleA.txt' mode='r' encoding='UTF-8'>\n"
     ]
    }
   ],
   "source": [
    "read_file(txt_file)"
   ]
  },
  {
   "cell_type": "code",
   "execution_count": 57,
   "metadata": {},
   "outputs": [],
   "source": [
    "file_handle = open(txt_file, 'r')"
   ]
  },
  {
   "cell_type": "code",
   "execution_count": 56,
   "metadata": {},
   "outputs": [
    {
     "name": "stdout",
     "output_type": "stream",
     "text": [
      "gene\tsampleA\n",
      "\n",
      "['gene', 'sampleA']\n",
      "EfM3.000010\t21\n",
      "\n",
      "['EfM3.000010', '21']\n",
      "EfM3.000020\t63\n",
      "\n",
      "['EfM3.000020', '63']\n",
      "EfM3.000030\t42\n",
      "\n",
      "['EfM3.000030', '42']\n",
      "EfM3.000040\t8\n",
      "\n",
      "['EfM3.000040', '8']\n",
      "EfM3.000050\t206\n",
      "\n",
      "['EfM3.000050', '206']\n",
      "EfM3.000060\t202\n",
      "\n",
      "['EfM3.000060', '202']\n",
      "EfM3.000070\t129\n",
      "\n",
      "['EfM3.000070', '129']\n",
      "EfM3.000080\t89\n",
      "\n",
      "['EfM3.000080', '89']\n",
      "EfM3.000090\t11\n",
      "\n",
      "['EfM3.000090', '11']\n",
      "EfM3.000100\t326\n",
      "\n",
      "['EfM3.000100', '326']\n",
      "EfM3.000110\t149\n",
      "\n",
      "['EfM3.000110', '149']\n",
      "EfM3.000120\t51\n",
      "\n",
      "['EfM3.000120', '51']\n",
      "EfM3.000130\t0\n",
      "\n",
      "['EfM3.000130', '0']\n",
      "EfM3.000140\t5\n",
      "\n",
      "['EfM3.000140', '5']\n",
      "EfM3.000150\t77\n",
      "\n",
      "['EfM3.000150', '77']\n",
      "EfM3.000160\t66\n",
      "\n",
      "['EfM3.000160', '66']\n",
      "EfM3.000170\t120\n",
      "\n",
      "['EfM3.000170', '120']\n",
      "EfM3.000180\t14\n",
      "\n",
      "['EfM3.000180', '14']\n",
      "EfM3.000190\t1060\n",
      "\n",
      "['EfM3.000190', '1060']\n",
      "EfM3.000200\t57\n",
      "\n",
      "['EfM3.000200', '57']\n",
      "EfM3.000210\t876\n",
      "\n",
      "['EfM3.000210', '876']\n",
      "EfM3.000220\t1\n",
      "\n",
      "['EfM3.000220', '1']\n",
      "EfM3.000230\t24\n",
      "\n",
      "['EfM3.000230', '24']\n",
      "EfM3.000240\t67\n",
      "\n",
      "['EfM3.000240', '67']\n",
      "EfM3.000250\t4\n",
      "\n",
      "['EfM3.000250', '4']\n",
      "EfM3.000260\t14\n",
      "\n",
      "['EfM3.000260', '14']\n",
      "EfM3.000270\t174\n",
      "\n",
      "['EfM3.000270', '174']\n",
      "EfM3.000280\t6\n",
      "\n",
      "['EfM3.000280', '6']\n",
      "EfM3.000290\t68\n",
      "\n",
      "['EfM3.000290', '68']\n",
      "EfM3.000300\t24\n",
      "\n",
      "['EfM3.000300', '24']\n",
      "EfM3.000310\t85\n",
      "\n",
      "['EfM3.000310', '85']\n",
      "EfM3.000320\t36\n",
      "\n",
      "['EfM3.000320', '36']\n",
      "EfM3.000330\t142\n",
      "\n",
      "['EfM3.000330', '142']\n",
      "EfM3.000340\t107\n",
      "\n",
      "['EfM3.000340', '107']\n",
      "EfM3.000350\t134\n",
      "\n",
      "['EfM3.000350', '134']\n",
      "EfM3.000360\t322\n",
      "\n",
      "['EfM3.000360', '322']\n",
      "EfM3.000370\t147\n",
      "\n",
      "['EfM3.000370', '147']\n",
      "EfM3.000380\t3\n",
      "\n",
      "['EfM3.000380', '3']\n",
      "EfM3.000390\t333\n",
      "\n",
      "['EfM3.000390', '333']\n",
      "EfM3.000400\t237\n",
      "\n",
      "['EfM3.000400', '237']\n",
      "EfM3.000410\t25\n",
      "\n",
      "['EfM3.000410', '25']\n",
      "EfM3.000420\t35\n",
      "\n",
      "['EfM3.000420', '35']\n",
      "EfM3.000430\t314\n",
      "\n",
      "['EfM3.000430', '314']\n",
      "EfM3.000440\t214\n",
      "\n",
      "['EfM3.000440', '214']\n",
      "EfM3.000450\t8\n",
      "\n",
      "['EfM3.000450', '8']\n",
      "EfM3.000460\t42\n",
      "\n",
      "['EfM3.000460', '42']\n",
      "EfM3.000470\t38\n",
      "\n",
      "['EfM3.000470', '38']\n",
      "EfM3.000480\t78\n",
      "\n",
      "['EfM3.000480', '78']\n",
      "EfM3.000490\t127\n",
      "\n",
      "['EfM3.000490', '127']\n",
      "EfM3.000500\t125\n",
      "\n",
      "['EfM3.000500', '125']\n",
      "EfM3.000510\t228\n",
      "\n",
      "['EfM3.000510', '228']\n",
      "EfM3.000520\t416\n",
      "\n",
      "['EfM3.000520', '416']\n",
      "EfM3.000530\t626\n",
      "\n",
      "['EfM3.000530', '626']\n",
      "EfM3.000540\t207\n",
      "\n",
      "['EfM3.000540', '207']\n",
      "EfM3.000550\t12\n",
      "\n",
      "['EfM3.000550', '12']\n",
      "EfM3.000560\t168\n",
      "\n",
      "['EfM3.000560', '168']\n",
      "EfM3.000570\t524\n",
      "\n",
      "['EfM3.000570', '524']\n",
      "EfM3.000580\t102\n",
      "\n",
      "['EfM3.000580', '102']\n",
      "EfM3.000590\t101\n",
      "\n",
      "['EfM3.000590', '101']\n",
      "EfM3.000600\t207\n",
      "\n",
      "['EfM3.000600', '207']\n",
      "EfM3.000610\t344\n",
      "\n",
      "['EfM3.000610', '344']\n",
      "EfM3.000620\t116\n",
      "\n",
      "['EfM3.000620', '116']\n",
      "EfM3.000630\t109\n",
      "\n",
      "['EfM3.000630', '109']\n",
      "EfM3.000640\t1\n",
      "\n",
      "['EfM3.000640', '1']\n",
      "EfM3.000650\t163\n",
      "\n",
      "['EfM3.000650', '163']\n",
      "EfM3.000660\t18\n",
      "\n",
      "['EfM3.000660', '18']\n",
      "EfM3.000670\t285\n",
      "\n",
      "['EfM3.000670', '285']\n",
      "EfM3.000680\t1\n",
      "\n",
      "['EfM3.000680', '1']\n",
      "EfM3.000690\t295\n",
      "\n",
      "['EfM3.000690', '295']\n",
      "EfM3.000700\t199\n",
      "\n",
      "['EfM3.000700', '199']\n",
      "EfM3.000710\t204\n",
      "\n",
      "['EfM3.000710', '204']\n",
      "EfM3.000720\t366\n",
      "\n",
      "['EfM3.000720', '366']\n",
      "EfM3.000730\t45\n",
      "\n",
      "['EfM3.000730', '45']\n",
      "EfM3.000740\t139\n",
      "\n",
      "['EfM3.000740', '139']\n",
      "EfM3.000750\t41\n",
      "\n",
      "['EfM3.000750', '41']\n",
      "EfM3.000760\t103\n",
      "\n",
      "['EfM3.000760', '103']\n",
      "EfM3.000770\t314\n",
      "\n",
      "['EfM3.000770', '314']\n",
      "EfM3.000780\t66\n",
      "\n",
      "['EfM3.000780', '66']\n",
      "EfM3.000790\t142\n",
      "\n",
      "['EfM3.000790', '142']\n",
      "EfM3.000800\t157\n",
      "\n",
      "['EfM3.000800', '157']\n",
      "EfM3.000810\t24\n",
      "\n",
      "['EfM3.000810', '24']\n",
      "EfM3.000820\t28\n",
      "\n",
      "['EfM3.000820', '28']\n",
      "EfM3.000830\t22\n",
      "\n",
      "['EfM3.000830', '22']\n",
      "EfM3.000840\t64\n",
      "\n",
      "['EfM3.000840', '64']\n",
      "EfM3.000850\t112\n",
      "\n",
      "['EfM3.000850', '112']\n",
      "EfM3.000860\t52\n",
      "\n",
      "['EfM3.000860', '52']\n",
      "EfM3.000870\t86\n",
      "\n",
      "['EfM3.000870', '86']\n",
      "EfM3.000880\t2\n",
      "\n",
      "['EfM3.000880', '2']\n",
      "EfM3.000890\t124\n",
      "\n",
      "['EfM3.000890', '124']\n",
      "EfM3.000900\t77\n",
      "\n",
      "['EfM3.000900', '77']\n",
      "EfM3.000910\t34\n",
      "\n",
      "['EfM3.000910', '34']\n",
      "EfM3.000920\t290\n",
      "\n",
      "['EfM3.000920', '290']\n",
      "EfM3.000930\t909\n",
      "\n",
      "['EfM3.000930', '909']\n",
      "EfM3.000940\t266\n",
      "\n",
      "['EfM3.000940', '266']\n",
      "EfM3.000950\t16\n",
      "\n",
      "['EfM3.000950', '16']\n",
      "EfM3.000960\t130\n",
      "\n",
      "['EfM3.000960', '130']\n",
      "EfM3.000970\t414\n",
      "\n",
      "['EfM3.000970', '414']\n",
      "EfM3.000980\t95\n",
      "\n",
      "['EfM3.000980', '95']\n",
      "EfM3.000990\t336\n",
      "\n",
      "['EfM3.000990', '336']\n",
      "EfM3.001000\t14\n",
      "\n",
      "['EfM3.001000', '14']\n"
     ]
    }
   ],
   "source": [
    "for line in file_handle:\n",
    "    print(line)\n",
    "    print([token.strip() for token in line.split(\"\\t\")])"
   ]
  },
  {
   "cell_type": "code",
   "execution_count": 58,
   "metadata": {},
   "outputs": [
    {
     "data": {
      "text/plain": [
       "['gene\\tsampleA\\n',\n",
       " 'EfM3.000010\\t21\\n',\n",
       " 'EfM3.000020\\t63\\n',\n",
       " 'EfM3.000030\\t42\\n',\n",
       " 'EfM3.000040\\t8\\n',\n",
       " 'EfM3.000050\\t206\\n',\n",
       " 'EfM3.000060\\t202\\n',\n",
       " 'EfM3.000070\\t129\\n',\n",
       " 'EfM3.000080\\t89\\n',\n",
       " 'EfM3.000090\\t11\\n',\n",
       " 'EfM3.000100\\t326\\n',\n",
       " 'EfM3.000110\\t149\\n',\n",
       " 'EfM3.000120\\t51\\n',\n",
       " 'EfM3.000130\\t0\\n',\n",
       " 'EfM3.000140\\t5\\n',\n",
       " 'EfM3.000150\\t77\\n',\n",
       " 'EfM3.000160\\t66\\n',\n",
       " 'EfM3.000170\\t120\\n',\n",
       " 'EfM3.000180\\t14\\n',\n",
       " 'EfM3.000190\\t1060\\n',\n",
       " 'EfM3.000200\\t57\\n',\n",
       " 'EfM3.000210\\t876\\n',\n",
       " 'EfM3.000220\\t1\\n',\n",
       " 'EfM3.000230\\t24\\n',\n",
       " 'EfM3.000240\\t67\\n',\n",
       " 'EfM3.000250\\t4\\n',\n",
       " 'EfM3.000260\\t14\\n',\n",
       " 'EfM3.000270\\t174\\n',\n",
       " 'EfM3.000280\\t6\\n',\n",
       " 'EfM3.000290\\t68\\n',\n",
       " 'EfM3.000300\\t24\\n',\n",
       " 'EfM3.000310\\t85\\n',\n",
       " 'EfM3.000320\\t36\\n',\n",
       " 'EfM3.000330\\t142\\n',\n",
       " 'EfM3.000340\\t107\\n',\n",
       " 'EfM3.000350\\t134\\n',\n",
       " 'EfM3.000360\\t322\\n',\n",
       " 'EfM3.000370\\t147\\n',\n",
       " 'EfM3.000380\\t3\\n',\n",
       " 'EfM3.000390\\t333\\n',\n",
       " 'EfM3.000400\\t237\\n',\n",
       " 'EfM3.000410\\t25\\n',\n",
       " 'EfM3.000420\\t35\\n',\n",
       " 'EfM3.000430\\t314\\n',\n",
       " 'EfM3.000440\\t214\\n',\n",
       " 'EfM3.000450\\t8\\n',\n",
       " 'EfM3.000460\\t42\\n',\n",
       " 'EfM3.000470\\t38\\n',\n",
       " 'EfM3.000480\\t78\\n',\n",
       " 'EfM3.000490\\t127\\n',\n",
       " 'EfM3.000500\\t125\\n',\n",
       " 'EfM3.000510\\t228\\n',\n",
       " 'EfM3.000520\\t416\\n',\n",
       " 'EfM3.000530\\t626\\n',\n",
       " 'EfM3.000540\\t207\\n',\n",
       " 'EfM3.000550\\t12\\n',\n",
       " 'EfM3.000560\\t168\\n',\n",
       " 'EfM3.000570\\t524\\n',\n",
       " 'EfM3.000580\\t102\\n',\n",
       " 'EfM3.000590\\t101\\n',\n",
       " 'EfM3.000600\\t207\\n',\n",
       " 'EfM3.000610\\t344\\n',\n",
       " 'EfM3.000620\\t116\\n',\n",
       " 'EfM3.000630\\t109\\n',\n",
       " 'EfM3.000640\\t1\\n',\n",
       " 'EfM3.000650\\t163\\n',\n",
       " 'EfM3.000660\\t18\\n',\n",
       " 'EfM3.000670\\t285\\n',\n",
       " 'EfM3.000680\\t1\\n',\n",
       " 'EfM3.000690\\t295\\n',\n",
       " 'EfM3.000700\\t199\\n',\n",
       " 'EfM3.000710\\t204\\n',\n",
       " 'EfM3.000720\\t366\\n',\n",
       " 'EfM3.000730\\t45\\n',\n",
       " 'EfM3.000740\\t139\\n',\n",
       " 'EfM3.000750\\t41\\n',\n",
       " 'EfM3.000760\\t103\\n',\n",
       " 'EfM3.000770\\t314\\n',\n",
       " 'EfM3.000780\\t66\\n',\n",
       " 'EfM3.000790\\t142\\n',\n",
       " 'EfM3.000800\\t157\\n',\n",
       " 'EfM3.000810\\t24\\n',\n",
       " 'EfM3.000820\\t28\\n',\n",
       " 'EfM3.000830\\t22\\n',\n",
       " 'EfM3.000840\\t64\\n',\n",
       " 'EfM3.000850\\t112\\n',\n",
       " 'EfM3.000860\\t52\\n',\n",
       " 'EfM3.000870\\t86\\n',\n",
       " 'EfM3.000880\\t2\\n',\n",
       " 'EfM3.000890\\t124\\n',\n",
       " 'EfM3.000900\\t77\\n',\n",
       " 'EfM3.000910\\t34\\n',\n",
       " 'EfM3.000920\\t290\\n',\n",
       " 'EfM3.000930\\t909\\n',\n",
       " 'EfM3.000940\\t266\\n',\n",
       " 'EfM3.000950\\t16\\n',\n",
       " 'EfM3.000960\\t130\\n',\n",
       " 'EfM3.000970\\t414\\n',\n",
       " 'EfM3.000980\\t95\\n',\n",
       " 'EfM3.000990\\t336\\n',\n",
       " 'EfM3.001000\\t14\\n']"
      ]
     },
     "execution_count": 58,
     "metadata": {},
     "output_type": "execute_result"
    }
   ],
   "source": [
    "file_handle.readlines()\n"
   ]
  },
  {
   "cell_type": "code",
   "execution_count": 59,
   "metadata": {},
   "outputs": [],
   "source": [
    "d = {}"
   ]
  },
  {
   "cell_type": "code",
   "execution_count": 64,
   "metadata": {},
   "outputs": [],
   "source": [
    "d['k'] = \"12\\n\""
   ]
  },
  {
   "cell_type": "code",
   "execution_count": 65,
   "metadata": {},
   "outputs": [
    {
     "data": {
      "text/plain": [
       "{'k': '12\\n'}"
      ]
     },
     "execution_count": 65,
     "metadata": {},
     "output_type": "execute_result"
    }
   ],
   "source": [
    "d"
   ]
  },
  {
   "cell_type": "code",
   "execution_count": 66,
   "metadata": {},
   "outputs": [
    {
     "data": {
      "text/plain": [
       "'12\\n12\\n12\\n12\\n12\\n12\\n12\\n'"
      ]
     },
     "execution_count": 66,
     "metadata": {},
     "output_type": "execute_result"
    }
   ],
   "source": [
    "d['k'] * 7"
   ]
  },
  {
   "cell_type": "code",
   "execution_count": 37,
   "metadata": {},
   "outputs": [
    {
     "data": {
      "text/plain": [
       "'gene\\tsampleA\\n'"
      ]
     },
     "execution_count": 37,
     "metadata": {},
     "output_type": "execute_result"
    }
   ],
   "source": [
    "handle = open('sampleA.txt') \n",
    "next(handle)"
   ]
  },
  {
   "cell_type": "code",
   "execution_count": 40,
   "metadata": {},
   "outputs": [
    {
     "name": "stdout",
     "output_type": "stream",
     "text": [
      "{'EfM3.000010': 21, 'EfM3.000020': 63, 'EfM3.000030': 42, 'EfM3.000040': 8, 'EfM3.000050': 206, 'EfM3.000060': 202, 'EfM3.000070': 129, 'EfM3.000080': 89, 'EfM3.000090': 11, 'EfM3.000100': 326, 'EfM3.000110': 149, 'EfM3.000120': 51, 'EfM3.000130': 0, 'EfM3.000140': 5, 'EfM3.000150': 77, 'EfM3.000160': 66, 'EfM3.000170': 120, 'EfM3.000180': 14, 'EfM3.000190': 1060, 'EfM3.000200': 57, 'EfM3.000210': 876, 'EfM3.000220': 1, 'EfM3.000230': 24, 'EfM3.000240': 67, 'EfM3.000250': 4, 'EfM3.000260': 14, 'EfM3.000270': 174, 'EfM3.000280': 6, 'EfM3.000290': 68, 'EfM3.000300': 24, 'EfM3.000310': 85, 'EfM3.000320': 36, 'EfM3.000330': 142, 'EfM3.000340': 107, 'EfM3.000350': 134, 'EfM3.000360': 322, 'EfM3.000370': 147, 'EfM3.000380': 3, 'EfM3.000390': 333, 'EfM3.000400': 237, 'EfM3.000410': 25, 'EfM3.000420': 35, 'EfM3.000430': 314, 'EfM3.000440': 214, 'EfM3.000450': 8, 'EfM3.000460': 42, 'EfM3.000470': 38, 'EfM3.000480': 78, 'EfM3.000490': 127, 'EfM3.000500': 125, 'EfM3.000510': 228, 'EfM3.000520': 416, 'EfM3.000530': 626, 'EfM3.000540': 207, 'EfM3.000550': 12, 'EfM3.000560': 168, 'EfM3.000570': 524, 'EfM3.000580': 102, 'EfM3.000590': 101, 'EfM3.000600': 207, 'EfM3.000610': 344, 'EfM3.000620': 116, 'EfM3.000630': 109, 'EfM3.000640': 1, 'EfM3.000650': 163, 'EfM3.000660': 18, 'EfM3.000670': 285, 'EfM3.000680': 1, 'EfM3.000690': 295, 'EfM3.000700': 199, 'EfM3.000710': 204, 'EfM3.000720': 366, 'EfM3.000730': 45, 'EfM3.000740': 139, 'EfM3.000750': 41, 'EfM3.000760': 103, 'EfM3.000770': 314, 'EfM3.000780': 66, 'EfM3.000790': 142, 'EfM3.000800': 157, 'EfM3.000810': 24, 'EfM3.000820': 28, 'EfM3.000830': 22, 'EfM3.000840': 64, 'EfM3.000850': 112, 'EfM3.000860': 52, 'EfM3.000870': 86, 'EfM3.000880': 2, 'EfM3.000890': 124, 'EfM3.000900': 77, 'EfM3.000910': 34, 'EfM3.000920': 290, 'EfM3.000930': 909, 'EfM3.000940': 266, 'EfM3.000950': 16, 'EfM3.000960': 130, 'EfM3.000970': 414, 'EfM3.000980': 95, 'EfM3.000990': 336, 'EfM3.001000': 14}\n"
     ]
    }
   ],
   "source": [
    "#take .txt files and convert to dictionary form so we can access the values(read counts)\n",
    "read_count_dict = {}\n",
    "with open('sampleA.txt') as a:\n",
    "    next(a) #skipping the header\n",
    "    for line in a:\n",
    "        (k, v) = line.split('\\t')\n",
    "        read_count_dict[k.strip()] = int(v.strip())\n",
    "print(read_count_dict)"
   ]
  },
  {
   "cell_type": "code",
   "execution_count": 41,
   "metadata": {},
   "outputs": [
    {
     "data": {
      "text/plain": [
       "dict_values([21, 63, 42, 8, 206, 202, 129, 89, 11, 326, 149, 51, 0, 5, 77, 66, 120, 14, 1060, 57, 876, 1, 24, 67, 4, 14, 174, 6, 68, 24, 85, 36, 142, 107, 134, 322, 147, 3, 333, 237, 25, 35, 314, 214, 8, 42, 38, 78, 127, 125, 228, 416, 626, 207, 12, 168, 524, 102, 101, 207, 344, 116, 109, 1, 163, 18, 285, 1, 295, 199, 204, 366, 45, 139, 41, 103, 314, 66, 142, 157, 24, 28, 22, 64, 112, 52, 86, 2, 124, 77, 34, 290, 909, 266, 16, 130, 414, 95, 336, 14])"
      ]
     },
     "execution_count": 41,
     "metadata": {},
     "output_type": "execute_result"
    }
   ],
   "source": [
    "read_count_dict.values()"
   ]
  },
  {
   "cell_type": "code",
   "execution_count": 42,
   "metadata": {},
   "outputs": [
    {
     "ename": "SyntaxError",
     "evalue": "invalid syntax (<ipython-input-42-8151fb44bb2e>, line 7)",
     "output_type": "error",
     "traceback": [
      "\u001b[0;36m  File \u001b[0;32m\"<ipython-input-42-8151fb44bb2e>\"\u001b[0;36m, line \u001b[0;32m7\u001b[0m\n\u001b[0;31m    print \"k:\" + str(k.strip()) + \"v:\" + str(v.strip()) #never mind. sorted in the cell above. this line is python2\u001b[0m\n\u001b[0m             ^\u001b[0m\n\u001b[0;31mSyntaxError\u001b[0m\u001b[0;31m:\u001b[0m invalid syntax\n"
     ]
    }
   ],
   "source": [
    "#get v to be an int not str\n",
    "dict = {}\n",
    "with open('sampleA.txt') as a:\n",
    "    for line in a:\n",
    "        (k, v) = line.split('\\t')\n",
    "        #dict[k.strip()] = int(v.strip())\n",
    "        print \"k:\" + str(k.strip()) + \"v:\" + str(v.strip()) #never mind. sorted in the cell above. this line is python2"
   ]
  },
  {
   "cell_type": "code",
   "execution_count": 14,
   "metadata": {},
   "outputs": [
    {
     "data": {
      "text/plain": [
       "'sampleA\\n'"
      ]
     },
     "execution_count": 14,
     "metadata": {},
     "output_type": "execute_result"
    }
   ],
   "source": [
    "v"
   ]
  },
  {
   "cell_type": "code",
   "execution_count": 15,
   "metadata": {},
   "outputs": [
    {
     "data": {
      "text/plain": [
       "{}"
      ]
     },
     "execution_count": 15,
     "metadata": {},
     "output_type": "execute_result"
    }
   ],
   "source": [
    "dict"
   ]
  },
  {
   "cell_type": "code",
   "execution_count": 22,
   "metadata": {},
   "outputs": [
    {
     "data": {
      "text/plain": [
       "dict_keys([])"
      ]
     },
     "execution_count": 22,
     "metadata": {},
     "output_type": "execute_result"
    }
   ],
   "source": [
    "dict.keys()"
   ]
  },
  {
   "cell_type": "code",
   "execution_count": 19,
   "metadata": {},
   "outputs": [
    {
     "ename": "SyntaxError",
     "evalue": "invalid syntax (<ipython-input-19-ee255f4a360c>, line 1)",
     "output_type": "error",
     "traceback": [
      "\u001b[0;36m  File \u001b[0;32m\"<ipython-input-19-ee255f4a360c>\"\u001b[0;36m, line \u001b[0;32m1\u001b[0m\n\u001b[0;31m    print 'k:' + str(k.strip()) + 'v:' + str(v.strip())\u001b[0m\n\u001b[0m             ^\u001b[0m\n\u001b[0;31mSyntaxError\u001b[0m\u001b[0;31m:\u001b[0m invalid syntax\n"
     ]
    }
   ],
   "source": [
    "print 'k:' + str(k.strip()) + 'v:' + str(v.strip())"
   ]
  },
  {
   "cell_type": "code",
   "execution_count": 62,
   "metadata": {},
   "outputs": [],
   "source": [
    "def tsv_to_dict(tsv_file):\n",
    "    \"\"\"takes a tsv file and reads it as a dictionary\n",
    "    tsv_file : input tsv file\n",
    "    read_count_dict : ouput dictionary\n",
    "    dictionary keys : gene names\n",
    "    dictionary values : read count (int)\n",
    "    \"\"\"\n",
    "    read_count_dict = {} #initialise dictionary\n",
    "    with open(tsv_file) as f:\n",
    "        next(f) #skipping the header\n",
    "        for line in f:\n",
    "            (k, v) = line.split('\\t')\n",
    "            read_count_dict[k.strip()] = int(v.strip())\n",
    "    return(read_count_dict)"
   ]
  },
  {
   "cell_type": "code",
   "execution_count": 47,
   "metadata": {},
   "outputs": [],
   "source": [
    "tsv_file = 'sampleA.txt'"
   ]
  },
  {
   "cell_type": "code",
   "execution_count": 50,
   "metadata": {},
   "outputs": [],
   "source": [
    "read_count_dict = 'practice_dictionary'"
   ]
  },
  {
   "cell_type": "code",
   "execution_count": 51,
   "metadata": {},
   "outputs": [
    {
     "name": "stdout",
     "output_type": "stream",
     "text": [
      "{'EfM3.000010': 21, 'EfM3.000020': 63, 'EfM3.000030': 42, 'EfM3.000040': 8, 'EfM3.000050': 206, 'EfM3.000060': 202, 'EfM3.000070': 129, 'EfM3.000080': 89, 'EfM3.000090': 11, 'EfM3.000100': 326, 'EfM3.000110': 149, 'EfM3.000120': 51, 'EfM3.000130': 0, 'EfM3.000140': 5, 'EfM3.000150': 77, 'EfM3.000160': 66, 'EfM3.000170': 120, 'EfM3.000180': 14, 'EfM3.000190': 1060, 'EfM3.000200': 57, 'EfM3.000210': 876, 'EfM3.000220': 1, 'EfM3.000230': 24, 'EfM3.000240': 67, 'EfM3.000250': 4, 'EfM3.000260': 14, 'EfM3.000270': 174, 'EfM3.000280': 6, 'EfM3.000290': 68, 'EfM3.000300': 24, 'EfM3.000310': 85, 'EfM3.000320': 36, 'EfM3.000330': 142, 'EfM3.000340': 107, 'EfM3.000350': 134, 'EfM3.000360': 322, 'EfM3.000370': 147, 'EfM3.000380': 3, 'EfM3.000390': 333, 'EfM3.000400': 237, 'EfM3.000410': 25, 'EfM3.000420': 35, 'EfM3.000430': 314, 'EfM3.000440': 214, 'EfM3.000450': 8, 'EfM3.000460': 42, 'EfM3.000470': 38, 'EfM3.000480': 78, 'EfM3.000490': 127, 'EfM3.000500': 125, 'EfM3.000510': 228, 'EfM3.000520': 416, 'EfM3.000530': 626, 'EfM3.000540': 207, 'EfM3.000550': 12, 'EfM3.000560': 168, 'EfM3.000570': 524, 'EfM3.000580': 102, 'EfM3.000590': 101, 'EfM3.000600': 207, 'EfM3.000610': 344, 'EfM3.000620': 116, 'EfM3.000630': 109, 'EfM3.000640': 1, 'EfM3.000650': 163, 'EfM3.000660': 18, 'EfM3.000670': 285, 'EfM3.000680': 1, 'EfM3.000690': 295, 'EfM3.000700': 199, 'EfM3.000710': 204, 'EfM3.000720': 366, 'EfM3.000730': 45, 'EfM3.000740': 139, 'EfM3.000750': 41, 'EfM3.000760': 103, 'EfM3.000770': 314, 'EfM3.000780': 66, 'EfM3.000790': 142, 'EfM3.000800': 157, 'EfM3.000810': 24, 'EfM3.000820': 28, 'EfM3.000830': 22, 'EfM3.000840': 64, 'EfM3.000850': 112, 'EfM3.000860': 52, 'EfM3.000870': 86, 'EfM3.000880': 2, 'EfM3.000890': 124, 'EfM3.000900': 77, 'EfM3.000910': 34, 'EfM3.000920': 290, 'EfM3.000930': 909, 'EfM3.000940': 266, 'EfM3.000950': 16, 'EfM3.000960': 130, 'EfM3.000970': 414, 'EfM3.000980': 95, 'EfM3.000990': 336, 'EfM3.001000': 14}\n"
     ]
    }
   ],
   "source": [
    "read_count_dict = {} #initialise dictionary\n",
    "with open(tsv_file) as f:\n",
    "    next(f) #skipping the header\n",
    "    for line in f:\n",
    "        (k, v) = line.split('\\t')\n",
    "        read_count_dict[k.strip()] = int(v.strip())\n",
    "print(read_count_dict)"
   ]
  },
  {
   "cell_type": "code",
   "execution_count": 64,
   "metadata": {},
   "outputs": [],
   "source": [
    "res = tsv_to_dict('sampleA.txt')"
   ]
  },
  {
   "cell_type": "code",
   "execution_count": 65,
   "metadata": {},
   "outputs": [
    {
     "data": {
      "text/plain": [
       "163"
      ]
     },
     "execution_count": 65,
     "metadata": {},
     "output_type": "execute_result"
    }
   ],
   "source": [
    "res['EfM3.000650']"
   ]
  },
  {
   "cell_type": "code",
   "execution_count": 66,
   "metadata": {},
   "outputs": [],
   "source": [
    "res_b = tsv_to_dict('sampleB.txt')"
   ]
  },
  {
   "cell_type": "code",
   "execution_count": 67,
   "metadata": {},
   "outputs": [
    {
     "data": {
      "text/plain": [
       "100"
      ]
     },
     "execution_count": 67,
     "metadata": {},
     "output_type": "execute_result"
    }
   ],
   "source": [
    "res_b['EfM3.000650']"
   ]
  },
  {
   "cell_type": "code",
   "execution_count": 102,
   "metadata": {},
   "outputs": [],
   "source": [
    "#write a function to iterate over every value from tsv_file_a and tsv_file_b (use dict.values)\n",
    "#and find the difference between the read counts for every gene\n",
    "def read_counts_diff(dict_a, dict_b): #some code modified from stackoverflow @slearner\n",
    "    \"\"\"write this properly from the # above when I know exactly what I'm talking about\"\"\"\n",
    "    #iterate over every key with .keys\n",
    "    output_dict = {}\n",
    "    for k in dict_a.keys():\n",
    "        if k in dict_b.keys():\n",
    "            output_dict[k] = abs(dict_a[k] - dict_b[k])\n",
    "    return(output_dict) #now what I actually want to put in dictionary is chi squared results"
   ]
  },
  {
   "cell_type": "code",
   "execution_count": 106,
   "metadata": {},
   "outputs": [
    {
     "data": {
      "text/plain": [
       "{'EfM3.000010': 13,\n",
       " 'EfM3.000020': 49,\n",
       " 'EfM3.000030': 35,\n",
       " 'EfM3.000040': 5,\n",
       " 'EfM3.000050': 165,\n",
       " 'EfM3.000060': 125,\n",
       " 'EfM3.000070': 33,\n",
       " 'EfM3.000080': 34,\n",
       " 'EfM3.000090': 6,\n",
       " 'EfM3.000100': 211,\n",
       " 'EfM3.000110': 97,\n",
       " 'EfM3.000120': 39,\n",
       " 'EfM3.000130': 0,\n",
       " 'EfM3.000140': 4,\n",
       " 'EfM3.000150': 37,\n",
       " 'EfM3.000160': 39,\n",
       " 'EfM3.000170': 95,\n",
       " 'EfM3.000180': 9,\n",
       " 'EfM3.000190': 929,\n",
       " 'EfM3.000200': 29,\n",
       " 'EfM3.000210': 747,\n",
       " 'EfM3.000220': 1,\n",
       " 'EfM3.000230': 19,\n",
       " 'EfM3.000240': 35,\n",
       " 'EfM3.000250': 1,\n",
       " 'EfM3.000260': 4,\n",
       " 'EfM3.000270': 111,\n",
       " 'EfM3.000280': 5,\n",
       " 'EfM3.000290': 22,\n",
       " 'EfM3.000300': 6,\n",
       " 'EfM3.000310': 46,\n",
       " 'EfM3.000320': 22,\n",
       " 'EfM3.000330': 85,\n",
       " 'EfM3.000340': 71,\n",
       " 'EfM3.000350': 69,\n",
       " 'EfM3.000360': 122,\n",
       " 'EfM3.000370': 97,\n",
       " 'EfM3.000380': 13,\n",
       " 'EfM3.000390': 232,\n",
       " 'EfM3.000400': 92,\n",
       " 'EfM3.000410': 21,\n",
       " 'EfM3.000420': 26,\n",
       " 'EfM3.000430': 281,\n",
       " 'EfM3.000440': 67,\n",
       " 'EfM3.000450': 3,\n",
       " 'EfM3.000460': 10,\n",
       " 'EfM3.000470': 17,\n",
       " 'EfM3.000480': 42,\n",
       " 'EfM3.000490': 85,\n",
       " 'EfM3.000500': 82,\n",
       " 'EfM3.000510': 100,\n",
       " 'EfM3.000520': 157,\n",
       " 'EfM3.000530': 379,\n",
       " 'EfM3.000540': 104,\n",
       " 'EfM3.000550': 4,\n",
       " 'EfM3.000560': 117,\n",
       " 'EfM3.000570': 412,\n",
       " 'EfM3.000580': 65,\n",
       " 'EfM3.000590': 27,\n",
       " 'EfM3.000600': 144,\n",
       " 'EfM3.000610': 270,\n",
       " 'EfM3.000620': 53,\n",
       " 'EfM3.000630': 72,\n",
       " 'EfM3.000640': 1,\n",
       " 'EfM3.000650': 63,\n",
       " 'EfM3.000660': 10,\n",
       " 'EfM3.000670': 99,\n",
       " 'EfM3.000680': 0,\n",
       " 'EfM3.000690': 203,\n",
       " 'EfM3.000700': 125,\n",
       " 'EfM3.000710': 148,\n",
       " 'EfM3.000720': 228,\n",
       " 'EfM3.000730': 32,\n",
       " 'EfM3.000740': 35,\n",
       " 'EfM3.000750': 11,\n",
       " 'EfM3.000760': 54,\n",
       " 'EfM3.000770': 211,\n",
       " 'EfM3.000780': 34,\n",
       " 'EfM3.000790': 8,\n",
       " 'EfM3.000800': 116,\n",
       " 'EfM3.000810': 17,\n",
       " 'EfM3.000820': 8,\n",
       " 'EfM3.000830': 0,\n",
       " 'EfM3.000840': 35,\n",
       " 'EfM3.000850': 52,\n",
       " 'EfM3.000860': 23,\n",
       " 'EfM3.000870': 54,\n",
       " 'EfM3.000880': 7,\n",
       " 'EfM3.000890': 51,\n",
       " 'EfM3.000900': 57,\n",
       " 'EfM3.000910': 15,\n",
       " 'EfM3.000920': 186,\n",
       " 'EfM3.000930': 643,\n",
       " 'EfM3.000940': 192,\n",
       " 'EfM3.000950': 15,\n",
       " 'EfM3.000960': 101,\n",
       " 'EfM3.000970': 188,\n",
       " 'EfM3.000980': 42,\n",
       " 'EfM3.000990': 200,\n",
       " 'EfM3.001000': 5}"
      ]
     },
     "execution_count": 106,
     "metadata": {},
     "output_type": "execute_result"
    }
   ],
   "source": [
    "read_counts_diff(res, res_b)"
   ]
  },
  {
   "cell_type": "code",
   "execution_count": 149,
   "metadata": {},
   "outputs": [],
   "source": [
    "#write a function to iterate over every value from tsv_file_a and tsv_file_b (use dict.values)\n",
    "#and find the difference between the read counts for every gene\n",
    "#***don't use this bit for final script\n",
    "def read_counts_diff(dict_a, dict_b): #some code modified from stackoverflow @slearner\n",
    "    \"\"\"write this properly from the # above when I know exactly what I'm talking about\"\"\"\n",
    "    #iterate over every key with .keys\n",
    "    output_dict = {}\n",
    "    for k in dict_a.keys():\n",
    "        if k in dict_b.keys():\n",
    "            output_dict[k] = abs(dict_a[k] - dict_b[k])\n",
    "    return(output_dict) #now what I actually want to put in dictionary is chi squared results"
   ]
  },
  {
   "cell_type": "code",
   "execution_count": 117,
   "metadata": {},
   "outputs": [],
   "source": [
    "from scipy.stats import chi2_contingency\n",
    "import numpy as np"
   ]
  },
  {
   "cell_type": "code",
   "execution_count": 118,
   "metadata": {},
   "outputs": [
    {
     "data": {
      "text/plain": [
       "<function scipy.stats.contingency.chi2_contingency>"
      ]
     },
     "execution_count": 118,
     "metadata": {},
     "output_type": "execute_result"
    }
   ],
   "source": [
    "chi2_contingency"
   ]
  },
  {
   "cell_type": "code",
   "execution_count": 121,
   "metadata": {},
   "outputs": [],
   "source": [
    "from scipy.stats import chi2_contingency\n",
    "obs = np.array([[10, 10, 20], [20, 20, 20]]) # 2C 3R\n",
    "t = chi2_contingency(obs) #get data (pvalue?) out we want from output and fit data into contingency"
   ]
  },
  {
   "cell_type": "code",
   "execution_count": 125,
   "metadata": {},
   "outputs": [
    {
     "data": {
      "text/plain": [
       "(2.7777777777777777, 0.24935220877729622, 2, array([[ 12.,  12.,  16.],\n",
       "        [ 18.,  18.,  24.]]))"
      ]
     },
     "execution_count": 125,
     "metadata": {},
     "output_type": "execute_result"
    }
   ],
   "source": [
    "t"
   ]
  },
  {
   "cell_type": "code",
   "execution_count": 127,
   "metadata": {},
   "outputs": [
    {
     "data": {
      "text/plain": [
       "0.24935220877729622"
      ]
     },
     "execution_count": 127,
     "metadata": {},
     "output_type": "execute_result"
    }
   ],
   "source": [
    "t[1]"
   ]
  },
  {
   "cell_type": "code",
   "execution_count": 148,
   "metadata": {},
   "outputs": [
    {
     "name": "stdout",
     "output_type": "stream",
     "text": [
      "not significant\n"
     ]
    }
   ],
   "source": [
    "obs = np.array([[10, 10, 20], [20, 20, 20]]) # 2C 3R\n",
    "t = chi2_contingency(obs) #get data (pvalue?) out we want from output and fit data into contingency\n",
    "if t[1] < 0.05:\n",
    "    print(\"significant\")\n",
    "else:\n",
    "    print(\"not significant\")"
   ]
  },
  {
   "cell_type": "code",
   "execution_count": 145,
   "metadata": {},
   "outputs": [
    {
     "name": "stdout",
     "output_type": "stream",
     "text": [
      "\u001b[H\u001b[2J"
     ]
    }
   ],
   "source": [
    "n = np.array"
   ]
  },
  {
   "cell_type": "code",
   "execution_count": 150,
   "metadata": {},
   "outputs": [
    {
     "data": {
      "text/plain": [
       "dict_keys(['EfM3.000010', 'EfM3.000020', 'EfM3.000030', 'EfM3.000040', 'EfM3.000050', 'EfM3.000060', 'EfM3.000070', 'EfM3.000080', 'EfM3.000090', 'EfM3.000100', 'EfM3.000110', 'EfM3.000120', 'EfM3.000130', 'EfM3.000140', 'EfM3.000150', 'EfM3.000160', 'EfM3.000170', 'EfM3.000180', 'EfM3.000190', 'EfM3.000200', 'EfM3.000210', 'EfM3.000220', 'EfM3.000230', 'EfM3.000240', 'EfM3.000250', 'EfM3.000260', 'EfM3.000270', 'EfM3.000280', 'EfM3.000290', 'EfM3.000300', 'EfM3.000310', 'EfM3.000320', 'EfM3.000330', 'EfM3.000340', 'EfM3.000350', 'EfM3.000360', 'EfM3.000370', 'EfM3.000380', 'EfM3.000390', 'EfM3.000400', 'EfM3.000410', 'EfM3.000420', 'EfM3.000430', 'EfM3.000440', 'EfM3.000450', 'EfM3.000460', 'EfM3.000470', 'EfM3.000480', 'EfM3.000490', 'EfM3.000500', 'EfM3.000510', 'EfM3.000520', 'EfM3.000530', 'EfM3.000540', 'EfM3.000550', 'EfM3.000560', 'EfM3.000570', 'EfM3.000580', 'EfM3.000590', 'EfM3.000600', 'EfM3.000610', 'EfM3.000620', 'EfM3.000630', 'EfM3.000640', 'EfM3.000650', 'EfM3.000660', 'EfM3.000670', 'EfM3.000680', 'EfM3.000690', 'EfM3.000700', 'EfM3.000710', 'EfM3.000720', 'EfM3.000730', 'EfM3.000740', 'EfM3.000750', 'EfM3.000760', 'EfM3.000770', 'EfM3.000780', 'EfM3.000790', 'EfM3.000800', 'EfM3.000810', 'EfM3.000820', 'EfM3.000830', 'EfM3.000840', 'EfM3.000850', 'EfM3.000860', 'EfM3.000870', 'EfM3.000880', 'EfM3.000890', 'EfM3.000900', 'EfM3.000910', 'EfM3.000920', 'EfM3.000930', 'EfM3.000940', 'EfM3.000950', 'EfM3.000960', 'EfM3.000970', 'EfM3.000980', 'EfM3.000990', 'EfM3.001000'])"
      ]
     },
     "execution_count": 150,
     "metadata": {},
     "output_type": "execute_result"
    }
   ],
   "source": [
    "#s1_gi\n",
    "res.keys()"
   ]
  },
  {
   "cell_type": "code",
   "execution_count": 152,
   "metadata": {},
   "outputs": [
    {
     "data": {
      "text/plain": [
       "array([[ 0,  1,  2,  3,  4],\n",
       "       [ 5,  6,  7,  8,  9],\n",
       "       [10, 11, 12, 13, 14],\n",
       "       [15, 16, 17, 18, 19],\n",
       "       [20, 21, 22, 23, 24]])"
      ]
     },
     "execution_count": 152,
     "metadata": {},
     "output_type": "execute_result"
    }
   ],
   "source": [
    "np.arange(25).reshape((5, 5))"
   ]
  },
  {
   "cell_type": "code",
   "execution_count": 155,
   "metadata": {},
   "outputs": [],
   "source": [
    "dict_a = res\n",
    "dict_b = res_b"
   ]
  },
  {
   "cell_type": "code",
   "execution_count": 156,
   "metadata": {},
   "outputs": [
    {
     "name": "stdout",
     "output_type": "stream",
     "text": [
      "21 8\n",
      "63 14\n",
      "42 7\n",
      "8 3\n",
      "206 41\n",
      "202 77\n",
      "129 96\n",
      "89 55\n",
      "11 5\n",
      "326 115\n",
      "149 52\n",
      "51 12\n",
      "0 0\n",
      "5 1\n",
      "77 40\n",
      "66 27\n",
      "120 25\n",
      "14 5\n",
      "1060 131\n",
      "57 28\n",
      "876 129\n",
      "1 2\n",
      "24 5\n",
      "67 32\n",
      "4 3\n",
      "14 10\n",
      "174 63\n",
      "6 1\n",
      "68 46\n",
      "24 18\n",
      "85 39\n",
      "36 14\n",
      "142 57\n",
      "107 36\n",
      "134 65\n",
      "322 200\n",
      "147 50\n",
      "3 16\n",
      "333 101\n",
      "237 145\n",
      "25 4\n",
      "35 9\n",
      "314 33\n",
      "214 147\n",
      "8 5\n",
      "42 32\n",
      "38 21\n",
      "78 36\n",
      "127 42\n",
      "125 43\n",
      "228 128\n",
      "416 259\n",
      "626 247\n",
      "207 103\n",
      "12 8\n",
      "168 51\n",
      "524 112\n",
      "102 37\n",
      "101 74\n",
      "207 63\n",
      "344 74\n",
      "116 63\n",
      "109 37\n",
      "1 0\n",
      "163 100\n",
      "18 8\n",
      "285 186\n",
      "1 1\n",
      "295 92\n",
      "199 74\n",
      "204 56\n",
      "366 138\n",
      "45 13\n",
      "139 104\n",
      "41 30\n",
      "103 49\n",
      "314 103\n",
      "66 32\n",
      "142 150\n",
      "157 41\n",
      "24 7\n",
      "28 20\n",
      "22 22\n",
      "64 29\n",
      "112 60\n",
      "52 29\n",
      "86 32\n",
      "2 9\n",
      "124 73\n",
      "77 20\n",
      "34 19\n",
      "290 104\n",
      "909 266\n",
      "266 74\n",
      "16 1\n",
      "130 29\n",
      "414 226\n",
      "95 53\n",
      "336 136\n",
      "14 9\n"
     ]
    }
   ],
   "source": [
    "for k in dict_a.keys():\n",
    "        if k in dict_b.keys():\n",
    "            print(dict_a[k], dict_b[k]) #s1_gi , s2_gi"
   ]
  },
  {
   "cell_type": "code",
   "execution_count": 159,
   "metadata": {},
   "outputs": [],
   "source": [
    "t_a = sum(dict_a.values()) #s1_t"
   ]
  },
  {
   "cell_type": "code",
   "execution_count": 160,
   "metadata": {},
   "outputs": [],
   "source": [
    "t_b = sum(dict_b.values()) #s2_t"
   ]
  },
  {
   "cell_type": "code",
   "execution_count": 166,
   "metadata": {},
   "outputs": [
    {
     "data": {
      "text/plain": [
       "15300"
      ]
     },
     "execution_count": 166,
     "metadata": {},
     "output_type": "execute_result"
    }
   ],
   "source": [
    "t_a"
   ]
  },
  {
   "cell_type": "code",
   "execution_count": 167,
   "metadata": {},
   "outputs": [
    {
     "data": {
      "text/plain": [
       "5797"
      ]
     },
     "execution_count": 167,
     "metadata": {},
     "output_type": "execute_result"
    }
   ],
   "source": [
    "t_b"
   ]
  },
  {
   "cell_type": "code",
   "execution_count": 171,
   "metadata": {},
   "outputs": [
    {
     "name": "stdout",
     "output_type": "stream",
     "text": [
      "15279 5789\n",
      "15237 5783\n",
      "15258 5790\n",
      "15292 5794\n",
      "15094 5756\n",
      "15098 5720\n",
      "15171 5701\n",
      "15211 5742\n",
      "15289 5792\n",
      "14974 5682\n",
      "15151 5745\n",
      "15249 5785\n",
      "15300 5797\n",
      "15295 5796\n",
      "15223 5757\n",
      "15234 5770\n",
      "15180 5772\n",
      "15286 5792\n",
      "14240 5666\n",
      "15243 5769\n",
      "14424 5668\n",
      "15299 5795\n",
      "15276 5792\n",
      "15233 5765\n",
      "15296 5794\n",
      "15286 5787\n",
      "15126 5734\n",
      "15294 5796\n",
      "15232 5751\n",
      "15276 5779\n",
      "15215 5758\n",
      "15264 5783\n",
      "15158 5740\n",
      "15193 5761\n",
      "15166 5732\n",
      "14978 5597\n",
      "15153 5747\n",
      "15297 5781\n",
      "14967 5696\n",
      "15063 5652\n",
      "15275 5793\n",
      "15265 5788\n",
      "14986 5764\n",
      "15086 5650\n",
      "15292 5792\n",
      "15258 5765\n",
      "15262 5776\n",
      "15222 5761\n",
      "15173 5755\n",
      "15175 5754\n",
      "15072 5669\n",
      "14884 5538\n",
      "14674 5550\n",
      "15093 5694\n",
      "15288 5789\n",
      "15132 5746\n",
      "14776 5685\n",
      "15198 5760\n",
      "15199 5723\n",
      "15093 5734\n",
      "14956 5723\n",
      "15184 5734\n",
      "15191 5760\n",
      "15299 5797\n",
      "15137 5697\n",
      "15282 5789\n",
      "15015 5611\n",
      "15299 5796\n",
      "15005 5705\n",
      "15101 5723\n",
      "15096 5741\n",
      "14934 5659\n",
      "15255 5784\n",
      "15161 5693\n",
      "15259 5767\n",
      "15197 5748\n",
      "14986 5694\n",
      "15234 5765\n",
      "15158 5647\n",
      "15143 5756\n",
      "15276 5790\n",
      "15272 5777\n",
      "15278 5775\n",
      "15236 5768\n",
      "15188 5737\n",
      "15248 5768\n",
      "15214 5765\n",
      "15298 5788\n",
      "15176 5724\n",
      "15223 5777\n",
      "15266 5778\n",
      "15010 5693\n",
      "14391 5531\n",
      "15034 5723\n",
      "15284 5796\n",
      "15170 5768\n",
      "14886 5571\n",
      "15205 5744\n",
      "14964 5661\n",
      "15286 5788\n"
     ]
    }
   ],
   "source": [
    "#if the gene name is the same in sample a, sample b, calculate total sample read count - gene x read count\n",
    "for gene in dict_a.keys():\n",
    "        if gene in dict_b.keys():\n",
    "            print((t_a - dict_a[gene]),(t_b - dict_b[gene])) #s1_'gi , s2_'gi"
   ]
  },
  {
   "cell_type": "code",
   "execution_count": 170,
   "metadata": {},
   "outputs": [],
   "source": [
    "import numpy as np\n",
    "import pandas as pd\n",
    "import os"
   ]
  },
  {
   "cell_type": "code",
   "execution_count": 184,
   "metadata": {},
   "outputs": [
    {
     "data": {
      "text/plain": [
       "'EfM3.001000'"
      ]
     },
     "execution_count": 184,
     "metadata": {},
     "output_type": "execute_result"
    }
   ],
   "source": [
    "k"
   ]
  },
  {
   "cell_type": "code",
   "execution_count": 173,
   "metadata": {},
   "outputs": [
    {
     "data": {
      "text/plain": [
       "array([[10, 10, 20],\n",
       "       [20, 20, 20]])"
      ]
     },
     "execution_count": 173,
     "metadata": {},
     "output_type": "execute_result"
    }
   ],
   "source": [
    "obs #first make this into 2x2, then try get just 'k' gene into array form, then do chisquared for just k gene"
   ]
  },
  {
   "cell_type": "code",
   "execution_count": 192,
   "metadata": {},
   "outputs": [],
   "source": [
    "twobytwo = np.array([[dict_a[k], (t_a - dict_a[gene])], [dict_b[k], (t_b - dict_b[gene])]])"
   ]
  },
  {
   "cell_type": "code",
   "execution_count": 193,
   "metadata": {},
   "outputs": [
    {
     "data": {
      "text/plain": [
       "array([[   14, 15286],\n",
       "       [    9,  5788]])"
      ]
     },
     "execution_count": 193,
     "metadata": {},
     "output_type": "execute_result"
    }
   ],
   "source": [
    "twobytwo"
   ]
  },
  {
   "cell_type": "code",
   "execution_count": 185,
   "metadata": {},
   "outputs": [
    {
     "data": {
      "text/plain": [
       "14"
      ]
     },
     "execution_count": 185,
     "metadata": {},
     "output_type": "execute_result"
    }
   ],
   "source": [
    "dict_a[k]"
   ]
  },
  {
   "cell_type": "code",
   "execution_count": 186,
   "metadata": {},
   "outputs": [
    {
     "data": {
      "text/plain": [
       "9"
      ]
     },
     "execution_count": 186,
     "metadata": {},
     "output_type": "execute_result"
    }
   ],
   "source": [
    "dict_b[k]"
   ]
  },
  {
   "cell_type": "code",
   "execution_count": 187,
   "metadata": {},
   "outputs": [
    {
     "data": {
      "text/plain": [
       "{'EfM3.000010': 21,\n",
       " 'EfM3.000020': 63,\n",
       " 'EfM3.000030': 42,\n",
       " 'EfM3.000040': 8,\n",
       " 'EfM3.000050': 206,\n",
       " 'EfM3.000060': 202,\n",
       " 'EfM3.000070': 129,\n",
       " 'EfM3.000080': 89,\n",
       " 'EfM3.000090': 11,\n",
       " 'EfM3.000100': 326,\n",
       " 'EfM3.000110': 149,\n",
       " 'EfM3.000120': 51,\n",
       " 'EfM3.000130': 0,\n",
       " 'EfM3.000140': 5,\n",
       " 'EfM3.000150': 77,\n",
       " 'EfM3.000160': 66,\n",
       " 'EfM3.000170': 120,\n",
       " 'EfM3.000180': 14,\n",
       " 'EfM3.000190': 1060,\n",
       " 'EfM3.000200': 57,\n",
       " 'EfM3.000210': 876,\n",
       " 'EfM3.000220': 1,\n",
       " 'EfM3.000230': 24,\n",
       " 'EfM3.000240': 67,\n",
       " 'EfM3.000250': 4,\n",
       " 'EfM3.000260': 14,\n",
       " 'EfM3.000270': 174,\n",
       " 'EfM3.000280': 6,\n",
       " 'EfM3.000290': 68,\n",
       " 'EfM3.000300': 24,\n",
       " 'EfM3.000310': 85,\n",
       " 'EfM3.000320': 36,\n",
       " 'EfM3.000330': 142,\n",
       " 'EfM3.000340': 107,\n",
       " 'EfM3.000350': 134,\n",
       " 'EfM3.000360': 322,\n",
       " 'EfM3.000370': 147,\n",
       " 'EfM3.000380': 3,\n",
       " 'EfM3.000390': 333,\n",
       " 'EfM3.000400': 237,\n",
       " 'EfM3.000410': 25,\n",
       " 'EfM3.000420': 35,\n",
       " 'EfM3.000430': 314,\n",
       " 'EfM3.000440': 214,\n",
       " 'EfM3.000450': 8,\n",
       " 'EfM3.000460': 42,\n",
       " 'EfM3.000470': 38,\n",
       " 'EfM3.000480': 78,\n",
       " 'EfM3.000490': 127,\n",
       " 'EfM3.000500': 125,\n",
       " 'EfM3.000510': 228,\n",
       " 'EfM3.000520': 416,\n",
       " 'EfM3.000530': 626,\n",
       " 'EfM3.000540': 207,\n",
       " 'EfM3.000550': 12,\n",
       " 'EfM3.000560': 168,\n",
       " 'EfM3.000570': 524,\n",
       " 'EfM3.000580': 102,\n",
       " 'EfM3.000590': 101,\n",
       " 'EfM3.000600': 207,\n",
       " 'EfM3.000610': 344,\n",
       " 'EfM3.000620': 116,\n",
       " 'EfM3.000630': 109,\n",
       " 'EfM3.000640': 1,\n",
       " 'EfM3.000650': 163,\n",
       " 'EfM3.000660': 18,\n",
       " 'EfM3.000670': 285,\n",
       " 'EfM3.000680': 1,\n",
       " 'EfM3.000690': 295,\n",
       " 'EfM3.000700': 199,\n",
       " 'EfM3.000710': 204,\n",
       " 'EfM3.000720': 366,\n",
       " 'EfM3.000730': 45,\n",
       " 'EfM3.000740': 139,\n",
       " 'EfM3.000750': 41,\n",
       " 'EfM3.000760': 103,\n",
       " 'EfM3.000770': 314,\n",
       " 'EfM3.000780': 66,\n",
       " 'EfM3.000790': 142,\n",
       " 'EfM3.000800': 157,\n",
       " 'EfM3.000810': 24,\n",
       " 'EfM3.000820': 28,\n",
       " 'EfM3.000830': 22,\n",
       " 'EfM3.000840': 64,\n",
       " 'EfM3.000850': 112,\n",
       " 'EfM3.000860': 52,\n",
       " 'EfM3.000870': 86,\n",
       " 'EfM3.000880': 2,\n",
       " 'EfM3.000890': 124,\n",
       " 'EfM3.000900': 77,\n",
       " 'EfM3.000910': 34,\n",
       " 'EfM3.000920': 290,\n",
       " 'EfM3.000930': 909,\n",
       " 'EfM3.000940': 266,\n",
       " 'EfM3.000950': 16,\n",
       " 'EfM3.000960': 130,\n",
       " 'EfM3.000970': 414,\n",
       " 'EfM3.000980': 95,\n",
       " 'EfM3.000990': 336,\n",
       " 'EfM3.001000': 14}"
      ]
     },
     "execution_count": 187,
     "metadata": {},
     "output_type": "execute_result"
    }
   ],
   "source": [
    "dict_a"
   ]
  },
  {
   "cell_type": "code",
   "execution_count": 194,
   "metadata": {},
   "outputs": [
    {
     "data": {
      "text/plain": [
       "(1.0381116844136888,\n",
       " 0.30826105115718599,\n",
       " 1,\n",
       " array([[  1.66800967e+01,   1.52833199e+04],\n",
       "        [  6.31990330e+00,   5.79068010e+03]]))"
      ]
     },
     "execution_count": 194,
     "metadata": {},
     "output_type": "execute_result"
    }
   ],
   "source": [
    "chi2_contingency(twobytwo)"
   ]
  },
  {
   "cell_type": "code",
   "execution_count": 196,
   "metadata": {},
   "outputs": [],
   "source": [
    "def read_counts_diff(dict_a, dict_b): #some code modified from stackoverflow @slearner\n",
    "    \"\"\"write this properly from the # above when I know exactly what I'm talking about\"\"\"\n",
    "    #iterate over every key with .keys\n",
    "    output_dict = {}\n",
    "    for k in dict_a.keys():\n",
    "        if k in dict_b.keys():\n",
    "            output_dict[k] = abs(dict_a[k] - dict_b[k]) #chisquare bit goes in here instead of difference\n",
    "    return(output_dict)"
   ]
  },
  {
   "cell_type": "code",
   "execution_count": 197,
   "metadata": {},
   "outputs": [],
   "source": [
    "twobytwo = np.array([[dict_a[k], (t_a - dict_a[gene])], [dict_b[k], (t_b - dict_b[gene])]])"
   ]
  },
  {
   "cell_type": "code",
   "execution_count": 252,
   "metadata": {},
   "outputs": [],
   "source": [
    "def tsv_to_dict(tsv_file): #script from here\n",
    "    \"\"\"takes a tsv file and reads it as a dictionary\n",
    "    tsv_file : input tsv file\n",
    "    read_count_dict : ouput dictionary\n",
    "    dictionary keys : gene names\n",
    "    dictionary values : read count (int)\n",
    "    \"\"\"\n",
    "    read_count_dict = {} #initialise dictionary\n",
    "    with open(tsv_file) as f:\n",
    "        next(f) #skipping the header\n",
    "        for line in f:\n",
    "            (k, v) = line.split('\\t')\n",
    "            read_count_dict[k.strip()] = int(v.strip())\n",
    "    return(read_count_dict)"
   ]
  },
  {
   "cell_type": "code",
   "execution_count": 253,
   "metadata": {},
   "outputs": [],
   "source": [
    "sample_a_dict = tsv_to_dict('sampleA.txt')\n",
    "sample_b_dict = tsv_to_dict('sampleB.txt')"
   ]
  },
  {
   "cell_type": "code",
   "execution_count": 280,
   "metadata": {},
   "outputs": [],
   "source": [
    "def read_count_sig(gene, dict_a, dict_b):\n",
    "#input gene name, dictionaries to look up gene name, do chi square. output tuple of gene name,\n",
    "#pvalue (keep this in so we can correct for multiple testing later), 'significant/not'\n",
    "    total_read_count_a = sum(dict_a.values())\n",
    "    total_read_count_b = sum(dict_b.values())\n",
    "    for gene in dict_a.keys():\n",
    "        if gene in dict_b.keys():\n",
    "            count_a = dict_a[gene]\n",
    "            count_b = dict_b[gene]\n",
    "        if (count_a == 0) and (count_b == 0):\n",
    "            #do something with genes with no read counts\n",
    "            pass\n",
    "        else:\n",
    "            contingency_table = np.array([[count_a, (total_read_count_a - count_a)], [count_b, (total_read_count_b - count_b)]])\n",
    "            chi2_output = chi2_contingency(contingency_table)        \n",
    "    return(gene, count_a, count_b, chi2_output[1])"
   ]
  },
  {
   "cell_type": "code",
   "execution_count": 281,
   "metadata": {},
   "outputs": [
    {
     "data": {
      "text/plain": [
       "('EfM3.001000', 14, 9, 0.30826105115718599)"
      ]
     },
     "execution_count": 281,
     "metadata": {},
     "output_type": "execute_result"
    }
   ],
   "source": [
    "read_count_sig('EfM3.000990', sample_a_dict, sample_b_dict)"
   ]
  },
  {
   "cell_type": "code",
   "execution_count": 256,
   "metadata": {},
   "outputs": [],
   "source": [
    "sample_a_dict = tsv_to_dict('sampleA.txt')\n",
    "sample_b_dict = tsv_to_dict('sampleB.txt')\n",
    "gene = 'EfM3.000990'"
   ]
  },
  {
   "cell_type": "code",
   "execution_count": 265,
   "metadata": {},
   "outputs": [
    {
     "name": "stdout",
     "output_type": "stream",
     "text": [
      "(0.038045381644028806, 0.84535204065759084, 1, array([[  2.10314263e+01,   1.52789686e+04],\n",
      "       [  7.96857373e+00,   5.78903143e+03]]))\n",
      "(2.8995013985854552, 0.088606956353931912, 1, array([[    55.84206285,  15244.15793715],\n",
      "       [    21.15793715,   5775.84206285]]))\n",
      "(3.651374567474361, 0.056022957147010978, 1, array([[  3.55358582e+01,   1.52644641e+04],\n",
      "       [  1.34641418e+01,   5.78353586e+03]]))\n",
      "(0.10404318451941223, 0.7470305681393874, 1, array([[  7.97743755e+00,   1.52920226e+04],\n",
      "       [  3.02256245e+00,   5.79397744e+03]]))\n",
      "(14.295303600779491, 0.0001562542349743375, 1, array([[   179.12973409,  15120.87026591],\n",
      "       [    67.87026591,   5729.12973409]]))\n",
      "(0.00048532276372567412, 0.98242399105962197, 1, array([[   202.33682514,  15097.66317486],\n",
      "       [    76.66317486,   5720.33682514]]))\n",
      "(25.564209312610526, 4.279032399875049e-07, 1, array([[   163.17485898,  15136.82514102],\n",
      "       [    61.82514102,   5735.17485898]]))\n",
      "(7.8232892025393577, 0.0051577244478372688, 1, array([[   104.43190975,  15195.56809025],\n",
      "       [    39.56809025,   5757.43190975]]))\n",
      "(0.0033652619791789992, 0.95373996364105651, 1, array([[  1.16035455e+01,   1.52883965e+04],\n",
      "       [  4.39645447e+00,   5.79260355e+03]]))\n",
      "(0.37459557126605725, 0.540509882574709, 1, array([[   319.82272361,  14980.17727639],\n",
      "       [   121.17727639,   5675.82272361]]))\n",
      "(0.18792284443531981, 0.6646510680937161, 1, array([[   145.76954069,  15154.23045931],\n",
      "       [    55.23045931,   5741.76954069]]))\n",
      "(1.8491953843959672, 0.17387700492178118, 1, array([[    45.68896052,  15254.31103948],\n",
      "       [    17.31103948,   5779.68896052]]))\n",
      "(0.01849132932686192, 0.89183485666382367, 1, array([[  4.35132957e+00,   1.52956487e+04],\n",
      "       [  1.64867043e+00,   5.79535133e+03]]))\n",
      "(2.3305595955983383, 0.12685626656717761, 1, array([[    84.85092667,  15215.14907333],\n",
      "       [    32.14907333,   5764.85092667]]))\n",
      "(0.048462414091050302, 0.82576071801147455, 1, array([[    67.44560838,  15232.55439162],\n",
      "       [    25.55439162,   5771.44560838]]))\n",
      "(7.168791221472957, 0.0074182744012267826, 1, array([[   105.15713135,  15194.84286865],\n",
      "       [    39.84286865,   5757.15713135]]))\n",
      "(0.020608543116834528, 0.88585048802057209, 1, array([[  1.37792103e+01,   1.52862208e+04],\n",
      "       [  5.22078969e+00,   5.79177921e+03]]))\n",
      "(171.12927871662177, 4.1930053368709682e-39, 1, array([[   863.73892023,  14436.26107977],\n",
      "       [   327.26107977,   5469.73892023]]))\n",
      "(1.0178554288315871, 0.31302824810568947, 1, array([[    61.64383562,  15238.35616438],\n",
      "       [    23.35616438,   5773.64383562]]))\n",
      "(112.76021176359583, 2.4351383154527605e-26, 1, array([[   728.84770346,  14571.15229654],\n",
      "       [   276.15229654,   5520.84770346]]))\n",
      "(0.76374741255012579, 0.38215831787464882, 1, array([[  2.17566479e+00,   1.52978243e+04],\n",
      "       [  8.24335214e-01,   5.79617566e+03]]))\n",
      "(1.0559376525493884, 0.30414354426978507, 1, array([[  2.10314263e+01,   1.52789686e+04],\n",
      "       [  7.96857373e+00,   5.78903143e+03]]))\n",
      "(0.94031294880402605, 0.33219737222958745, 1, array([[    71.79693795,  15228.20306205],\n",
      "       [    27.20306205,   5769.79693795]]))\n",
      "(0.23837926198749626, 0.62537915545218858, 1, array([[  5.07655117e+00,   1.52949234e+04],\n",
      "       [  1.92344883e+00,   5.79507655e+03]]))\n",
      "(1.7669212968938532, 0.18376355217212281, 1, array([[  1.74053183e+01,   1.52825947e+04],\n",
      "       [  6.59468171e+00,   5.79040532e+03]]))\n",
      "(0.056372128370407802, 0.81232465024225964, 1, array([[   171.87751813,  15128.12248187],\n",
      "       [    65.12248187,   5731.87751813]]))\n",
      "(0.12858628090419266, 0.71990235791485668, 1, array([[  5.07655117e+00,   1.52949234e+04],\n",
      "       [  1.92344883e+00,   5.79507655e+03]]))\n",
      "(8.893180924835594, 0.0028623763021485174, 1, array([[    82.67526189,  15217.32473811],\n",
      "       [    31.32473811,   5765.67526189]]))\n",
      "(4.2516192143807539, 0.039212925693890746, 1, array([[  3.04593070e+01,   1.52695407e+04],\n",
      "       [  1.15406930e+01,   5.78545931e+03]]))\n",
      "(0.7979908798490869, 0.37169474306814809, 1, array([[    89.92747784,  15210.07252216],\n",
      "       [    34.07252216,   5762.92747784]]))\n",
      "(0.0057426586810326342, 0.93959386410813905, 1, array([[  3.62610798e+01,   1.52637389e+04],\n",
      "       [  1.37389202e+01,   5.78326108e+03]]))\n",
      "(0.08424061546585021, 0.77163084756644618, 1, array([[   144.3190975,  15155.6809025],\n",
      "       [    54.6809025,   5742.3190975]]))\n",
      "(0.27567872179824854, 0.5995476259136816, 1, array([[   103.70668815,  15196.29331185],\n",
      "       [    39.29331185,   5757.70668815]]))\n",
      "(2.4544417023162044, 0.11719283074702011, 1, array([[   144.3190975,  15155.6809025],\n",
      "       [    54.6809025,   5742.3190975]]))\n",
      "(30.984971964849382, 2.6003406740637412e-08, 1, array([[   378.56567284,  14921.43432716],\n",
      "       [   143.43432716,   5653.56567284]]))\n",
      "(0.33907053613697957, 0.56036621799187469, 1, array([[   142.86865431,  15157.13134569],\n",
      "       [    54.13134569,   5742.86865431]]))\n",
      "(27.932118773077939, 1.2564670721352942e-07, 1, array([[  1.37792103e+01,   1.52862208e+04],\n",
      "       [  5.22078969e+00,   5.79177921e+03]]))\n",
      "(3.7210736574482204, 0.053729811375231841, 1, array([[   314.74617244,  14985.25382756],\n",
      "       [   119.25382756,   5677.74617244]]))\n",
      "(20.911002891568764, 4.8112309323476593e-06, 1, array([[   277.03464948,  15022.96535052],\n",
      "       [   104.96535052,   5692.03464948]]))\n",
      "(2.0847209518677272, 0.148779407457869, 1, array([[  2.10314263e+01,   1.52789686e+04],\n",
      "       [  7.96857373e+00,   5.78903143e+03]]))\n",
      "(0.76680336084446155, 0.3812077784701301, 1, array([[  3.19097502e+01,   1.52680902e+04],\n",
      "       [  1.20902498e+01,   5.78490975e+03]]))\n",
      "(56.243535896101072, 6.4027988266835195e-14, 1, array([[   251.65189363,  15048.34810637],\n",
      "       [    95.34810637,   5701.65189363]]))\n",
      "(31.648214324401529, 1.8478442815020505e-08, 1, array([[   261.80499597,  15038.19500403],\n",
      "       [    99.19500403,   5697.80499597]]))\n",
      "(0.33254876490811786, 0.56416212319810488, 1, array([[  9.42788074e+00,   1.52905721e+04],\n",
      "       [  3.57211926e+00,   5.79342788e+03]]))\n",
      "(8.4852995587556386, 0.0035802762241267552, 1, array([[    53.66639807,  15246.33360193],\n",
      "       [    20.33360193,   5776.66639807]]))\n",
      "(1.5683229040156792, 0.210450735934821, 1, array([[    42.78807413,  15257.21192587],\n",
      "       [    16.21192587,   5780.78807413]]))\n",
      "(0.77154700092715034, 0.37973890029147117, 1, array([[    82.67526189,  15217.32473811],\n",
      "       [    31.32473811,   5765.67526189]]))\n",
      "(0.46409318324056364, 0.49571720588172996, 1, array([[   122.56244964,  15177.43755036],\n",
      "       [    46.43755036,   5750.56244964]]))\n",
      "(0.2134900147091793, 0.64404561063399757, 1, array([[   121.83722804,  15178.16277196],\n",
      "       [    46.16277196,   5750.83722804]]))\n",
      "(12.62940637066527, 0.00037972574235265117, 1, array([[   258.17888799,  15041.82111201],\n",
      "       [    97.82111201,   5699.17888799]]))\n",
      "(40.954670120644884, 1.558012676542847e-10, 1, array([[   489.52457695,  14810.47542305],\n",
      "       [   185.47542305,   5611.52457695]]))\n",
      "(0.2626630827677473, 0.6082964561375056, 1, array([[   633.11845286,  14666.88154714],\n",
      "       [   239.88154714,   5557.11845286]]))\n",
      "(4.9276990401862708, 0.026429486590585041, 1, array([[   224.8186946,  15075.1813054],\n",
      "       [    85.1813054,   5711.8186946]]))\n",
      "(1.0090465505380644, 0.31513136437406797, 1, array([[  1.45044319e+01,   1.52854956e+04],\n",
      "       [  5.49556809e+00,   5.79150443e+03]]))\n",
      "(1.7430930336905432, 0.186747395674458, 1, array([[   158.82352941,  15141.17647059],\n",
      "       [    60.17647059,   5736.82352941]]))\n",
      "(31.534692364243849, 1.9590866886533091e-08, 1, array([[   461.24093473,  14838.75906527],\n",
      "       [   174.75906527,   5622.24093473]]))\n",
      "(0.017513370756148519, 0.89471687877767248, 1, array([[   100.80580177,  15199.19419823],\n",
      "       [    38.19419823,   5758.80580177]]))\n",
      "(18.675173104376668, 1.5498742604435013e-05, 1, array([[   126.91377921,  15173.08622079],\n",
      "       [    48.08622079,   5748.91377921]]))\n",
      "(2.1515233115039152, 0.14242851520105712, 1, array([[   195.80983078,  15104.19016922],\n",
      "       [    74.19016922,   5722.80983078]]))\n",
      "(19.948366645859199, 7.9561893831839936e-06, 1, array([[   303.14262691,  14996.85737309],\n",
      "       [   114.85737309,   5682.14262691]]))\n",
      "(5.0125037942065447, 0.025164885920388756, 1, array([[   129.81466559,  15170.18533441],\n",
      "       [    49.18533441,   5747.81466559]]))\n",
      "(0.23715481356217011, 0.6262686529009871, 1, array([[   105.88235294,  15194.11764706],\n",
      "       [    40.11764706,   5756.88235294]]))\n",
      "(0.25455833523467886, 0.61388354564097591, 1, array([[  7.25221595e-01,   1.52992748e+04],\n",
      "       [  2.74778405e-01,   5.79672522e+03]]))\n",
      "(14.329758107598504, 0.00015342038079518892, 1, array([[   190.73327961,  15109.26672039],\n",
      "       [    72.26672039,   5724.73327961]]))\n",
      "(0.02445832633102896, 0.8757243736097039, 1, array([[  1.88557615e+01,   1.52811442e+04],\n",
      "       [  7.14423852e+00,   5.78985576e+03]]))\n",
      "(34.271864485978995, 4.7926060930201338e-09, 1, array([[   341.57937147,  14958.42062853],\n",
      "       [   129.42062853,   5667.57937147]]))\n",
      "(0.0061626076769035892, 0.93742851810462635, 1, array([[  1.45044319e+00,   1.52985496e+04],\n",
      "       [  5.49556809e-01,   5.79645044e+03]]))\n",
      "(2.5298860201592341, 0.11170828515467258, 1, array([[   280.66075745,  15019.33924255],\n",
      "       [   106.33924255,   5690.66075745]]))\n",
      "(0.0049296809834474325, 0.94402517244740203, 1, array([[   197.98549557,  15102.01450443],\n",
      "       [    75.01450443,   5721.98549557]]))\n",
      "(4.3631354146115751, 0.036724653150973147, 1, array([[   188.55761483,  15111.44238517],\n",
      "       [    71.44238517,   5725.55761483]]))\n",
      "(1.3925463617955894e-06, 0.99905844695510559, 1, array([[   365.51168413,  14934.48831587],\n",
      "       [   138.48831587,   5658.51168413]]))\n",
      "(0.51532107601726895, 0.47284443115123154, 1, array([[    42.06285254,  15257.93714746],\n",
      "       [    15.93714746,   5781.06285254]]))\n",
      "(28.182942946494773, 1.1037297198530517e-07, 1, array([[   176.2288477,  15123.7711523],\n",
      "       [    66.7711523,   5730.2288477]]))\n",
      "(7.0785955440540951, 0.0078010128818303296, 1, array([[    51.49073328,  15248.50926672],\n",
      "       [    19.50926672,   5777.49073328]]))\n",
      "(1.5078172129742973, 0.21947246265506337, 1, array([[   110.23368251,  15189.76631749],\n",
      "       [    41.76631749,   5755.23368251]]))\n",
      "(1.5078692635184365, 0.21946450595028513, 1, array([[   302.41740532,  14997.58259468],\n",
      "       [   114.58259468,   5682.41740532]]))\n",
      "(1.0752296792989136, 0.29976716569261885, 1, array([[    71.07171636,  15228.92828364],\n",
      "       [    26.92828364,   5770.07171636]]))\n",
      "(83.606644704686943, 6.0369810430776882e-20, 1, array([[   211.76470588,  15088.23529412],\n",
      "       [    80.23529412,   5716.76470588]]))\n",
      "(4.2615575168216955, 0.038984162706515856, 1, array([[   143.59387591,  15156.40612409],\n",
      "       [    54.40612409,   5742.59387591]]))\n",
      "(0.16804691080538858, 0.68185344495729949, 1, array([[  2.24818695e+01,   1.52775181e+04],\n",
      "       [  8.51813054e+00,   5.78848187e+03]]))\n",
      "(4.1729291728115587, 0.041074729242246817, 1, array([[  3.48106366e+01,   1.52651894e+04],\n",
      "       [  1.31893634e+01,   5.78381064e+03]]))\n",
      "(10.11944977899495, 0.0014671279143250433, 1, array([[  3.19097502e+01,   1.52680902e+04],\n",
      "       [  1.20902498e+01,   5.78490975e+03]]))\n",
      "(0.470253928959739, 0.49287037255029742, 1, array([[    67.44560838,  15232.55439162],\n",
      "       [    25.55439162,   5771.44560838]]))\n",
      "(4.4055738205995763, 0.035821671512267672, 1, array([[   124.73811442,  15175.26188558],\n",
      "       [    47.26188558,   5749.73811442]]))\n",
      "(2.4238844112421924, 0.11949828649168469, 1, array([[    58.74294923,  15241.25705077],\n",
      "       [    22.25705077,   5774.74294923]]))\n",
      "(0.0002479822757296732, 0.98743586966827368, 1, array([[    85.57614827,  15214.42385173],\n",
      "       [    32.42385173,   5764.57614827]]))\n",
      "(13.694158796984427, 0.000215122546545017, 1, array([[  7.97743755e+00,   1.52920226e+04],\n",
      "       [  3.02256245e+00,   5.79397744e+03]]))\n",
      "(8.6758003075090571, 0.0032246321618902784, 1, array([[   142.86865431,  15157.13134569],\n",
      "       [    54.13134569,   5742.86865431]]))\n",
      "(1.9679837027347449, 0.16066204327498862, 1, array([[    70.34649476,  15229.65350524],\n",
      "       [    26.65350524,   5770.34649476]]))\n",
      "(1.4710847282149564, 0.22517462599420573, 1, array([[  3.84367446e+01,   1.52615633e+04],\n",
      "       [  1.45632554e+01,   5.78243674e+03]]))\n",
      "(0.18375326729792035, 0.66816738726237779, 1, array([[   285.73730862,  15014.26269138],\n",
      "       [   108.26269138,   5688.73730862]]))\n",
      "(14.368446776460804, 0.00015029990158363759, 1, array([[   852.1353747,  14447.8646253],\n",
      "       [   322.8646253,   5474.1353747]]))\n",
      "(5.3725434109462684, 0.02045612845713372, 1, array([[   246.57534247,  15053.42465753],\n",
      "       [    93.42465753,   5703.57534247]]))\n",
      "(2.9710100438568832, 0.084768912668220869, 1, array([[  1.23287671e+01,   1.52876712e+04],\n",
      "       [  4.67123288e+00,   5.79232877e+03]]))\n",
      "(6.4030301151344649, 0.011392575772132403, 1, array([[   115.31023368,  15184.68976632],\n",
      "       [    43.68976632,   5753.31023368]]))\n",
      "(19.92695172810452, 8.0458050638132943e-06, 1, array([[   464.14182111,  14835.85817889],\n",
      "       [   175.85817889,   5621.14182111]]))\n",
      "(4.7809822297233753, 0.028775702840614356, 1, array([[   107.33279613,  15192.66720387],\n",
      "       [    40.66720387,   5756.33279613]]))\n",
      "(0.36641646420573604, 0.54496411132371736, 1, array([[   342.30459307,  14957.69540693],\n",
      "       [   129.69540693,   5667.30459307]]))\n",
      "(1.0381116844136888, 0.30826105115718599, 1, array([[  1.66800967e+01,   1.52833199e+04],\n",
      "       [  6.31990330e+00,   5.79068010e+03]]))\n"
     ]
    }
   ],
   "source": [
    "total_read_count_a = sum(dict_a.values())\n",
    "total_read_count_b = sum(dict_b.values())\n",
    "for gene in dict_a.keys():\n",
    "    if gene in dict_b.keys():\n",
    "        count_a = dict_a[gene]\n",
    "        count_b = dict_b[gene]\n",
    "        if (count_a == 0) and (count_b == 0):\n",
    "            #do something with genes with no read counts\n",
    "            pass\n",
    "        else:\n",
    "            contingency_table = np.array([[count_a, (total_read_count_a - count_a)], [count_b, (total_read_count_b - count_b)]])\n",
    "            chi2_output = chi2_contingency(contingency_table)\n",
    "            print(chi2_output)        "
   ]
  },
  {
   "cell_type": "code",
   "execution_count": 258,
   "metadata": {},
   "outputs": [
    {
     "ename": "ValueError",
     "evalue": "The internally computed table of expected frequencies has a zero element at (0, 0).",
     "output_type": "error",
     "traceback": [
      "\u001b[0;31m---------------------------------------------------------------------------\u001b[0m",
      "\u001b[0;31mValueError\u001b[0m                                Traceback (most recent call last)",
      "\u001b[0;32m<ipython-input-258-ce17aca6ba4b>\u001b[0m in \u001b[0;36m<module>\u001b[0;34m()\u001b[0m\n\u001b[1;32m      1\u001b[0m \u001b[0mcontingency_table\u001b[0m \u001b[0;34m=\u001b[0m \u001b[0mnp\u001b[0m\u001b[0;34m.\u001b[0m\u001b[0marray\u001b[0m\u001b[0;34m(\u001b[0m\u001b[0;34m[\u001b[0m\u001b[0;34m[\u001b[0m\u001b[0mdict_a\u001b[0m\u001b[0;34m[\u001b[0m\u001b[0mgene\u001b[0m\u001b[0;34m]\u001b[0m\u001b[0;34m,\u001b[0m \u001b[0;34m(\u001b[0m\u001b[0mtotal_read_count_a\u001b[0m \u001b[0;34m-\u001b[0m \u001b[0mdict_a\u001b[0m\u001b[0;34m[\u001b[0m\u001b[0mgene\u001b[0m\u001b[0;34m]\u001b[0m\u001b[0;34m)\u001b[0m\u001b[0;34m]\u001b[0m\u001b[0;34m,\u001b[0m \u001b[0;34m[\u001b[0m\u001b[0mdict_b\u001b[0m\u001b[0;34m[\u001b[0m\u001b[0mgene\u001b[0m\u001b[0;34m]\u001b[0m\u001b[0;34m,\u001b[0m \u001b[0;34m(\u001b[0m\u001b[0mtotal_read_count_b\u001b[0m \u001b[0;34m-\u001b[0m \u001b[0mdict_b\u001b[0m\u001b[0;34m[\u001b[0m\u001b[0mgene\u001b[0m\u001b[0;34m]\u001b[0m\u001b[0;34m)\u001b[0m\u001b[0;34m]\u001b[0m\u001b[0;34m]\u001b[0m\u001b[0;34m)\u001b[0m\u001b[0;34m\u001b[0m\u001b[0;34m\u001b[0m\u001b[0m\n\u001b[0;32m----> 2\u001b[0;31m \u001b[0mchi2_output\u001b[0m \u001b[0;34m=\u001b[0m \u001b[0mchi2_contingency\u001b[0m\u001b[0;34m(\u001b[0m\u001b[0mcontingency_table\u001b[0m\u001b[0;34m)\u001b[0m\u001b[0;34m\u001b[0m\u001b[0;34m\u001b[0m\u001b[0m\n\u001b[0m",
      "\u001b[0;32m/usr/lib/python3/dist-packages/scipy/stats/contingency.py\u001b[0m in \u001b[0;36mchi2_contingency\u001b[0;34m(observed, correction, lambda_)\u001b[0m\n\u001b[1;32m    251\u001b[0m         \u001b[0mzeropos\u001b[0m \u001b[0;34m=\u001b[0m \u001b[0mlist\u001b[0m\u001b[0;34m(\u001b[0m\u001b[0mzip\u001b[0m\u001b[0;34m(\u001b[0m\u001b[0;34m*\u001b[0m\u001b[0mnp\u001b[0m\u001b[0;34m.\u001b[0m\u001b[0mwhere\u001b[0m\u001b[0;34m(\u001b[0m\u001b[0mexpected\u001b[0m \u001b[0;34m==\u001b[0m \u001b[0;36m0\u001b[0m\u001b[0;34m)\u001b[0m\u001b[0;34m)\u001b[0m\u001b[0;34m)\u001b[0m\u001b[0;34m[\u001b[0m\u001b[0;36m0\u001b[0m\u001b[0;34m]\u001b[0m\u001b[0;34m\u001b[0m\u001b[0;34m\u001b[0m\u001b[0m\n\u001b[1;32m    252\u001b[0m         raise ValueError(\"The internally computed table of expected \"\n\u001b[0;32m--> 253\u001b[0;31m                          \"frequencies has a zero element at %s.\" % (zeropos,))\n\u001b[0m\u001b[1;32m    254\u001b[0m \u001b[0;34m\u001b[0m\u001b[0m\n\u001b[1;32m    255\u001b[0m     \u001b[0;31m# The degrees of freedom\u001b[0m\u001b[0;34m\u001b[0m\u001b[0;34m\u001b[0m\u001b[0;34m\u001b[0m\u001b[0m\n",
      "\u001b[0;31mValueError\u001b[0m: The internally computed table of expected frequencies has a zero element at (0, 0)."
     ]
    }
   ],
   "source": [
    "contingency_table = np.array([[dict_a[gene], (total_read_count_a - dict_a[gene])], [dict_b[gene], (total_read_count_b - dict_b[gene])]])\n",
    "chi2_output = chi2_contingency(contingency_table)"
   ]
  },
  {
   "cell_type": "code",
   "execution_count": 259,
   "metadata": {},
   "outputs": [
    {
     "data": {
      "text/plain": [
       "0"
      ]
     },
     "execution_count": 259,
     "metadata": {},
     "output_type": "execute_result"
    }
   ],
   "source": [
    "dict_b[gene] #this is the source of the valueerror"
   ]
  },
  {
   "cell_type": "code",
   "execution_count": 263,
   "metadata": {},
   "outputs": [
    {
     "data": {
      "text/plain": [
       "array([[    0, 15300],\n",
       "       [    0,  5797]])"
      ]
     },
     "execution_count": 263,
     "metadata": {},
     "output_type": "execute_result"
    }
   ],
   "source": [
    "contingency_table"
   ]
  },
  {
   "cell_type": "code",
   "execution_count": 267,
   "metadata": {},
   "outputs": [],
   "source": [
    "for g in dict_a.keys():\n",
    "    if dict_a[g] == 0 and dict_b[g] == 0:\n",
    "        break"
   ]
  },
  {
   "cell_type": "code",
   "execution_count": 268,
   "metadata": {},
   "outputs": [
    {
     "data": {
      "text/plain": [
       "'EfM3.000130'"
      ]
     },
     "execution_count": 268,
     "metadata": {},
     "output_type": "execute_result"
    }
   ],
   "source": [
    "g"
   ]
  },
  {
   "cell_type": "code",
   "execution_count": 269,
   "metadata": {},
   "outputs": [
    {
     "name": "stdout",
     "output_type": "stream",
     "text": [
      "EfM3.000130\t0\r\n"
     ]
    }
   ],
   "source": [
    "! grep 'EfM3.000130' sampleA.txt"
   ]
  },
  {
   "cell_type": "code",
   "execution_count": 270,
   "metadata": {},
   "outputs": [
    {
     "name": "stdout",
     "output_type": "stream",
     "text": [
      "EfM3.000130\t0\r\n"
     ]
    }
   ],
   "source": [
    "! grep 'EfM3.000130' sampleB.txt"
   ]
  },
  {
   "cell_type": "code",
   "execution_count": 271,
   "metadata": {},
   "outputs": [
    {
     "data": {
      "text/plain": [
       "nan"
      ]
     },
     "execution_count": 271,
     "metadata": {},
     "output_type": "execute_result"
    }
   ],
   "source": [
    "np.nan # for missing data or undefined pvalue (exp = 0 and 0)"
   ]
  },
  {
   "cell_type": "code",
   "execution_count": 272,
   "metadata": {},
   "outputs": [
    {
     "data": {
      "text/plain": [
       "False"
      ]
     },
     "execution_count": 272,
     "metadata": {},
     "output_type": "execute_result"
    }
   ],
   "source": [
    "np.nan < 0.1"
   ]
  },
  {
   "cell_type": "code",
   "execution_count": 320,
   "metadata": {},
   "outputs": [],
   "source": [
    "def read_count_sig(dict_a, dict_b):\n",
    "#input gene name, dictionaries to look up gene name, do chi square. output tuple of gene name,\n",
    "#pvalue (keep this in so we can correct for multiple testing later), 'significant/not'\n",
    "    total_read_count_a = sum(dict_a.values())\n",
    "    total_read_count_b = sum(dict_b.values())\n",
    "    for gene in dict_a.keys():\n",
    "        if gene in dict_b.keys():\n",
    "            count_a = dict_a[gene]\n",
    "            count_b = dict_b[gene]\n",
    "        if (count_a == 0) and (count_b == 0):\n",
    "            #do something with genes with no read counts\n",
    "            pass\n",
    "        else:\n",
    "            contingency_table = np.array([[count_a, (total_read_count_a - count_a)], [count_b, (total_read_count_b - count_b)]])\n",
    "            chi2_output = chi2_contingency(contingency_table)\n",
    "            print(gene, count_a, count_b, chi2_output[1])"
   ]
  },
  {
   "cell_type": "code",
   "execution_count": 321,
   "metadata": {},
   "outputs": [
    {
     "name": "stdout",
     "output_type": "stream",
     "text": [
      "EfM3.000010 21 8 0.845352040658\n",
      "EfM3.000020 63 14 0.0886069563539\n",
      "EfM3.000030 42 7 0.056022957147\n",
      "EfM3.000040 8 3 0.747030568139\n",
      "EfM3.000050 206 41 0.000156254234974\n",
      "EfM3.000060 202 77 0.98242399106\n",
      "EfM3.000070 129 96 4.27903239988e-07\n",
      "EfM3.000080 89 55 0.00515772444784\n",
      "EfM3.000090 11 5 0.953739963641\n",
      "EfM3.000100 326 115 0.540509882575\n",
      "EfM3.000110 149 52 0.664651068094\n",
      "EfM3.000120 51 12 0.173877004922\n",
      "EfM3.000140 5 1 0.891834856664\n",
      "EfM3.000150 77 40 0.126856266567\n",
      "EfM3.000160 66 27 0.825760718011\n",
      "EfM3.000170 120 25 0.00741827440123\n",
      "EfM3.000180 14 5 0.885850488021\n",
      "EfM3.000190 1060 131 4.19300533687e-39\n",
      "EfM3.000200 57 28 0.313028248106\n",
      "EfM3.000210 876 129 2.43513831545e-26\n",
      "EfM3.000220 1 2 0.382158317875\n",
      "EfM3.000230 24 5 0.30414354427\n",
      "EfM3.000240 67 32 0.33219737223\n",
      "EfM3.000250 4 3 0.625379155452\n",
      "EfM3.000260 14 10 0.183763552172\n",
      "EfM3.000270 174 63 0.812324650242\n",
      "EfM3.000280 6 1 0.719902357915\n",
      "EfM3.000290 68 46 0.00286237630215\n",
      "EfM3.000300 24 18 0.0392129256939\n",
      "EfM3.000310 85 39 0.371694743068\n",
      "EfM3.000320 36 14 0.939593864108\n",
      "EfM3.000330 142 57 0.771630847566\n",
      "EfM3.000340 107 36 0.599547625914\n",
      "EfM3.000350 134 65 0.117192830747\n",
      "EfM3.000360 322 200 2.60034067406e-08\n",
      "EfM3.000370 147 50 0.560366217992\n",
      "EfM3.000380 3 16 1.25646707214e-07\n",
      "EfM3.000390 333 101 0.0537298113752\n",
      "EfM3.000400 237 145 4.81123093235e-06\n",
      "EfM3.000410 25 4 0.148779407458\n",
      "EfM3.000420 35 9 0.38120777847\n",
      "EfM3.000430 314 33 6.40279882668e-14\n",
      "EfM3.000440 214 147 1.8478442815e-08\n",
      "EfM3.000450 8 5 0.564162123198\n",
      "EfM3.000460 42 32 0.00358027622413\n",
      "EfM3.000470 38 21 0.210450735935\n",
      "EfM3.000480 78 36 0.379738900291\n",
      "EfM3.000490 127 42 0.495717205882\n",
      "EfM3.000500 125 43 0.644045610634\n",
      "EfM3.000510 228 128 0.000379725742353\n",
      "EfM3.000520 416 259 1.55801267654e-10\n",
      "EfM3.000530 626 247 0.608296456138\n",
      "EfM3.000540 207 103 0.0264294865906\n",
      "EfM3.000550 12 8 0.315131364374\n",
      "EfM3.000560 168 51 0.186747395674\n",
      "EfM3.000570 524 112 1.95908668865e-08\n",
      "EfM3.000580 102 37 0.894716878778\n",
      "EfM3.000590 101 74 1.54987426044e-05\n",
      "EfM3.000600 207 63 0.142428515201\n",
      "EfM3.000610 344 74 7.95618938318e-06\n",
      "EfM3.000620 116 63 0.0251648859204\n",
      "EfM3.000630 109 37 0.626268652901\n",
      "EfM3.000640 1 0 0.613883545641\n",
      "EfM3.000650 163 100 0.000153420380795\n",
      "EfM3.000660 18 8 0.87572437361\n",
      "EfM3.000670 285 186 4.79260609302e-09\n",
      "EfM3.000680 1 1 0.937428518105\n",
      "EfM3.000690 295 92 0.111708285155\n",
      "EfM3.000700 199 74 0.944025172447\n",
      "EfM3.000710 204 56 0.036724653151\n",
      "EfM3.000720 366 138 0.999058446955\n",
      "EfM3.000730 45 13 0.472844431151\n",
      "EfM3.000740 139 104 1.10372971985e-07\n",
      "EfM3.000750 41 30 0.00780101288183\n",
      "EfM3.000760 103 49 0.219472462655\n",
      "EfM3.000770 314 103 0.21946450595\n",
      "EfM3.000780 66 32 0.299767165693\n",
      "EfM3.000790 142 150 6.03698104308e-20\n",
      "EfM3.000800 157 41 0.0389841627065\n",
      "EfM3.000810 24 7 0.681853444957\n",
      "EfM3.000820 28 20 0.0410747292422\n",
      "EfM3.000830 22 22 0.00146712791433\n",
      "EfM3.000840 64 29 0.49287037255\n",
      "EfM3.000850 112 60 0.0358216715123\n",
      "EfM3.000860 52 29 0.119498286492\n",
      "EfM3.000870 86 32 0.987435869668\n",
      "EfM3.000880 2 9 0.000215122546545\n",
      "EfM3.000890 124 73 0.00322463216189\n",
      "EfM3.000900 77 20 0.160662043275\n",
      "EfM3.000910 34 19 0.225174625994\n",
      "EfM3.000920 290 104 0.668167387262\n",
      "EfM3.000930 909 266 0.000150299901584\n",
      "EfM3.000940 266 74 0.0204561284571\n",
      "EfM3.000950 16 1 0.0847689126682\n",
      "EfM3.000960 130 29 0.0113925757721\n",
      "EfM3.000970 414 226 8.04580506381e-06\n",
      "EfM3.000980 95 53 0.0287757028406\n",
      "EfM3.000990 336 136 0.544964111324\n",
      "EfM3.001000 14 9 0.308261051157\n"
     ]
    }
   ],
   "source": [
    "read_count_sig(sample_a_dict, sample_b_dict) #store output as 4 lists\n",
    "#as we need all pvalues first before we can adjust, so putting adjusting within above loop won't work"
   ]
  },
  {
   "cell_type": "code",
   "execution_count": 315,
   "metadata": {},
   "outputs": [],
   "source": [
    "from statsmodels.stats import multitest"
   ]
  },
  {
   "cell_type": "code",
   "execution_count": 352,
   "metadata": {},
   "outputs": [],
   "source": [
    "def read_count_sig(dict_a, dict_b): #makes pandas dataframe. might want to rename this?\n",
    "#input gene name, dictionaries to look up gene name, do chi square. output tuple of gene name,\n",
    "#pvalue (keep this in so we can correct for multiple testing later), 'significant/not'\n",
    "    total_read_count_a = sum(dict_a.values())\n",
    "    total_read_count_b = sum(dict_b.values())\n",
    "    output_data = []\n",
    "    for gene in dict_a.keys():\n",
    "        if gene in dict_b.keys():\n",
    "            count_a = dict_a[gene]\n",
    "            count_b = dict_b[gene]\n",
    "        if (count_a == 0) and (count_b == 0):\n",
    "            #do something with genes with no read counts\n",
    "            #currently skipping.\n",
    "            pass\n",
    "        else:\n",
    "            contingency_table = np.array([[count_a, (total_read_count_a - count_a)], [count_b, (total_read_count_b - count_b)]])\n",
    "            chi2_output = chi2_contingency(contingency_table)\n",
    "            #print(gene, count_a, count_b, chi2_output[1])\n",
    "        output_data.append(chi2_output[1])\n",
    "    return(output_data) #modify this so it returns a list of lists"
   ]
  },
  {
   "cell_type": "code",
   "execution_count": 354,
   "metadata": {},
   "outputs": [],
   "source": [
    "pvals = read_count_sig(sample_a_dict, sample_b_dict)"
   ]
  },
  {
   "cell_type": "code",
   "execution_count": 343,
   "metadata": {},
   "outputs": [],
   "source": [
    "L = []"
   ]
  },
  {
   "cell_type": "code",
   "execution_count": 345,
   "metadata": {},
   "outputs": [],
   "source": [
    "for i in range(10):\n",
    "    L.append(i)"
   ]
  },
  {
   "cell_type": "code",
   "execution_count": 340,
   "metadata": {},
   "outputs": [
    {
     "ename": "IndentationError",
     "evalue": "unexpected indent (<ipython-input-340-e429340703a2>, line 3)",
     "output_type": "error",
     "traceback": [
      "\u001b[0;36m  File \u001b[0;32m\"<ipython-input-340-e429340703a2>\"\u001b[0;36m, line \u001b[0;32m3\u001b[0m\n\u001b[0;31m    data = [gene, count_a, count_b, chi2_output[1]]\u001b[0m\n\u001b[0m    ^\u001b[0m\n\u001b[0;31mIndentationError\u001b[0m\u001b[0;31m:\u001b[0m unexpected indent\n"
     ]
    }
   ],
   "source": [
    "#dataframe ramblings\n",
    "                \n",
    "            data = [gene, count_a, count_b, chi2_output[1]]\n",
    "            pd_output_data = pd.DataFrame(data, columns=['Gene_Name', 'SampleA_Read_Count', 'SampleB_Read_Count', 'pvalue'])\n",
    "            print(pd_output_data)"
   ]
  },
  {
   "cell_type": "code",
   "execution_count": 376,
   "metadata": {},
   "outputs": [
    {
     "data": {
      "text/plain": [
       "[1, 2, 3]"
      ]
     },
     "execution_count": 376,
     "metadata": {},
     "output_type": "execute_result"
    }
   ],
   "source": [
    "#assign all three elements of the tuple at once -better for readibility\n",
    "x,y,pval = ([1,2,3], [3,2,1], [0.00001, 0.918938, 0.73713])\n"
   ]
  },
  {
   "cell_type": "code",
   "execution_count": 356,
   "metadata": {},
   "outputs": [
    {
     "data": {
      "text/plain": [
       "(array([False, False, False, False,  True, False,  True,  True, False,\n",
       "        False, False, False, False, False, False, False,  True, False,\n",
       "         True, False,  True, False, False, False, False, False, False,\n",
       "        False,  True, False, False, False, False, False, False,  True,\n",
       "        False,  True, False,  True, False, False,  True,  True, False,\n",
       "         True, False, False, False, False,  True,  True, False, False,\n",
       "        False, False,  True, False,  True, False,  True, False, False,\n",
       "        False,  True, False,  True, False, False, False, False, False,\n",
       "        False,  True,  True, False, False, False,  True, False, False,\n",
       "        False,  True, False, False, False, False,  True,  True, False,\n",
       "        False, False,  True, False, False,  True,  True, False, False, False], dtype=bool),\n",
       " array([  9.49833754e-01,   2.10968944e-01,   1.40057393e-01,\n",
       "          8.78859492e-01,   8.22390710e-04,   9.97409969e-01,\n",
       "          3.56586033e-06,   1.98374017e-02,   9.83237076e-01,\n",
       "          7.56894599e-01,   8.14838277e-01,   3.40935304e-01,\n",
       "          3.40935304e-01,   9.62061160e-01,   2.75774493e-01,\n",
       "          9.38364452e-01,   2.74750904e-02,   9.62061160e-01,\n",
       "          4.19300534e-37,   5.08276394e-01,   1.21756916e-24,\n",
       "          5.70385549e-01,   5.08276394e-01,   5.27297416e-01,\n",
       "          7.92745130e-01,   3.52353577e-01,   9.33706495e-01,\n",
       "          8.57026617e-01,   1.24451144e-02,   1.05980880e-01,\n",
       "          5.70385549e-01,   9.83237076e-01,   8.97245172e-01,\n",
       "          7.92745130e-01,   2.65551748e-01,   2.88926742e-07,\n",
       "          7.62381248e-01,   1.14224279e-06,   1.37768747e-01,\n",
       "          3.70094687e-05,   3.09957099e-01,   5.70385549e-01,\n",
       "          1.60069971e-12,   2.44885836e-07,   7.62381248e-01,\n",
       "          1.43211049e-02,   3.89723585e-01,   5.70385549e-01,\n",
       "          7.08167437e-01,   8.05057013e-01,   1.80821782e-03,\n",
       "          3.11602535e-09,   7.92745130e-01,   8.25921456e-02,\n",
       "          5.08276394e-01,   3.52353577e-01,   2.44885836e-07,\n",
       "          9.62061160e-01,   9.68671413e-05,   3.03039394e-01,\n",
       "          5.36387004e-05,   8.11770514e-02,   7.92745130e-01,\n",
       "          7.92745130e-01,   8.22390710e-04,   9.62061160e-01,\n",
       "          7.98767682e-08,   9.83237076e-01,   2.59786710e-01,\n",
       "          9.83237076e-01,   1.04927580e-01,   9.99058447e-01,\n",
       "          6.95359458e-01,   1.10372972e-06,   2.78607603e-02,\n",
       "          3.91915112e-01,   3.91915112e-01,   5.08276394e-01,\n",
       "          2.01232701e-18,   1.05980880e-01,   8.21510175e-01,\n",
       "          1.08091393e-01,   6.66876325e-03,   7.08167437e-01,\n",
       "          1.04927580e-01,   2.65551748e-01,   9.97409969e-01,\n",
       "          1.07561273e-03,   1.34359673e-02,   3.27881721e-01,\n",
       "          3.95043203e-01,   8.14838277e-01,   8.22390710e-04,\n",
       "          6.81870949e-02,   2.06753446e-01,   3.92847440e-02,\n",
       "          5.36387004e-05,   8.71990995e-02,   7.56894599e-01,\n",
       "          5.08276394e-01]),\n",
       " 0.00051280141626230957,\n",
       " 0.0005)"
      ]
     },
     "execution_count": 356,
     "metadata": {},
     "output_type": "execute_result"
    }
   ],
   "source": [
    "from statsmodels.stats.multitest import multipletests\n",
    "#calculate adjusted pvalues with statsmodels\n",
    "multipletests(pvals, alpha=0.05, method='fdr_bh', is_sorted=False, returnsorted=False)"
   ]
  },
  {
   "cell_type": "code",
   "execution_count": 359,
   "metadata": {},
   "outputs": [],
   "source": [
    "import matplotlib.pyplot as plt\n",
    "import numpy as np"
   ]
  },
  {
   "cell_type": "code",
   "execution_count": 369,
   "metadata": {},
   "outputs": [
    {
     "data": {
      "text/plain": [
       "<matplotlib.collections.PathCollection at 0x7fd86cf84898>"
      ]
     },
     "execution_count": 369,
     "metadata": {},
     "output_type": "execute_result"
    },
    {
     "data": {
      "image/png": "[encoded data removed]",
      "text/plain": [
       "<matplotlib.figure.Figure at 0x7fd86d0357b8>"
      ]
     },
     "metadata": {},
     "output_type": "display_data"
    }
   ],
   "source": [
    "x = dict_a.values()\n",
    "y = dict_b.values()\n",
    "plt.scatter(x, y)"
   ]
  },
  {
   "cell_type": "code",
   "execution_count": 364,
   "metadata": {},
   "outputs": [],
   "source": [
    "?np.random.shuffle"
   ]
  },
  {
   "cell_type": "code",
   "execution_count": 367,
   "metadata": {},
   "outputs": [
    {
     "data": {
      "text/plain": [
       "[21,\n",
       " 63,\n",
       " 42,\n",
       " 8,\n",
       " 206,\n",
       " 202,\n",
       " 129,\n",
       " 89,\n",
       " 11,\n",
       " 326,\n",
       " 149,\n",
       " 51,\n",
       " 0,\n",
       " 5,\n",
       " 77,\n",
       " 66,\n",
       " 120,\n",
       " 14,\n",
       " 1060,\n",
       " 57,\n",
       " 876,\n",
       " 1,\n",
       " 24,\n",
       " 67,\n",
       " 4,\n",
       " 14,\n",
       " 174,\n",
       " 6,\n",
       " 68,\n",
       " 24,\n",
       " 85,\n",
       " 36,\n",
       " 142,\n",
       " 107,\n",
       " 134,\n",
       " 322,\n",
       " 147,\n",
       " 3,\n",
       " 333,\n",
       " 237,\n",
       " 25,\n",
       " 35,\n",
       " 314,\n",
       " 214,\n",
       " 8,\n",
       " 42,\n",
       " 38,\n",
       " 78,\n",
       " 127,\n",
       " 125,\n",
       " 228,\n",
       " 416,\n",
       " 626,\n",
       " 207,\n",
       " 12,\n",
       " 168,\n",
       " 524,\n",
       " 102,\n",
       " 101,\n",
       " 207,\n",
       " 344,\n",
       " 116,\n",
       " 109,\n",
       " 1,\n",
       " 163,\n",
       " 18,\n",
       " 285,\n",
       " 1,\n",
       " 295,\n",
       " 199,\n",
       " 204,\n",
       " 366,\n",
       " 45,\n",
       " 139,\n",
       " 41,\n",
       " 103,\n",
       " 314,\n",
       " 66,\n",
       " 142,\n",
       " 157,\n",
       " 24,\n",
       " 28,\n",
       " 22,\n",
       " 64,\n",
       " 112,\n",
       " 52,\n",
       " 86,\n",
       " 2,\n",
       " 124,\n",
       " 77,\n",
       " 34,\n",
       " 290,\n",
       " 909,\n",
       " 266,\n",
       " 16,\n",
       " 130,\n",
       " 414,\n",
       " 95,\n",
       " 336,\n",
       " 14]"
      ]
     },
     "execution_count": 367,
     "metadata": {},
     "output_type": "execute_result"
    }
   ],
   "source": [
    "list(dict_a.values())"
   ]
  },
  {
   "cell_type": "code",
   "execution_count": 409,
   "metadata": {},
   "outputs": [],
   "source": [
    "def read_count_sig(dict_a, dict_b): #makes pandas dataframe. might want to rename this?\n",
    "#input gene name, dictionaries to look up gene name, do chi square. output tuple of gene name,\n",
    "#pvalue (keep this in so we can correct for multiple testing later), 'significant/not'\n",
    "    total_read_count_a = sum(dict_a.values())\n",
    "    total_read_count_b = sum(dict_b.values())\n",
    "    all_a_readcounts = []\n",
    "    all_b_readcounts = []\n",
    "    all_pvalues = []\n",
    "    for gene in dict_a.keys():\n",
    "        if gene in dict_b.keys():\n",
    "            count_a = dict_a[gene]\n",
    "            count_b = dict_b[gene]\n",
    "        if (count_a == 0) and (count_b == 0):\n",
    "            #do something with genes with no read counts\n",
    "            #currently skipping.\n",
    "            pass\n",
    "        else:\n",
    "            contingency_table = np.array([[count_a, (total_read_count_a - count_a)], [count_b, (total_read_count_b - count_b)]])\n",
    "            chi2_output = chi2_contingency(contingency_table)\n",
    "            #print(gene, count_a, count_b, chi2_output[1])\n",
    "            all_a_readcounts.append(count_a)\n",
    "            all_b_readcounts.append(count_b)\n",
    "            all_pvalues.append(chi2_output[1])\n",
    "    return(all_a_readcounts, all_b_readcounts, all_pvalues) #modify this so it returns a list of lists"
   ]
  },
  {
   "cell_type": "code",
   "execution_count": 412,
   "metadata": {},
   "outputs": [],
   "source": [
    "x, y, pvals = read_count_sig(sample_a_dict, sample_b_dict) #triple assign this output to x, y, pvals. then do plt.scatter"
   ]
  },
  {
   "cell_type": "code",
   "execution_count": 400,
   "metadata": {},
   "outputs": [],
   "source": [
    "#assign all three elements of the tuple of lists at once -better for readibility\n",
    "a,b,c = ([1,2,3], [3,2,1], [0.00001, 0.918938, 0.73713])"
   ]
  },
  {
   "cell_type": "code",
   "execution_count": 413,
   "metadata": {},
   "outputs": [
    {
     "data": {
      "text/plain": [
       "[21,\n",
       " 63,\n",
       " 42,\n",
       " 8,\n",
       " 206,\n",
       " 202,\n",
       " 129,\n",
       " 89,\n",
       " 11,\n",
       " 326,\n",
       " 149,\n",
       " 51,\n",
       " 5,\n",
       " 77,\n",
       " 66,\n",
       " 120,\n",
       " 14,\n",
       " 1060,\n",
       " 57,\n",
       " 876,\n",
       " 1,\n",
       " 24,\n",
       " 67,\n",
       " 4,\n",
       " 14,\n",
       " 174,\n",
       " 6,\n",
       " 68,\n",
       " 24,\n",
       " 85,\n",
       " 36,\n",
       " 142,\n",
       " 107,\n",
       " 134,\n",
       " 322,\n",
       " 147,\n",
       " 3,\n",
       " 333,\n",
       " 237,\n",
       " 25,\n",
       " 35,\n",
       " 314,\n",
       " 214,\n",
       " 8,\n",
       " 42,\n",
       " 38,\n",
       " 78,\n",
       " 127,\n",
       " 125,\n",
       " 228,\n",
       " 416,\n",
       " 626,\n",
       " 207,\n",
       " 12,\n",
       " 168,\n",
       " 524,\n",
       " 102,\n",
       " 101,\n",
       " 207,\n",
       " 344,\n",
       " 116,\n",
       " 109,\n",
       " 1,\n",
       " 163,\n",
       " 18,\n",
       " 285,\n",
       " 1,\n",
       " 295,\n",
       " 199,\n",
       " 204,\n",
       " 366,\n",
       " 45,\n",
       " 139,\n",
       " 41,\n",
       " 103,\n",
       " 314,\n",
       " 66,\n",
       " 142,\n",
       " 157,\n",
       " 24,\n",
       " 28,\n",
       " 22,\n",
       " 64,\n",
       " 112,\n",
       " 52,\n",
       " 86,\n",
       " 2,\n",
       " 124,\n",
       " 77,\n",
       " 34,\n",
       " 290,\n",
       " 909,\n",
       " 266,\n",
       " 16,\n",
       " 130,\n",
       " 414,\n",
       " 95,\n",
       " 336,\n",
       " 14]"
      ]
     },
     "execution_count": 413,
     "metadata": {},
     "output_type": "execute_result"
    }
   ],
   "source": [
    "x"
   ]
  },
  {
   "cell_type": "code",
   "execution_count": 414,
   "metadata": {},
   "outputs": [
    {
     "data": {
      "text/plain": [
       "<matplotlib.collections.PathCollection at 0x7fd86cf14b38>"
      ]
     },
     "execution_count": 414,
     "metadata": {},
     "output_type": "execute_result"
    },
    {
     "data": {
      "image/png": "[encoded data removed]",
      "text/plain": [
       "<matplotlib.figure.Figure at 0x7fd86ceefd68>"
      ]
     },
     "metadata": {},
     "output_type": "display_data"
    }
   ],
   "source": [
    "plt.scatter(x, y)"
   ]
  },
  {
   "cell_type": "code",
   "execution_count": 415,
   "metadata": {},
   "outputs": [],
   "source": [
    "#read documentation for multitest. see what it returns. just need out of it the padj, to use to colour this^ plot"
   ]
  },
  {
   "cell_type": "code",
   "execution_count": null,
   "metadata": {},
   "outputs": [],
   "source": []
  }
 ],
 "metadata": {
  "kernelspec": {
   "display_name": "Python 3",
   "language": "python",
   "name": "python3"
  },
  "language_info": {
   "codemirror_mode": {
    "name": "ipython",
    "version": 3
   },
   "file_extension": ".py",
   "mimetype": "text/x-python",
   "name": "python",
   "nbconvert_exporter": "python",
   "pygments_lexer": "ipython3",
   "version": "3.6.7"
  }
 },
 "nbformat": 4,
 "nbformat_minor": 2
}
