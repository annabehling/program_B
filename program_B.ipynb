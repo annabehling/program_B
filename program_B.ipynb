{
 "cells": [
  {
   "cell_type": "code",
   "execution_count": 2,
   "metadata": {},
   "outputs": [
    {
     "ename": "NameError",
     "evalue": "name 'file_name' is not defined",
     "output_type": "error",
     "traceback": [
      "\u001b[0;31m---------------------------------------------------------------------------\u001b[0m",
      "\u001b[0;31mNameError\u001b[0m                                 Traceback (most recent call last)",
      "\u001b[0;32m<ipython-input-2-b06543927ef8>\u001b[0m in \u001b[0;36m<module>\u001b[0;34m()\u001b[0m\n\u001b[0;32m----> 1\u001b[0;31m \u001b[0mread_file\u001b[0m \u001b[0;34m=\u001b[0m \u001b[0mopen\u001b[0m\u001b[0;34m(\u001b[0m\u001b[0mfile_name\u001b[0m\u001b[0;34m,\u001b[0m \u001b[0;34m\"r\"\u001b[0m\u001b[0;34m)\u001b[0m\u001b[0;34m\u001b[0m\u001b[0;34m\u001b[0m\u001b[0m\n\u001b[0m",
      "\u001b[0;31mNameError\u001b[0m: name 'file_name' is not defined"
     ]
    }
   ],
   "source": [
    "read_file = open(file_name, \"r\")"
   ]
  },
  {
   "cell_type": "code",
   "execution_count": 3,
   "metadata": {},
   "outputs": [
    {
     "name": "stdout",
     "output_type": "stream",
     "text": [
      "LICENSE  program_B.Rproj  \u001b[0m\u001b[01;34mraw_data\u001b[0m/  rstudio_programB.R  Untitled.ipynb\r\n"
     ]
    }
   ],
   "source": [
    "ls"
   ]
  },
  {
   "cell_type": "code",
   "execution_count": 13,
   "metadata": {},
   "outputs": [
    {
     "name": "stdout",
     "output_type": "stream",
     "text": [
      "/home/anna/Desktop/program_B\n"
     ]
    }
   ],
   "source": [
    "cd .."
   ]
  },
  {
   "cell_type": "code",
   "execution_count": 5,
   "metadata": {},
   "outputs": [
    {
     "name": "stdout",
     "output_type": "stream",
     "text": [
      "sampleA.txt  sampleBprime.txt  sampleB.txt\r\n"
     ]
    }
   ],
   "source": [
    "ls"
   ]
  },
  {
   "cell_type": "code",
   "execution_count": 36,
   "metadata": {},
   "outputs": [],
   "source": [
    "def read_file(txt_file):\n",
    "    \"\"\"read in .txt files\"\"\"\n",
    "    with open(txt_file, 'r') as f:\n",
    "        print(f)\n",
    "        "
   ]
  },
  {
   "cell_type": "code",
   "execution_count": 33,
   "metadata": {},
   "outputs": [
    {
     "name": "stdout",
     "output_type": "stream",
     "text": [
      "sampleA.txt  sampleBprime.txt  sampleB.txt\r\n"
     ]
    }
   ],
   "source": [
    "ls"
   ]
  },
  {
   "cell_type": "code",
   "execution_count": 34,
   "metadata": {},
   "outputs": [],
   "source": [
    "txt_file = 'sampleA.txt'"
   ]
  },
  {
   "cell_type": "code",
   "execution_count": 37,
   "metadata": {},
   "outputs": [
    {
     "name": "stdout",
     "output_type": "stream",
     "text": [
      "<_io.TextIOWrapper name='sampleA.txt' mode='r' encoding='UTF-8'>\n"
     ]
    }
   ],
   "source": [
    "read_file(txt_file)"
   ]
  },
  {
   "cell_type": "code",
   "execution_count": 57,
   "metadata": {},
   "outputs": [],
   "source": [
    "file_handle = open(txt_file, 'r')"
   ]
  },
  {
   "cell_type": "code",
   "execution_count": 56,
   "metadata": {},
   "outputs": [
    {
     "name": "stdout",
     "output_type": "stream",
     "text": [
      "gene\tsampleA\n",
      "\n",
      "['gene', 'sampleA']\n",
      "EfM3.000010\t21\n",
      "\n",
      "['EfM3.000010', '21']\n",
      "EfM3.000020\t63\n",
      "\n",
      "['EfM3.000020', '63']\n",
      "EfM3.000030\t42\n",
      "\n",
      "['EfM3.000030', '42']\n",
      "EfM3.000040\t8\n",
      "\n",
      "['EfM3.000040', '8']\n",
      "EfM3.000050\t206\n",
      "\n",
      "['EfM3.000050', '206']\n",
      "EfM3.000060\t202\n",
      "\n",
      "['EfM3.000060', '202']\n",
      "EfM3.000070\t129\n",
      "\n",
      "['EfM3.000070', '129']\n",
      "EfM3.000080\t89\n",
      "\n",
      "['EfM3.000080', '89']\n",
      "EfM3.000090\t11\n",
      "\n",
      "['EfM3.000090', '11']\n",
      "EfM3.000100\t326\n",
      "\n",
      "['EfM3.000100', '326']\n",
      "EfM3.000110\t149\n",
      "\n",
      "['EfM3.000110', '149']\n",
      "EfM3.000120\t51\n",
      "\n",
      "['EfM3.000120', '51']\n",
      "EfM3.000130\t0\n",
      "\n",
      "['EfM3.000130', '0']\n",
      "EfM3.000140\t5\n",
      "\n",
      "['EfM3.000140', '5']\n",
      "EfM3.000150\t77\n",
      "\n",
      "['EfM3.000150', '77']\n",
      "EfM3.000160\t66\n",
      "\n",
      "['EfM3.000160', '66']\n",
      "EfM3.000170\t120\n",
      "\n",
      "['EfM3.000170', '120']\n",
      "EfM3.000180\t14\n",
      "\n",
      "['EfM3.000180', '14']\n",
      "EfM3.000190\t1060\n",
      "\n",
      "['EfM3.000190', '1060']\n",
      "EfM3.000200\t57\n",
      "\n",
      "['EfM3.000200', '57']\n",
      "EfM3.000210\t876\n",
      "\n",
      "['EfM3.000210', '876']\n",
      "EfM3.000220\t1\n",
      "\n",
      "['EfM3.000220', '1']\n",
      "EfM3.000230\t24\n",
      "\n",
      "['EfM3.000230', '24']\n",
      "EfM3.000240\t67\n",
      "\n",
      "['EfM3.000240', '67']\n",
      "EfM3.000250\t4\n",
      "\n",
      "['EfM3.000250', '4']\n",
      "EfM3.000260\t14\n",
      "\n",
      "['EfM3.000260', '14']\n",
      "EfM3.000270\t174\n",
      "\n",
      "['EfM3.000270', '174']\n",
      "EfM3.000280\t6\n",
      "\n",
      "['EfM3.000280', '6']\n",
      "EfM3.000290\t68\n",
      "\n",
      "['EfM3.000290', '68']\n",
      "EfM3.000300\t24\n",
      "\n",
      "['EfM3.000300', '24']\n",
      "EfM3.000310\t85\n",
      "\n",
      "['EfM3.000310', '85']\n",
      "EfM3.000320\t36\n",
      "\n",
      "['EfM3.000320', '36']\n",
      "EfM3.000330\t142\n",
      "\n",
      "['EfM3.000330', '142']\n",
      "EfM3.000340\t107\n",
      "\n",
      "['EfM3.000340', '107']\n",
      "EfM3.000350\t134\n",
      "\n",
      "['EfM3.000350', '134']\n",
      "EfM3.000360\t322\n",
      "\n",
      "['EfM3.000360', '322']\n",
      "EfM3.000370\t147\n",
      "\n",
      "['EfM3.000370', '147']\n",
      "EfM3.000380\t3\n",
      "\n",
      "['EfM3.000380', '3']\n",
      "EfM3.000390\t333\n",
      "\n",
      "['EfM3.000390', '333']\n",
      "EfM3.000400\t237\n",
      "\n",
      "['EfM3.000400', '237']\n",
      "EfM3.000410\t25\n",
      "\n",
      "['EfM3.000410', '25']\n",
      "EfM3.000420\t35\n",
      "\n",
      "['EfM3.000420', '35']\n",
      "EfM3.000430\t314\n",
      "\n",
      "['EfM3.000430', '314']\n",
      "EfM3.000440\t214\n",
      "\n",
      "['EfM3.000440', '214']\n",
      "EfM3.000450\t8\n",
      "\n",
      "['EfM3.000450', '8']\n",
      "EfM3.000460\t42\n",
      "\n",
      "['EfM3.000460', '42']\n",
      "EfM3.000470\t38\n",
      "\n",
      "['EfM3.000470', '38']\n",
      "EfM3.000480\t78\n",
      "\n",
      "['EfM3.000480', '78']\n",
      "EfM3.000490\t127\n",
      "\n",
      "['EfM3.000490', '127']\n",
      "EfM3.000500\t125\n",
      "\n",
      "['EfM3.000500', '125']\n",
      "EfM3.000510\t228\n",
      "\n",
      "['EfM3.000510', '228']\n",
      "EfM3.000520\t416\n",
      "\n",
      "['EfM3.000520', '416']\n",
      "EfM3.000530\t626\n",
      "\n",
      "['EfM3.000530', '626']\n",
      "EfM3.000540\t207\n",
      "\n",
      "['EfM3.000540', '207']\n",
      "EfM3.000550\t12\n",
      "\n",
      "['EfM3.000550', '12']\n",
      "EfM3.000560\t168\n",
      "\n",
      "['EfM3.000560', '168']\n",
      "EfM3.000570\t524\n",
      "\n",
      "['EfM3.000570', '524']\n",
      "EfM3.000580\t102\n",
      "\n",
      "['EfM3.000580', '102']\n",
      "EfM3.000590\t101\n",
      "\n",
      "['EfM3.000590', '101']\n",
      "EfM3.000600\t207\n",
      "\n",
      "['EfM3.000600', '207']\n",
      "EfM3.000610\t344\n",
      "\n",
      "['EfM3.000610', '344']\n",
      "EfM3.000620\t116\n",
      "\n",
      "['EfM3.000620', '116']\n",
      "EfM3.000630\t109\n",
      "\n",
      "['EfM3.000630', '109']\n",
      "EfM3.000640\t1\n",
      "\n",
      "['EfM3.000640', '1']\n",
      "EfM3.000650\t163\n",
      "\n",
      "['EfM3.000650', '163']\n",
      "EfM3.000660\t18\n",
      "\n",
      "['EfM3.000660', '18']\n",
      "EfM3.000670\t285\n",
      "\n",
      "['EfM3.000670', '285']\n",
      "EfM3.000680\t1\n",
      "\n",
      "['EfM3.000680', '1']\n",
      "EfM3.000690\t295\n",
      "\n",
      "['EfM3.000690', '295']\n",
      "EfM3.000700\t199\n",
      "\n",
      "['EfM3.000700', '199']\n",
      "EfM3.000710\t204\n",
      "\n",
      "['EfM3.000710', '204']\n",
      "EfM3.000720\t366\n",
      "\n",
      "['EfM3.000720', '366']\n",
      "EfM3.000730\t45\n",
      "\n",
      "['EfM3.000730', '45']\n",
      "EfM3.000740\t139\n",
      "\n",
      "['EfM3.000740', '139']\n",
      "EfM3.000750\t41\n",
      "\n",
      "['EfM3.000750', '41']\n",
      "EfM3.000760\t103\n",
      "\n",
      "['EfM3.000760', '103']\n",
      "EfM3.000770\t314\n",
      "\n",
      "['EfM3.000770', '314']\n",
      "EfM3.000780\t66\n",
      "\n",
      "['EfM3.000780', '66']\n",
      "EfM3.000790\t142\n",
      "\n",
      "['EfM3.000790', '142']\n",
      "EfM3.000800\t157\n",
      "\n",
      "['EfM3.000800', '157']\n",
      "EfM3.000810\t24\n",
      "\n",
      "['EfM3.000810', '24']\n",
      "EfM3.000820\t28\n",
      "\n",
      "['EfM3.000820', '28']\n",
      "EfM3.000830\t22\n",
      "\n",
      "['EfM3.000830', '22']\n",
      "EfM3.000840\t64\n",
      "\n",
      "['EfM3.000840', '64']\n",
      "EfM3.000850\t112\n",
      "\n",
      "['EfM3.000850', '112']\n",
      "EfM3.000860\t52\n",
      "\n",
      "['EfM3.000860', '52']\n",
      "EfM3.000870\t86\n",
      "\n",
      "['EfM3.000870', '86']\n",
      "EfM3.000880\t2\n",
      "\n",
      "['EfM3.000880', '2']\n",
      "EfM3.000890\t124\n",
      "\n",
      "['EfM3.000890', '124']\n",
      "EfM3.000900\t77\n",
      "\n",
      "['EfM3.000900', '77']\n",
      "EfM3.000910\t34\n",
      "\n",
      "['EfM3.000910', '34']\n",
      "EfM3.000920\t290\n",
      "\n",
      "['EfM3.000920', '290']\n",
      "EfM3.000930\t909\n",
      "\n",
      "['EfM3.000930', '909']\n",
      "EfM3.000940\t266\n",
      "\n",
      "['EfM3.000940', '266']\n",
      "EfM3.000950\t16\n",
      "\n",
      "['EfM3.000950', '16']\n",
      "EfM3.000960\t130\n",
      "\n",
      "['EfM3.000960', '130']\n",
      "EfM3.000970\t414\n",
      "\n",
      "['EfM3.000970', '414']\n",
      "EfM3.000980\t95\n",
      "\n",
      "['EfM3.000980', '95']\n",
      "EfM3.000990\t336\n",
      "\n",
      "['EfM3.000990', '336']\n",
      "EfM3.001000\t14\n",
      "\n",
      "['EfM3.001000', '14']\n"
     ]
    }
   ],
   "source": [
    "for line in file_handle:\n",
    "    print(line)\n",
    "    print([token.strip() for token in line.split(\"\\t\")])"
   ]
  },
  {
   "cell_type": "code",
   "execution_count": 58,
   "metadata": {},
   "outputs": [
    {
     "data": {
      "text/plain": [
       "['gene\\tsampleA\\n',\n",
       " 'EfM3.000010\\t21\\n',\n",
       " 'EfM3.000020\\t63\\n',\n",
       " 'EfM3.000030\\t42\\n',\n",
       " 'EfM3.000040\\t8\\n',\n",
       " 'EfM3.000050\\t206\\n',\n",
       " 'EfM3.000060\\t202\\n',\n",
       " 'EfM3.000070\\t129\\n',\n",
       " 'EfM3.000080\\t89\\n',\n",
       " 'EfM3.000090\\t11\\n',\n",
       " 'EfM3.000100\\t326\\n',\n",
       " 'EfM3.000110\\t149\\n',\n",
       " 'EfM3.000120\\t51\\n',\n",
       " 'EfM3.000130\\t0\\n',\n",
       " 'EfM3.000140\\t5\\n',\n",
       " 'EfM3.000150\\t77\\n',\n",
       " 'EfM3.000160\\t66\\n',\n",
       " 'EfM3.000170\\t120\\n',\n",
       " 'EfM3.000180\\t14\\n',\n",
       " 'EfM3.000190\\t1060\\n',\n",
       " 'EfM3.000200\\t57\\n',\n",
       " 'EfM3.000210\\t876\\n',\n",
       " 'EfM3.000220\\t1\\n',\n",
       " 'EfM3.000230\\t24\\n',\n",
       " 'EfM3.000240\\t67\\n',\n",
       " 'EfM3.000250\\t4\\n',\n",
       " 'EfM3.000260\\t14\\n',\n",
       " 'EfM3.000270\\t174\\n',\n",
       " 'EfM3.000280\\t6\\n',\n",
       " 'EfM3.000290\\t68\\n',\n",
       " 'EfM3.000300\\t24\\n',\n",
       " 'EfM3.000310\\t85\\n',\n",
       " 'EfM3.000320\\t36\\n',\n",
       " 'EfM3.000330\\t142\\n',\n",
       " 'EfM3.000340\\t107\\n',\n",
       " 'EfM3.000350\\t134\\n',\n",
       " 'EfM3.000360\\t322\\n',\n",
       " 'EfM3.000370\\t147\\n',\n",
       " 'EfM3.000380\\t3\\n',\n",
       " 'EfM3.000390\\t333\\n',\n",
       " 'EfM3.000400\\t237\\n',\n",
       " 'EfM3.000410\\t25\\n',\n",
       " 'EfM3.000420\\t35\\n',\n",
       " 'EfM3.000430\\t314\\n',\n",
       " 'EfM3.000440\\t214\\n',\n",
       " 'EfM3.000450\\t8\\n',\n",
       " 'EfM3.000460\\t42\\n',\n",
       " 'EfM3.000470\\t38\\n',\n",
       " 'EfM3.000480\\t78\\n',\n",
       " 'EfM3.000490\\t127\\n',\n",
       " 'EfM3.000500\\t125\\n',\n",
       " 'EfM3.000510\\t228\\n',\n",
       " 'EfM3.000520\\t416\\n',\n",
       " 'EfM3.000530\\t626\\n',\n",
       " 'EfM3.000540\\t207\\n',\n",
       " 'EfM3.000550\\t12\\n',\n",
       " 'EfM3.000560\\t168\\n',\n",
       " 'EfM3.000570\\t524\\n',\n",
       " 'EfM3.000580\\t102\\n',\n",
       " 'EfM3.000590\\t101\\n',\n",
       " 'EfM3.000600\\t207\\n',\n",
       " 'EfM3.000610\\t344\\n',\n",
       " 'EfM3.000620\\t116\\n',\n",
       " 'EfM3.000630\\t109\\n',\n",
       " 'EfM3.000640\\t1\\n',\n",
       " 'EfM3.000650\\t163\\n',\n",
       " 'EfM3.000660\\t18\\n',\n",
       " 'EfM3.000670\\t285\\n',\n",
       " 'EfM3.000680\\t1\\n',\n",
       " 'EfM3.000690\\t295\\n',\n",
       " 'EfM3.000700\\t199\\n',\n",
       " 'EfM3.000710\\t204\\n',\n",
       " 'EfM3.000720\\t366\\n',\n",
       " 'EfM3.000730\\t45\\n',\n",
       " 'EfM3.000740\\t139\\n',\n",
       " 'EfM3.000750\\t41\\n',\n",
       " 'EfM3.000760\\t103\\n',\n",
       " 'EfM3.000770\\t314\\n',\n",
       " 'EfM3.000780\\t66\\n',\n",
       " 'EfM3.000790\\t142\\n',\n",
       " 'EfM3.000800\\t157\\n',\n",
       " 'EfM3.000810\\t24\\n',\n",
       " 'EfM3.000820\\t28\\n',\n",
       " 'EfM3.000830\\t22\\n',\n",
       " 'EfM3.000840\\t64\\n',\n",
       " 'EfM3.000850\\t112\\n',\n",
       " 'EfM3.000860\\t52\\n',\n",
       " 'EfM3.000870\\t86\\n',\n",
       " 'EfM3.000880\\t2\\n',\n",
       " 'EfM3.000890\\t124\\n',\n",
       " 'EfM3.000900\\t77\\n',\n",
       " 'EfM3.000910\\t34\\n',\n",
       " 'EfM3.000920\\t290\\n',\n",
       " 'EfM3.000930\\t909\\n',\n",
       " 'EfM3.000940\\t266\\n',\n",
       " 'EfM3.000950\\t16\\n',\n",
       " 'EfM3.000960\\t130\\n',\n",
       " 'EfM3.000970\\t414\\n',\n",
       " 'EfM3.000980\\t95\\n',\n",
       " 'EfM3.000990\\t336\\n',\n",
       " 'EfM3.001000\\t14\\n']"
      ]
     },
     "execution_count": 58,
     "metadata": {},
     "output_type": "execute_result"
    }
   ],
   "source": [
    "file_handle.readlines()\n"
   ]
  },
  {
   "cell_type": "code",
   "execution_count": 59,
   "metadata": {},
   "outputs": [],
   "source": [
    "d = {}"
   ]
  },
  {
   "cell_type": "code",
   "execution_count": 64,
   "metadata": {},
   "outputs": [],
   "source": [
    "d['k'] = \"12\\n\""
   ]
  },
  {
   "cell_type": "code",
   "execution_count": 65,
   "metadata": {},
   "outputs": [
    {
     "data": {
      "text/plain": [
       "{'k': '12\\n'}"
      ]
     },
     "execution_count": 65,
     "metadata": {},
     "output_type": "execute_result"
    }
   ],
   "source": [
    "d"
   ]
  },
  {
   "cell_type": "code",
   "execution_count": 66,
   "metadata": {},
   "outputs": [
    {
     "data": {
      "text/plain": [
       "'12\\n12\\n12\\n12\\n12\\n12\\n12\\n'"
      ]
     },
     "execution_count": 66,
     "metadata": {},
     "output_type": "execute_result"
    }
   ],
   "source": [
    "d['k'] * 7"
   ]
  },
  {
   "cell_type": "code",
   "execution_count": 37,
   "metadata": {},
   "outputs": [
    {
     "data": {
      "text/plain": [
       "'gene\\tsampleA\\n'"
      ]
     },
     "execution_count": 37,
     "metadata": {},
     "output_type": "execute_result"
    }
   ],
   "source": [
    "handle = open('sampleA.txt') \n",
    "next(handle)"
   ]
  },
  {
   "cell_type": "code",
   "execution_count": 40,
   "metadata": {},
   "outputs": [
    {
     "name": "stdout",
     "output_type": "stream",
     "text": [
      "{'EfM3.000010': 21, 'EfM3.000020': 63, 'EfM3.000030': 42, 'EfM3.000040': 8, 'EfM3.000050': 206, 'EfM3.000060': 202, 'EfM3.000070': 129, 'EfM3.000080': 89, 'EfM3.000090': 11, 'EfM3.000100': 326, 'EfM3.000110': 149, 'EfM3.000120': 51, 'EfM3.000130': 0, 'EfM3.000140': 5, 'EfM3.000150': 77, 'EfM3.000160': 66, 'EfM3.000170': 120, 'EfM3.000180': 14, 'EfM3.000190': 1060, 'EfM3.000200': 57, 'EfM3.000210': 876, 'EfM3.000220': 1, 'EfM3.000230': 24, 'EfM3.000240': 67, 'EfM3.000250': 4, 'EfM3.000260': 14, 'EfM3.000270': 174, 'EfM3.000280': 6, 'EfM3.000290': 68, 'EfM3.000300': 24, 'EfM3.000310': 85, 'EfM3.000320': 36, 'EfM3.000330': 142, 'EfM3.000340': 107, 'EfM3.000350': 134, 'EfM3.000360': 322, 'EfM3.000370': 147, 'EfM3.000380': 3, 'EfM3.000390': 333, 'EfM3.000400': 237, 'EfM3.000410': 25, 'EfM3.000420': 35, 'EfM3.000430': 314, 'EfM3.000440': 214, 'EfM3.000450': 8, 'EfM3.000460': 42, 'EfM3.000470': 38, 'EfM3.000480': 78, 'EfM3.000490': 127, 'EfM3.000500': 125, 'EfM3.000510': 228, 'EfM3.000520': 416, 'EfM3.000530': 626, 'EfM3.000540': 207, 'EfM3.000550': 12, 'EfM3.000560': 168, 'EfM3.000570': 524, 'EfM3.000580': 102, 'EfM3.000590': 101, 'EfM3.000600': 207, 'EfM3.000610': 344, 'EfM3.000620': 116, 'EfM3.000630': 109, 'EfM3.000640': 1, 'EfM3.000650': 163, 'EfM3.000660': 18, 'EfM3.000670': 285, 'EfM3.000680': 1, 'EfM3.000690': 295, 'EfM3.000700': 199, 'EfM3.000710': 204, 'EfM3.000720': 366, 'EfM3.000730': 45, 'EfM3.000740': 139, 'EfM3.000750': 41, 'EfM3.000760': 103, 'EfM3.000770': 314, 'EfM3.000780': 66, 'EfM3.000790': 142, 'EfM3.000800': 157, 'EfM3.000810': 24, 'EfM3.000820': 28, 'EfM3.000830': 22, 'EfM3.000840': 64, 'EfM3.000850': 112, 'EfM3.000860': 52, 'EfM3.000870': 86, 'EfM3.000880': 2, 'EfM3.000890': 124, 'EfM3.000900': 77, 'EfM3.000910': 34, 'EfM3.000920': 290, 'EfM3.000930': 909, 'EfM3.000940': 266, 'EfM3.000950': 16, 'EfM3.000960': 130, 'EfM3.000970': 414, 'EfM3.000980': 95, 'EfM3.000990': 336, 'EfM3.001000': 14}\n"
     ]
    }
   ],
   "source": [
    "#take .txt files and convert to dictionary form so we can access the values(read counts)\n",
    "read_count_dict = {}\n",
    "with open('sampleA.txt') as a:\n",
    "    next(a) #skipping the header\n",
    "    for line in a:\n",
    "        (k, v) = line.split('\\t')\n",
    "        read_count_dict[k.strip()] = int(v.strip())\n",
    "print(read_count_dict)"
   ]
  },
  {
   "cell_type": "code",
   "execution_count": 41,
   "metadata": {},
   "outputs": [
    {
     "data": {
      "text/plain": [
       "dict_values([21, 63, 42, 8, 206, 202, 129, 89, 11, 326, 149, 51, 0, 5, 77, 66, 120, 14, 1060, 57, 876, 1, 24, 67, 4, 14, 174, 6, 68, 24, 85, 36, 142, 107, 134, 322, 147, 3, 333, 237, 25, 35, 314, 214, 8, 42, 38, 78, 127, 125, 228, 416, 626, 207, 12, 168, 524, 102, 101, 207, 344, 116, 109, 1, 163, 18, 285, 1, 295, 199, 204, 366, 45, 139, 41, 103, 314, 66, 142, 157, 24, 28, 22, 64, 112, 52, 86, 2, 124, 77, 34, 290, 909, 266, 16, 130, 414, 95, 336, 14])"
      ]
     },
     "execution_count": 41,
     "metadata": {},
     "output_type": "execute_result"
    }
   ],
   "source": [
    "read_count_dict.values()"
   ]
  },
  {
   "cell_type": "code",
   "execution_count": 42,
   "metadata": {},
   "outputs": [
    {
     "ename": "SyntaxError",
     "evalue": "invalid syntax (<ipython-input-42-8151fb44bb2e>, line 7)",
     "output_type": "error",
     "traceback": [
      "\u001b[0;36m  File \u001b[0;32m\"<ipython-input-42-8151fb44bb2e>\"\u001b[0;36m, line \u001b[0;32m7\u001b[0m\n\u001b[0;31m    print \"k:\" + str(k.strip()) + \"v:\" + str(v.strip()) #never mind. sorted in the cell above. this line is python2\u001b[0m\n\u001b[0m             ^\u001b[0m\n\u001b[0;31mSyntaxError\u001b[0m\u001b[0;31m:\u001b[0m invalid syntax\n"
     ]
    }
   ],
   "source": [
    "#get v to be an int not str\n",
    "dict = {}\n",
    "with open('sampleA.txt') as a:\n",
    "    for line in a:\n",
    "        (k, v) = line.split('\\t')\n",
    "        #dict[k.strip()] = int(v.strip())\n",
    "        print \"k:\" + str(k.strip()) + \"v:\" + str(v.strip()) #never mind. sorted in the cell above. this line is python2"
   ]
  },
  {
   "cell_type": "code",
   "execution_count": 14,
   "metadata": {},
   "outputs": [
    {
     "data": {
      "text/plain": [
       "'sampleA\\n'"
      ]
     },
     "execution_count": 14,
     "metadata": {},
     "output_type": "execute_result"
    }
   ],
   "source": [
    "v"
   ]
  },
  {
   "cell_type": "code",
   "execution_count": 15,
   "metadata": {},
   "outputs": [
    {
     "data": {
      "text/plain": [
       "{}"
      ]
     },
     "execution_count": 15,
     "metadata": {},
     "output_type": "execute_result"
    }
   ],
   "source": [
    "dict"
   ]
  },
  {
   "cell_type": "code",
   "execution_count": 22,
   "metadata": {},
   "outputs": [
    {
     "data": {
      "text/plain": [
       "dict_keys([])"
      ]
     },
     "execution_count": 22,
     "metadata": {},
     "output_type": "execute_result"
    }
   ],
   "source": [
    "dict.keys()"
   ]
  },
  {
   "cell_type": "code",
   "execution_count": 19,
   "metadata": {},
   "outputs": [
    {
     "ename": "SyntaxError",
     "evalue": "invalid syntax (<ipython-input-19-ee255f4a360c>, line 1)",
     "output_type": "error",
     "traceback": [
      "\u001b[0;36m  File \u001b[0;32m\"<ipython-input-19-ee255f4a360c>\"\u001b[0;36m, line \u001b[0;32m1\u001b[0m\n\u001b[0;31m    print 'k:' + str(k.strip()) + 'v:' + str(v.strip())\u001b[0m\n\u001b[0m             ^\u001b[0m\n\u001b[0;31mSyntaxError\u001b[0m\u001b[0;31m:\u001b[0m invalid syntax\n"
     ]
    }
   ],
   "source": [
    "print 'k:' + str(k.strip()) + 'v:' + str(v.strip())"
   ]
  },
  {
   "cell_type": "code",
   "execution_count": 62,
   "metadata": {},
   "outputs": [],
   "source": [
    "def tsv_to_dict(tsv_file):\n",
    "    \"\"\"takes a tsv file and reads it as a dictionary\n",
    "    tsv_file : input tsv file\n",
    "    read_count_dict : ouput dictionary\n",
    "    dictionary keys : gene names\n",
    "    dictionary values : read count (int)\n",
    "    \"\"\"\n",
    "    read_count_dict = {} #initialise dictionary\n",
    "    with open(tsv_file) as f:\n",
    "        next(f) #skipping the header\n",
    "        for line in f:\n",
    "            (k, v) = line.split('\\t')\n",
    "            read_count_dict[k.strip()] = int(v.strip())\n",
    "    return(read_count_dict)"
   ]
  },
  {
   "cell_type": "code",
   "execution_count": 47,
   "metadata": {},
   "outputs": [],
   "source": [
    "tsv_file = 'sampleA.txt'"
   ]
  },
  {
   "cell_type": "code",
   "execution_count": 50,
   "metadata": {},
   "outputs": [],
   "source": [
    "read_count_dict = 'practice_dictionary'"
   ]
  },
  {
   "cell_type": "code",
   "execution_count": 51,
   "metadata": {},
   "outputs": [
    {
     "name": "stdout",
     "output_type": "stream",
     "text": [
      "{'EfM3.000010': 21, 'EfM3.000020': 63, 'EfM3.000030': 42, 'EfM3.000040': 8, 'EfM3.000050': 206, 'EfM3.000060': 202, 'EfM3.000070': 129, 'EfM3.000080': 89, 'EfM3.000090': 11, 'EfM3.000100': 326, 'EfM3.000110': 149, 'EfM3.000120': 51, 'EfM3.000130': 0, 'EfM3.000140': 5, 'EfM3.000150': 77, 'EfM3.000160': 66, 'EfM3.000170': 120, 'EfM3.000180': 14, 'EfM3.000190': 1060, 'EfM3.000200': 57, 'EfM3.000210': 876, 'EfM3.000220': 1, 'EfM3.000230': 24, 'EfM3.000240': 67, 'EfM3.000250': 4, 'EfM3.000260': 14, 'EfM3.000270': 174, 'EfM3.000280': 6, 'EfM3.000290': 68, 'EfM3.000300': 24, 'EfM3.000310': 85, 'EfM3.000320': 36, 'EfM3.000330': 142, 'EfM3.000340': 107, 'EfM3.000350': 134, 'EfM3.000360': 322, 'EfM3.000370': 147, 'EfM3.000380': 3, 'EfM3.000390': 333, 'EfM3.000400': 237, 'EfM3.000410': 25, 'EfM3.000420': 35, 'EfM3.000430': 314, 'EfM3.000440': 214, 'EfM3.000450': 8, 'EfM3.000460': 42, 'EfM3.000470': 38, 'EfM3.000480': 78, 'EfM3.000490': 127, 'EfM3.000500': 125, 'EfM3.000510': 228, 'EfM3.000520': 416, 'EfM3.000530': 626, 'EfM3.000540': 207, 'EfM3.000550': 12, 'EfM3.000560': 168, 'EfM3.000570': 524, 'EfM3.000580': 102, 'EfM3.000590': 101, 'EfM3.000600': 207, 'EfM3.000610': 344, 'EfM3.000620': 116, 'EfM3.000630': 109, 'EfM3.000640': 1, 'EfM3.000650': 163, 'EfM3.000660': 18, 'EfM3.000670': 285, 'EfM3.000680': 1, 'EfM3.000690': 295, 'EfM3.000700': 199, 'EfM3.000710': 204, 'EfM3.000720': 366, 'EfM3.000730': 45, 'EfM3.000740': 139, 'EfM3.000750': 41, 'EfM3.000760': 103, 'EfM3.000770': 314, 'EfM3.000780': 66, 'EfM3.000790': 142, 'EfM3.000800': 157, 'EfM3.000810': 24, 'EfM3.000820': 28, 'EfM3.000830': 22, 'EfM3.000840': 64, 'EfM3.000850': 112, 'EfM3.000860': 52, 'EfM3.000870': 86, 'EfM3.000880': 2, 'EfM3.000890': 124, 'EfM3.000900': 77, 'EfM3.000910': 34, 'EfM3.000920': 290, 'EfM3.000930': 909, 'EfM3.000940': 266, 'EfM3.000950': 16, 'EfM3.000960': 130, 'EfM3.000970': 414, 'EfM3.000980': 95, 'EfM3.000990': 336, 'EfM3.001000': 14}\n"
     ]
    }
   ],
   "source": [
    "read_count_dict = {} #initialise dictionary\n",
    "with open(tsv_file) as f:\n",
    "    next(f) #skipping the header\n",
    "    for line in f:\n",
    "        (k, v) = line.split('\\t')\n",
    "        read_count_dict[k.strip()] = int(v.strip())\n",
    "print(read_count_dict)"
   ]
  },
  {
   "cell_type": "code",
   "execution_count": 64,
   "metadata": {},
   "outputs": [],
   "source": [
    "res = tsv_to_dict('sampleA.txt')"
   ]
  },
  {
   "cell_type": "code",
   "execution_count": 65,
   "metadata": {},
   "outputs": [
    {
     "data": {
      "text/plain": [
       "163"
      ]
     },
     "execution_count": 65,
     "metadata": {},
     "output_type": "execute_result"
    }
   ],
   "source": [
    "res['EfM3.000650']"
   ]
  },
  {
   "cell_type": "code",
   "execution_count": 66,
   "metadata": {},
   "outputs": [],
   "source": [
    "res_b = tsv_to_dict('sampleB.txt')"
   ]
  },
  {
   "cell_type": "code",
   "execution_count": 67,
   "metadata": {},
   "outputs": [
    {
     "data": {
      "text/plain": [
       "100"
      ]
     },
     "execution_count": 67,
     "metadata": {},
     "output_type": "execute_result"
    }
   ],
   "source": [
    "res_b['EfM3.000650']"
   ]
  },
  {
   "cell_type": "code",
   "execution_count": 102,
   "metadata": {},
   "outputs": [],
   "source": [
    "#write a function to iterate over every value from tsv_file_a and tsv_file_b (use dict.values)\n",
    "#and find the difference between the read counts for every gene\n",
    "def read_counts_diff(dict_a, dict_b): #some code modified from stackoverflow @slearner\n",
    "    \"\"\"write this properly from the # above when I know exactly what I'm talking about\"\"\"\n",
    "    #iterate over every key with .keys\n",
    "    output_dict = {}\n",
    "    for k in dict_a.keys():\n",
    "        if k in dict_b.keys():\n",
    "            output_dict[k] = abs(dict_a[k] - dict_b[k])\n",
    "    return(output_dict) #now what I actually want to put in dictionary is chi squared results"
   ]
  },
  {
   "cell_type": "code",
   "execution_count": 106,
   "metadata": {},
   "outputs": [
    {
     "data": {
      "text/plain": [
       "{'EfM3.000010': 13,\n",
       " 'EfM3.000020': 49,\n",
       " 'EfM3.000030': 35,\n",
       " 'EfM3.000040': 5,\n",
       " 'EfM3.000050': 165,\n",
       " 'EfM3.000060': 125,\n",
       " 'EfM3.000070': 33,\n",
       " 'EfM3.000080': 34,\n",
       " 'EfM3.000090': 6,\n",
       " 'EfM3.000100': 211,\n",
       " 'EfM3.000110': 97,\n",
       " 'EfM3.000120': 39,\n",
       " 'EfM3.000130': 0,\n",
       " 'EfM3.000140': 4,\n",
       " 'EfM3.000150': 37,\n",
       " 'EfM3.000160': 39,\n",
       " 'EfM3.000170': 95,\n",
       " 'EfM3.000180': 9,\n",
       " 'EfM3.000190': 929,\n",
       " 'EfM3.000200': 29,\n",
       " 'EfM3.000210': 747,\n",
       " 'EfM3.000220': 1,\n",
       " 'EfM3.000230': 19,\n",
       " 'EfM3.000240': 35,\n",
       " 'EfM3.000250': 1,\n",
       " 'EfM3.000260': 4,\n",
       " 'EfM3.000270': 111,\n",
       " 'EfM3.000280': 5,\n",
       " 'EfM3.000290': 22,\n",
       " 'EfM3.000300': 6,\n",
       " 'EfM3.000310': 46,\n",
       " 'EfM3.000320': 22,\n",
       " 'EfM3.000330': 85,\n",
       " 'EfM3.000340': 71,\n",
       " 'EfM3.000350': 69,\n",
       " 'EfM3.000360': 122,\n",
       " 'EfM3.000370': 97,\n",
       " 'EfM3.000380': 13,\n",
       " 'EfM3.000390': 232,\n",
       " 'EfM3.000400': 92,\n",
       " 'EfM3.000410': 21,\n",
       " 'EfM3.000420': 26,\n",
       " 'EfM3.000430': 281,\n",
       " 'EfM3.000440': 67,\n",
       " 'EfM3.000450': 3,\n",
       " 'EfM3.000460': 10,\n",
       " 'EfM3.000470': 17,\n",
       " 'EfM3.000480': 42,\n",
       " 'EfM3.000490': 85,\n",
       " 'EfM3.000500': 82,\n",
       " 'EfM3.000510': 100,\n",
       " 'EfM3.000520': 157,\n",
       " 'EfM3.000530': 379,\n",
       " 'EfM3.000540': 104,\n",
       " 'EfM3.000550': 4,\n",
       " 'EfM3.000560': 117,\n",
       " 'EfM3.000570': 412,\n",
       " 'EfM3.000580': 65,\n",
       " 'EfM3.000590': 27,\n",
       " 'EfM3.000600': 144,\n",
       " 'EfM3.000610': 270,\n",
       " 'EfM3.000620': 53,\n",
       " 'EfM3.000630': 72,\n",
       " 'EfM3.000640': 1,\n",
       " 'EfM3.000650': 63,\n",
       " 'EfM3.000660': 10,\n",
       " 'EfM3.000670': 99,\n",
       " 'EfM3.000680': 0,\n",
       " 'EfM3.000690': 203,\n",
       " 'EfM3.000700': 125,\n",
       " 'EfM3.000710': 148,\n",
       " 'EfM3.000720': 228,\n",
       " 'EfM3.000730': 32,\n",
       " 'EfM3.000740': 35,\n",
       " 'EfM3.000750': 11,\n",
       " 'EfM3.000760': 54,\n",
       " 'EfM3.000770': 211,\n",
       " 'EfM3.000780': 34,\n",
       " 'EfM3.000790': 8,\n",
       " 'EfM3.000800': 116,\n",
       " 'EfM3.000810': 17,\n",
       " 'EfM3.000820': 8,\n",
       " 'EfM3.000830': 0,\n",
       " 'EfM3.000840': 35,\n",
       " 'EfM3.000850': 52,\n",
       " 'EfM3.000860': 23,\n",
       " 'EfM3.000870': 54,\n",
       " 'EfM3.000880': 7,\n",
       " 'EfM3.000890': 51,\n",
       " 'EfM3.000900': 57,\n",
       " 'EfM3.000910': 15,\n",
       " 'EfM3.000920': 186,\n",
       " 'EfM3.000930': 643,\n",
       " 'EfM3.000940': 192,\n",
       " 'EfM3.000950': 15,\n",
       " 'EfM3.000960': 101,\n",
       " 'EfM3.000970': 188,\n",
       " 'EfM3.000980': 42,\n",
       " 'EfM3.000990': 200,\n",
       " 'EfM3.001000': 5}"
      ]
     },
     "execution_count": 106,
     "metadata": {},
     "output_type": "execute_result"
    }
   ],
   "source": [
    "read_counts_diff(res, res_b)"
   ]
  },
  {
   "cell_type": "code",
   "execution_count": 149,
   "metadata": {},
   "outputs": [],
   "source": [
    "#write a function to iterate over every value from tsv_file_a and tsv_file_b (use dict.values)\n",
    "#and find the difference between the read counts for every gene\n",
    "#***don't use this bit for final script\n",
    "def read_counts_diff(dict_a, dict_b): #some code modified from stackoverflow @slearner\n",
    "    \"\"\"write this properly from the # above when I know exactly what I'm talking about\"\"\"\n",
    "    #iterate over every key with .keys\n",
    "    output_dict = {}\n",
    "    for k in dict_a.keys():\n",
    "        if k in dict_b.keys():\n",
    "            output_dict[k] = abs(dict_a[k] - dict_b[k])\n",
    "    return(output_dict) #now what I actually want to put in dictionary is chi squared results"
   ]
  },
  {
   "cell_type": "code",
   "execution_count": 117,
   "metadata": {},
   "outputs": [],
   "source": [
    "from scipy.stats import chi2_contingency\n",
    "import numpy as np"
   ]
  },
  {
   "cell_type": "code",
   "execution_count": 118,
   "metadata": {},
   "outputs": [
    {
     "data": {
      "text/plain": [
       "<function scipy.stats.contingency.chi2_contingency>"
      ]
     },
     "execution_count": 118,
     "metadata": {},
     "output_type": "execute_result"
    }
   ],
   "source": [
    "chi2_contingency"
   ]
  },
  {
   "cell_type": "code",
   "execution_count": 121,
   "metadata": {},
   "outputs": [],
   "source": [
    "from scipy.stats import chi2_contingency\n",
    "obs = np.array([[10, 10, 20], [20, 20, 20]]) # 2C 3R\n",
    "t = chi2_contingency(obs) #get data (pvalue?) out we want from output and fit data into contingency"
   ]
  },
  {
   "cell_type": "code",
   "execution_count": 125,
   "metadata": {},
   "outputs": [
    {
     "data": {
      "text/plain": [
       "(2.7777777777777777, 0.24935220877729622, 2, array([[ 12.,  12.,  16.],\n",
       "        [ 18.,  18.,  24.]]))"
      ]
     },
     "execution_count": 125,
     "metadata": {},
     "output_type": "execute_result"
    }
   ],
   "source": [
    "t"
   ]
  },
  {
   "cell_type": "code",
   "execution_count": 127,
   "metadata": {},
   "outputs": [
    {
     "data": {
      "text/plain": [
       "0.24935220877729622"
      ]
     },
     "execution_count": 127,
     "metadata": {},
     "output_type": "execute_result"
    }
   ],
   "source": [
    "t[1]"
   ]
  },
  {
   "cell_type": "code",
   "execution_count": 148,
   "metadata": {},
   "outputs": [
    {
     "name": "stdout",
     "output_type": "stream",
     "text": [
      "not significant\n"
     ]
    }
   ],
   "source": [
    "obs = np.array([[10, 10, 20], [20, 20, 20]]) # 2C 3R\n",
    "t = chi2_contingency(obs) #get data (pvalue?) out we want from output and fit data into contingency\n",
    "if t[1] < 0.05:\n",
    "    print(\"significant\")\n",
    "else:\n",
    "    print(\"not significant\")"
   ]
  },
  {
   "cell_type": "code",
   "execution_count": 145,
   "metadata": {},
   "outputs": [
    {
     "name": "stdout",
     "output_type": "stream",
     "text": [
      "\u001b[H\u001b[2J"
     ]
    }
   ],
   "source": [
    "n = np.array"
   ]
  },
  {
   "cell_type": "code",
   "execution_count": 150,
   "metadata": {},
   "outputs": [
    {
     "data": {
      "text/plain": [
       "dict_keys(['EfM3.000010', 'EfM3.000020', 'EfM3.000030', 'EfM3.000040', 'EfM3.000050', 'EfM3.000060', 'EfM3.000070', 'EfM3.000080', 'EfM3.000090', 'EfM3.000100', 'EfM3.000110', 'EfM3.000120', 'EfM3.000130', 'EfM3.000140', 'EfM3.000150', 'EfM3.000160', 'EfM3.000170', 'EfM3.000180', 'EfM3.000190', 'EfM3.000200', 'EfM3.000210', 'EfM3.000220', 'EfM3.000230', 'EfM3.000240', 'EfM3.000250', 'EfM3.000260', 'EfM3.000270', 'EfM3.000280', 'EfM3.000290', 'EfM3.000300', 'EfM3.000310', 'EfM3.000320', 'EfM3.000330', 'EfM3.000340', 'EfM3.000350', 'EfM3.000360', 'EfM3.000370', 'EfM3.000380', 'EfM3.000390', 'EfM3.000400', 'EfM3.000410', 'EfM3.000420', 'EfM3.000430', 'EfM3.000440', 'EfM3.000450', 'EfM3.000460', 'EfM3.000470', 'EfM3.000480', 'EfM3.000490', 'EfM3.000500', 'EfM3.000510', 'EfM3.000520', 'EfM3.000530', 'EfM3.000540', 'EfM3.000550', 'EfM3.000560', 'EfM3.000570', 'EfM3.000580', 'EfM3.000590', 'EfM3.000600', 'EfM3.000610', 'EfM3.000620', 'EfM3.000630', 'EfM3.000640', 'EfM3.000650', 'EfM3.000660', 'EfM3.000670', 'EfM3.000680', 'EfM3.000690', 'EfM3.000700', 'EfM3.000710', 'EfM3.000720', 'EfM3.000730', 'EfM3.000740', 'EfM3.000750', 'EfM3.000760', 'EfM3.000770', 'EfM3.000780', 'EfM3.000790', 'EfM3.000800', 'EfM3.000810', 'EfM3.000820', 'EfM3.000830', 'EfM3.000840', 'EfM3.000850', 'EfM3.000860', 'EfM3.000870', 'EfM3.000880', 'EfM3.000890', 'EfM3.000900', 'EfM3.000910', 'EfM3.000920', 'EfM3.000930', 'EfM3.000940', 'EfM3.000950', 'EfM3.000960', 'EfM3.000970', 'EfM3.000980', 'EfM3.000990', 'EfM3.001000'])"
      ]
     },
     "execution_count": 150,
     "metadata": {},
     "output_type": "execute_result"
    }
   ],
   "source": [
    "#s1_gi\n",
    "res.keys()"
   ]
  },
  {
   "cell_type": "code",
   "execution_count": 152,
   "metadata": {},
   "outputs": [
    {
     "data": {
      "text/plain": [
       "array([[ 0,  1,  2,  3,  4],\n",
       "       [ 5,  6,  7,  8,  9],\n",
       "       [10, 11, 12, 13, 14],\n",
       "       [15, 16, 17, 18, 19],\n",
       "       [20, 21, 22, 23, 24]])"
      ]
     },
     "execution_count": 152,
     "metadata": {},
     "output_type": "execute_result"
    }
   ],
   "source": [
    "np.arange(25).reshape((5, 5))"
   ]
  },
  {
   "cell_type": "code",
   "execution_count": 155,
   "metadata": {},
   "outputs": [],
   "source": [
    "dict_a = res\n",
    "dict_b = res_b"
   ]
  },
  {
   "cell_type": "code",
   "execution_count": 156,
   "metadata": {},
   "outputs": [
    {
     "name": "stdout",
     "output_type": "stream",
     "text": [
      "21 8\n",
      "63 14\n",
      "42 7\n",
      "8 3\n",
      "206 41\n",
      "202 77\n",
      "129 96\n",
      "89 55\n",
      "11 5\n",
      "326 115\n",
      "149 52\n",
      "51 12\n",
      "0 0\n",
      "5 1\n",
      "77 40\n",
      "66 27\n",
      "120 25\n",
      "14 5\n",
      "1060 131\n",
      "57 28\n",
      "876 129\n",
      "1 2\n",
      "24 5\n",
      "67 32\n",
      "4 3\n",
      "14 10\n",
      "174 63\n",
      "6 1\n",
      "68 46\n",
      "24 18\n",
      "85 39\n",
      "36 14\n",
      "142 57\n",
      "107 36\n",
      "134 65\n",
      "322 200\n",
      "147 50\n",
      "3 16\n",
      "333 101\n",
      "237 145\n",
      "25 4\n",
      "35 9\n",
      "314 33\n",
      "214 147\n",
      "8 5\n",
      "42 32\n",
      "38 21\n",
      "78 36\n",
      "127 42\n",
      "125 43\n",
      "228 128\n",
      "416 259\n",
      "626 247\n",
      "207 103\n",
      "12 8\n",
      "168 51\n",
      "524 112\n",
      "102 37\n",
      "101 74\n",
      "207 63\n",
      "344 74\n",
      "116 63\n",
      "109 37\n",
      "1 0\n",
      "163 100\n",
      "18 8\n",
      "285 186\n",
      "1 1\n",
      "295 92\n",
      "199 74\n",
      "204 56\n",
      "366 138\n",
      "45 13\n",
      "139 104\n",
      "41 30\n",
      "103 49\n",
      "314 103\n",
      "66 32\n",
      "142 150\n",
      "157 41\n",
      "24 7\n",
      "28 20\n",
      "22 22\n",
      "64 29\n",
      "112 60\n",
      "52 29\n",
      "86 32\n",
      "2 9\n",
      "124 73\n",
      "77 20\n",
      "34 19\n",
      "290 104\n",
      "909 266\n",
      "266 74\n",
      "16 1\n",
      "130 29\n",
      "414 226\n",
      "95 53\n",
      "336 136\n",
      "14 9\n"
     ]
    }
   ],
   "source": [
    "for k in dict_a.keys():\n",
    "        if k in dict_b.keys():\n",
    "            print(dict_a[k], dict_b[k]) #s1_gi , s2_gi"
   ]
  },
  {
   "cell_type": "code",
   "execution_count": 159,
   "metadata": {},
   "outputs": [],
   "source": [
    "t_a = sum(dict_a.values()) #s1_t"
   ]
  },
  {
   "cell_type": "code",
   "execution_count": 160,
   "metadata": {},
   "outputs": [],
   "source": [
    "t_b = sum(dict_b.values()) #s2_t"
   ]
  },
  {
   "cell_type": "code",
   "execution_count": 166,
   "metadata": {},
   "outputs": [
    {
     "data": {
      "text/plain": [
       "15300"
      ]
     },
     "execution_count": 166,
     "metadata": {},
     "output_type": "execute_result"
    }
   ],
   "source": [
    "t_a"
   ]
  },
  {
   "cell_type": "code",
   "execution_count": 167,
   "metadata": {},
   "outputs": [
    {
     "data": {
      "text/plain": [
       "5797"
      ]
     },
     "execution_count": 167,
     "metadata": {},
     "output_type": "execute_result"
    }
   ],
   "source": [
    "t_b"
   ]
  },
  {
   "cell_type": "code",
   "execution_count": 171,
   "metadata": {},
   "outputs": [
    {
     "name": "stdout",
     "output_type": "stream",
     "text": [
      "15279 5789\n",
      "15237 5783\n",
      "15258 5790\n",
      "15292 5794\n",
      "15094 5756\n",
      "15098 5720\n",
      "15171 5701\n",
      "15211 5742\n",
      "15289 5792\n",
      "14974 5682\n",
      "15151 5745\n",
      "15249 5785\n",
      "15300 5797\n",
      "15295 5796\n",
      "15223 5757\n",
      "15234 5770\n",
      "15180 5772\n",
      "15286 5792\n",
      "14240 5666\n",
      "15243 5769\n",
      "14424 5668\n",
      "15299 5795\n",
      "15276 5792\n",
      "15233 5765\n",
      "15296 5794\n",
      "15286 5787\n",
      "15126 5734\n",
      "15294 5796\n",
      "15232 5751\n",
      "15276 5779\n",
      "15215 5758\n",
      "15264 5783\n",
      "15158 5740\n",
      "15193 5761\n",
      "15166 5732\n",
      "14978 5597\n",
      "15153 5747\n",
      "15297 5781\n",
      "14967 5696\n",
      "15063 5652\n",
      "15275 5793\n",
      "15265 5788\n",
      "14986 5764\n",
      "15086 5650\n",
      "15292 5792\n",
      "15258 5765\n",
      "15262 5776\n",
      "15222 5761\n",
      "15173 5755\n",
      "15175 5754\n",
      "15072 5669\n",
      "14884 5538\n",
      "14674 5550\n",
      "15093 5694\n",
      "15288 5789\n",
      "15132 5746\n",
      "14776 5685\n",
      "15198 5760\n",
      "15199 5723\n",
      "15093 5734\n",
      "14956 5723\n",
      "15184 5734\n",
      "15191 5760\n",
      "15299 5797\n",
      "15137 5697\n",
      "15282 5789\n",
      "15015 5611\n",
      "15299 5796\n",
      "15005 5705\n",
      "15101 5723\n",
      "15096 5741\n",
      "14934 5659\n",
      "15255 5784\n",
      "15161 5693\n",
      "15259 5767\n",
      "15197 5748\n",
      "14986 5694\n",
      "15234 5765\n",
      "15158 5647\n",
      "15143 5756\n",
      "15276 5790\n",
      "15272 5777\n",
      "15278 5775\n",
      "15236 5768\n",
      "15188 5737\n",
      "15248 5768\n",
      "15214 5765\n",
      "15298 5788\n",
      "15176 5724\n",
      "15223 5777\n",
      "15266 5778\n",
      "15010 5693\n",
      "14391 5531\n",
      "15034 5723\n",
      "15284 5796\n",
      "15170 5768\n",
      "14886 5571\n",
      "15205 5744\n",
      "14964 5661\n",
      "15286 5788\n"
     ]
    }
   ],
   "source": [
    "#if the gene name is the same in sample a, sample b, calculate total sample read count - gene x read count\n",
    "for gene in dict_a.keys():\n",
    "        if gene in dict_b.keys():\n",
    "            print((t_a - dict_a[gene]),(t_b - dict_b[gene])) #s1_'gi , s2_'gi"
   ]
  },
  {
   "cell_type": "code",
   "execution_count": 170,
   "metadata": {},
   "outputs": [],
   "source": [
    "import numpy as np\n",
    "import pandas as pd\n",
    "import os"
   ]
  },
  {
   "cell_type": "code",
   "execution_count": 172,
   "metadata": {},
   "outputs": [
    {
     "data": {
      "text/plain": [
       "'EfM3.001000'"
      ]
     },
     "execution_count": 172,
     "metadata": {},
     "output_type": "execute_result"
    }
   ],
   "source": [
    "k"
   ]
  },
  {
   "cell_type": "code",
   "execution_count": 173,
   "metadata": {},
   "outputs": [
    {
     "data": {
      "text/plain": [
       "array([[10, 10, 20],\n",
       "       [20, 20, 20]])"
      ]
     },
     "execution_count": 173,
     "metadata": {},
     "output_type": "execute_result"
    }
   ],
   "source": [
    "obs #first make this into 2x2, then try get just 'k' gene into array form, then do chisquared for just k gene"
   ]
  },
  {
   "cell_type": "code",
   "execution_count": 174,
   "metadata": {},
   "outputs": [],
   "source": [
    "twobytwo = np.array([[10, 5000], [20, 3000]])"
   ]
  },
  {
   "cell_type": "code",
   "execution_count": 175,
   "metadata": {},
   "outputs": [
    {
     "data": {
      "text/plain": [
       "array([[  10, 5000],\n",
       "       [  20, 3000]])"
      ]
     },
     "execution_count": 175,
     "metadata": {},
     "output_type": "execute_result"
    }
   ],
   "source": [
    "twobytwo"
   ]
  },
  {
   "cell_type": "code",
   "execution_count": null,
   "metadata": {},
   "outputs": [],
   "source": []
  }
 ],
 "metadata": {
  "kernelspec": {
   "display_name": "Python 3",
   "language": "python",
   "name": "python3"
  },
  "language_info": {
   "codemirror_mode": {
    "name": "ipython",
    "version": 3
   },
   "file_extension": ".py",
   "mimetype": "text/x-python",
   "name": "python",
   "nbconvert_exporter": "python",
   "pygments_lexer": "ipython3",
   "version": "3.6.7"
  }
 },
 "nbformat": 4,
 "nbformat_minor": 2
}
