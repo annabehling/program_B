{
 "cells": [
  {
   "cell_type": "code",
   "execution_count": 13,
   "metadata": {},
   "outputs": [],
   "source": [
    "import matplotlib.pyplot as plt\n",
    "import numpy as np\n",
    "from scipy.stats import chi2_contingency\n",
    "from statsmodels.stats.multitest import multipletests\n",
    "from matplotlib.pyplot import savefig"
   ]
  },
  {
   "cell_type": "code",
   "execution_count": 1,
   "metadata": {},
   "outputs": [],
   "source": [
    "def tsv_to_dict(tsv_file):\n",
    "    \"\"\"takes a tsv file and reads it as a dictionary\n",
    "    tsv_file : input tsv file\n",
    "    read_count_dict : ouput dictionary\n",
    "    dictionary keys : gene names\n",
    "    dictionary values : read count (int)\n",
    "    \"\"\"\n",
    "    read_count_dict = {} #initialise dictionary\n",
    "    with open(tsv_file) as f:\n",
    "        next(f) #skipping the header\n",
    "        for line in f:\n",
    "            (k, v) = line.split('\\t')\n",
    "            read_count_dict[k.strip()] = int(v.strip())\n",
    "    return(read_count_dict)"
   ]
  },
  {
   "cell_type": "code",
   "execution_count": 10,
   "metadata": {},
   "outputs": [],
   "source": [
    "def read_count_sig(dict_a, dict_b):\n",
    "    \"\"\"dict_a , dict_b : dictionary\n",
    "    takes two dictionaries, calculates the total readcounts for each dictionary(sample). \n",
    "    if the same gene is in both samples, it determines the readcount for the gene in each sample.\n",
    "    if the readcount does not equal 0 in both cases, a chi squared test is performed.\n",
    "    the test values for chi squared are the gene readcount for each sample and the total readcounts of each sample.\n",
    "    output : tuple of numpy arrays of sample a readcounts, sample b readcounts, all pvalues\"\"\"\n",
    "    total_read_count_a = sum(dict_a.values())\n",
    "    total_read_count_b = sum(dict_b.values())\n",
    "    all_a_readcounts = []\n",
    "    all_b_readcounts = []\n",
    "    all_pvalues = []\n",
    "    for gene in dict_a.keys():\n",
    "        if gene in dict_b.keys():\n",
    "            count_a = dict_a[gene]\n",
    "            count_b = dict_b[gene]\n",
    "        if (count_a == 0) and (count_b == 0): #chisquared won't work with both 0s\n",
    "            all_a_readcounts.append(count_a)\n",
    "            all_b_readcounts.append(count_b)\n",
    "            all_pvalues.append(1.0) #the difference between readcount=0 and readcount=0 will never be significant\n",
    "        else:\n",
    "            contingency_table = np.array([[count_a, (total_read_count_a - count_a)], [count_b, (total_read_count_b - count_b)]])\n",
    "            chi2_output = chi2_contingency(contingency_table)\n",
    "            all_a_readcounts.append(count_a)\n",
    "            all_b_readcounts.append(count_b)\n",
    "            all_pvalues.append(chi2_output[1])\n",
    "    return(np.array(all_a_readcounts), np.array(all_b_readcounts), np.array(all_pvalues)) #returns tuple of numpy arrays"
   ]
  },
  {
   "cell_type": "code",
   "execution_count": 17,
   "metadata": {
    "scrolled": true
   },
   "outputs": [
    {
     "ename": "NameError",
     "evalue": "name 'sample_a_dict' is not defined",
     "output_type": "error",
     "traceback": [
      "\u001b[0;31m---------------------------------------------------------------------------\u001b[0m",
      "\u001b[0;31mNameError\u001b[0m                                 Traceback (most recent call last)",
      "\u001b[0;32m<ipython-input-17-e98664d59fd2>\u001b[0m in \u001b[0;36m<module>\u001b[0;34m()\u001b[0m\n\u001b[1;32m      1\u001b[0m \u001b[0mfile_name_a\u001b[0m \u001b[0;34m=\u001b[0m \u001b[0;34m'raw_data/sampleA.txt'\u001b[0m\u001b[0;34m\u001b[0m\u001b[0;34m\u001b[0m\u001b[0m\n\u001b[1;32m      2\u001b[0m \u001b[0mfile_name_b\u001b[0m \u001b[0;34m=\u001b[0m \u001b[0;34m'raw_data/sampleB.txt'\u001b[0m\u001b[0;34m\u001b[0m\u001b[0;34m\u001b[0m\u001b[0m\n\u001b[0;32m----> 3\u001b[0;31m \u001b[0mx\u001b[0m\u001b[0;34m,\u001b[0m \u001b[0my\u001b[0m\u001b[0;34m,\u001b[0m \u001b[0mpvals\u001b[0m \u001b[0;34m=\u001b[0m \u001b[0mread_count_sig\u001b[0m\u001b[0;34m(\u001b[0m\u001b[0msample_a_dict\u001b[0m\u001b[0;34m,\u001b[0m \u001b[0msample_b_dict\u001b[0m\u001b[0;34m)\u001b[0m\u001b[0;34m\u001b[0m\u001b[0;34m\u001b[0m\u001b[0m\n\u001b[0m",
      "\u001b[0;31mNameError\u001b[0m: name 'sample_a_dict' is not defined"
     ]
    }
   ],
   "source": [
    "#set up variables with input filenames (sys.argv[1] in final script)\n",
    "file_name_a = 'raw_data/sampleA.txt'\n",
    "file_name_b = 'raw_data/sampleB.txt'\n",
    "x, y, pvals = read_count_sig(sample_a_dict, sample_b_dict)"
   ]
  },
  {
   "cell_type": "code",
   "execution_count": 15,
   "metadata": {},
   "outputs": [],
   "source": [
    "#p_adjusted = multipletests(pvals, alpha=0.05, method='fdr_bh', is_sorted=False, returnsorted=False) #calc padj\n",
    "#sig_or_not = p_adjusted[0]"
   ]
  },
  {
   "cell_type": "code",
   "execution_count": 18,
   "metadata": {},
   "outputs": [],
   "source": [
    "def read_count_scatter(x, y, sig_or_not):\n",
    "    \"\"\"writes a scatterplot of gene counts for each sample, colour-coded for significance, to a pdf\n",
    "    x : sample a readcounts (np.array)\n",
    "    y : sample b readcounts (np.array)\n",
    "    sig_or_not : pvalues corrected for multiple testing (np.array, boolean), True=hypothesis rejected for alpha=0.05\"\"\"\n",
    "    plt.scatter(x[sig_or_not],y[sig_or_not], label='Significant', c='r') #significant read count differences coloured red\n",
    "    plt.scatter(x[~sig_or_not], y[~sig_or_not], label='Not Significant', c='b') #nonsig read count differences coloured blue\n",
    "    plt.title(\"Gene Read Counts\")\n",
    "    plt.xlabel(\"Sample A Read Counts\")\n",
    "    plt.ylabel(\"Sample B Read Counts\")\n",
    "    plt.legend()\n",
    "    savefig('scatter_plot.pdf')"
   ]
  },
  {
   "cell_type": "code",
   "execution_count": 16,
   "metadata": {},
   "outputs": [
    {
     "name": "stdout",
     "output_type": "stream",
     "text": [
      "LICENSE\t\t\t\tprogram_B.ipynb  raw_data   rstudio_programB.R\r\n",
      "program_B_important_code.ipynb\tprogram_B.Rproj  README.md  statsmodels\r\n"
     ]
    }
   ],
   "source": [
    "! ls"
   ]
  },
  {
   "cell_type": "code",
   "execution_count": null,
   "metadata": {},
   "outputs": [],
   "source": []
  }
 ],
 "metadata": {
  "kernelspec": {
   "display_name": "Python 3",
   "language": "python",
   "name": "python3"
  },
  "language_info": {
   "codemirror_mode": {
    "name": "ipython",
    "version": 3
   },
   "file_extension": ".py",
   "mimetype": "text/x-python",
   "name": "python",
   "nbconvert_exporter": "python",
   "pygments_lexer": "ipython3",
   "version": "3.6.7"
  }
 },
 "nbformat": 4,
 "nbformat_minor": 2
}
