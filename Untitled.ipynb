{
 "cells": [
  {
   "cell_type": "code",
   "execution_count": 2,
   "metadata": {},
   "outputs": [
    {
     "ename": "NameError",
     "evalue": "name 'file_name' is not defined",
     "output_type": "error",
     "traceback": [
      "\u001b[0;31m---------------------------------------------------------------------------\u001b[0m",
      "\u001b[0;31mNameError\u001b[0m                                 Traceback (most recent call last)",
      "\u001b[0;32m<ipython-input-2-b06543927ef8>\u001b[0m in \u001b[0;36m<module>\u001b[0;34m()\u001b[0m\n\u001b[0;32m----> 1\u001b[0;31m \u001b[0mread_file\u001b[0m \u001b[0;34m=\u001b[0m \u001b[0mopen\u001b[0m\u001b[0;34m(\u001b[0m\u001b[0mfile_name\u001b[0m\u001b[0;34m,\u001b[0m \u001b[0;34m\"r\"\u001b[0m\u001b[0;34m)\u001b[0m\u001b[0;34m\u001b[0m\u001b[0;34m\u001b[0m\u001b[0m\n\u001b[0m",
      "\u001b[0;31mNameError\u001b[0m: name 'file_name' is not defined"
     ]
    }
   ],
   "source": [
    "read_file = open(file_name, \"r\")"
   ]
  },
  {
   "cell_type": "code",
   "execution_count": 3,
   "metadata": {},
   "outputs": [
    {
     "name": "stdout",
     "output_type": "stream",
     "text": [
      "LICENSE  program_B.Rproj  \u001b[0m\u001b[01;34mraw_data\u001b[0m/  rstudio_programB.R  Untitled.ipynb\r\n"
     ]
    }
   ],
   "source": [
    "ls"
   ]
  },
  {
   "cell_type": "code",
   "execution_count": 13,
   "metadata": {},
   "outputs": [
    {
     "name": "stdout",
     "output_type": "stream",
     "text": [
      "/home/anna/Desktop/program_B\n"
     ]
    }
   ],
   "source": [
    "cd .."
   ]
  },
  {
   "cell_type": "code",
   "execution_count": 5,
   "metadata": {},
   "outputs": [
    {
     "name": "stdout",
     "output_type": "stream",
     "text": [
      "sampleA.txt  sampleBprime.txt  sampleB.txt\r\n"
     ]
    }
   ],
   "source": [
    "ls"
   ]
  },
  {
   "cell_type": "code",
   "execution_count": 36,
   "metadata": {},
   "outputs": [],
   "source": [
    "def read_file(txt_file):\n",
    "    \"\"\"read in .txt files\"\"\"\n",
    "    with open(txt_file, 'r') as f:\n",
    "        print(f)\n",
    "        "
   ]
  },
  {
   "cell_type": "code",
   "execution_count": 33,
   "metadata": {},
   "outputs": [
    {
     "name": "stdout",
     "output_type": "stream",
     "text": [
      "sampleA.txt  sampleBprime.txt  sampleB.txt\r\n"
     ]
    }
   ],
   "source": [
    "ls"
   ]
  },
  {
   "cell_type": "code",
   "execution_count": 34,
   "metadata": {},
   "outputs": [],
   "source": [
    "txt_file = 'sampleA.txt'"
   ]
  },
  {
   "cell_type": "code",
   "execution_count": 37,
   "metadata": {},
   "outputs": [
    {
     "name": "stdout",
     "output_type": "stream",
     "text": [
      "<_io.TextIOWrapper name='sampleA.txt' mode='r' encoding='UTF-8'>\n"
     ]
    }
   ],
   "source": [
    "read_file(txt_file)"
   ]
  },
  {
   "cell_type": "code",
   "execution_count": 57,
   "metadata": {},
   "outputs": [],
   "source": [
    "file_handle = open(txt_file, 'r')"
   ]
  },
  {
   "cell_type": "code",
   "execution_count": 56,
   "metadata": {},
   "outputs": [
    {
     "name": "stdout",
     "output_type": "stream",
     "text": [
      "gene\tsampleA\n",
      "\n",
      "['gene', 'sampleA']\n",
      "EfM3.000010\t21\n",
      "\n",
      "['EfM3.000010', '21']\n",
      "EfM3.000020\t63\n",
      "\n",
      "['EfM3.000020', '63']\n",
      "EfM3.000030\t42\n",
      "\n",
      "['EfM3.000030', '42']\n",
      "EfM3.000040\t8\n",
      "\n",
      "['EfM3.000040', '8']\n",
      "EfM3.000050\t206\n",
      "\n",
      "['EfM3.000050', '206']\n",
      "EfM3.000060\t202\n",
      "\n",
      "['EfM3.000060', '202']\n",
      "EfM3.000070\t129\n",
      "\n",
      "['EfM3.000070', '129']\n",
      "EfM3.000080\t89\n",
      "\n",
      "['EfM3.000080', '89']\n",
      "EfM3.000090\t11\n",
      "\n",
      "['EfM3.000090', '11']\n",
      "EfM3.000100\t326\n",
      "\n",
      "['EfM3.000100', '326']\n",
      "EfM3.000110\t149\n",
      "\n",
      "['EfM3.000110', '149']\n",
      "EfM3.000120\t51\n",
      "\n",
      "['EfM3.000120', '51']\n",
      "EfM3.000130\t0\n",
      "\n",
      "['EfM3.000130', '0']\n",
      "EfM3.000140\t5\n",
      "\n",
      "['EfM3.000140', '5']\n",
      "EfM3.000150\t77\n",
      "\n",
      "['EfM3.000150', '77']\n",
      "EfM3.000160\t66\n",
      "\n",
      "['EfM3.000160', '66']\n",
      "EfM3.000170\t120\n",
      "\n",
      "['EfM3.000170', '120']\n",
      "EfM3.000180\t14\n",
      "\n",
      "['EfM3.000180', '14']\n",
      "EfM3.000190\t1060\n",
      "\n",
      "['EfM3.000190', '1060']\n",
      "EfM3.000200\t57\n",
      "\n",
      "['EfM3.000200', '57']\n",
      "EfM3.000210\t876\n",
      "\n",
      "['EfM3.000210', '876']\n",
      "EfM3.000220\t1\n",
      "\n",
      "['EfM3.000220', '1']\n",
      "EfM3.000230\t24\n",
      "\n",
      "['EfM3.000230', '24']\n",
      "EfM3.000240\t67\n",
      "\n",
      "['EfM3.000240', '67']\n",
      "EfM3.000250\t4\n",
      "\n",
      "['EfM3.000250', '4']\n",
      "EfM3.000260\t14\n",
      "\n",
      "['EfM3.000260', '14']\n",
      "EfM3.000270\t174\n",
      "\n",
      "['EfM3.000270', '174']\n",
      "EfM3.000280\t6\n",
      "\n",
      "['EfM3.000280', '6']\n",
      "EfM3.000290\t68\n",
      "\n",
      "['EfM3.000290', '68']\n",
      "EfM3.000300\t24\n",
      "\n",
      "['EfM3.000300', '24']\n",
      "EfM3.000310\t85\n",
      "\n",
      "['EfM3.000310', '85']\n",
      "EfM3.000320\t36\n",
      "\n",
      "['EfM3.000320', '36']\n",
      "EfM3.000330\t142\n",
      "\n",
      "['EfM3.000330', '142']\n",
      "EfM3.000340\t107\n",
      "\n",
      "['EfM3.000340', '107']\n",
      "EfM3.000350\t134\n",
      "\n",
      "['EfM3.000350', '134']\n",
      "EfM3.000360\t322\n",
      "\n",
      "['EfM3.000360', '322']\n",
      "EfM3.000370\t147\n",
      "\n",
      "['EfM3.000370', '147']\n",
      "EfM3.000380\t3\n",
      "\n",
      "['EfM3.000380', '3']\n",
      "EfM3.000390\t333\n",
      "\n",
      "['EfM3.000390', '333']\n",
      "EfM3.000400\t237\n",
      "\n",
      "['EfM3.000400', '237']\n",
      "EfM3.000410\t25\n",
      "\n",
      "['EfM3.000410', '25']\n",
      "EfM3.000420\t35\n",
      "\n",
      "['EfM3.000420', '35']\n",
      "EfM3.000430\t314\n",
      "\n",
      "['EfM3.000430', '314']\n",
      "EfM3.000440\t214\n",
      "\n",
      "['EfM3.000440', '214']\n",
      "EfM3.000450\t8\n",
      "\n",
      "['EfM3.000450', '8']\n",
      "EfM3.000460\t42\n",
      "\n",
      "['EfM3.000460', '42']\n",
      "EfM3.000470\t38\n",
      "\n",
      "['EfM3.000470', '38']\n",
      "EfM3.000480\t78\n",
      "\n",
      "['EfM3.000480', '78']\n",
      "EfM3.000490\t127\n",
      "\n",
      "['EfM3.000490', '127']\n",
      "EfM3.000500\t125\n",
      "\n",
      "['EfM3.000500', '125']\n",
      "EfM3.000510\t228\n",
      "\n",
      "['EfM3.000510', '228']\n",
      "EfM3.000520\t416\n",
      "\n",
      "['EfM3.000520', '416']\n",
      "EfM3.000530\t626\n",
      "\n",
      "['EfM3.000530', '626']\n",
      "EfM3.000540\t207\n",
      "\n",
      "['EfM3.000540', '207']\n",
      "EfM3.000550\t12\n",
      "\n",
      "['EfM3.000550', '12']\n",
      "EfM3.000560\t168\n",
      "\n",
      "['EfM3.000560', '168']\n",
      "EfM3.000570\t524\n",
      "\n",
      "['EfM3.000570', '524']\n",
      "EfM3.000580\t102\n",
      "\n",
      "['EfM3.000580', '102']\n",
      "EfM3.000590\t101\n",
      "\n",
      "['EfM3.000590', '101']\n",
      "EfM3.000600\t207\n",
      "\n",
      "['EfM3.000600', '207']\n",
      "EfM3.000610\t344\n",
      "\n",
      "['EfM3.000610', '344']\n",
      "EfM3.000620\t116\n",
      "\n",
      "['EfM3.000620', '116']\n",
      "EfM3.000630\t109\n",
      "\n",
      "['EfM3.000630', '109']\n",
      "EfM3.000640\t1\n",
      "\n",
      "['EfM3.000640', '1']\n",
      "EfM3.000650\t163\n",
      "\n",
      "['EfM3.000650', '163']\n",
      "EfM3.000660\t18\n",
      "\n",
      "['EfM3.000660', '18']\n",
      "EfM3.000670\t285\n",
      "\n",
      "['EfM3.000670', '285']\n",
      "EfM3.000680\t1\n",
      "\n",
      "['EfM3.000680', '1']\n",
      "EfM3.000690\t295\n",
      "\n",
      "['EfM3.000690', '295']\n",
      "EfM3.000700\t199\n",
      "\n",
      "['EfM3.000700', '199']\n",
      "EfM3.000710\t204\n",
      "\n",
      "['EfM3.000710', '204']\n",
      "EfM3.000720\t366\n",
      "\n",
      "['EfM3.000720', '366']\n",
      "EfM3.000730\t45\n",
      "\n",
      "['EfM3.000730', '45']\n",
      "EfM3.000740\t139\n",
      "\n",
      "['EfM3.000740', '139']\n",
      "EfM3.000750\t41\n",
      "\n",
      "['EfM3.000750', '41']\n",
      "EfM3.000760\t103\n",
      "\n",
      "['EfM3.000760', '103']\n",
      "EfM3.000770\t314\n",
      "\n",
      "['EfM3.000770', '314']\n",
      "EfM3.000780\t66\n",
      "\n",
      "['EfM3.000780', '66']\n",
      "EfM3.000790\t142\n",
      "\n",
      "['EfM3.000790', '142']\n",
      "EfM3.000800\t157\n",
      "\n",
      "['EfM3.000800', '157']\n",
      "EfM3.000810\t24\n",
      "\n",
      "['EfM3.000810', '24']\n",
      "EfM3.000820\t28\n",
      "\n",
      "['EfM3.000820', '28']\n",
      "EfM3.000830\t22\n",
      "\n",
      "['EfM3.000830', '22']\n",
      "EfM3.000840\t64\n",
      "\n",
      "['EfM3.000840', '64']\n",
      "EfM3.000850\t112\n",
      "\n",
      "['EfM3.000850', '112']\n",
      "EfM3.000860\t52\n",
      "\n",
      "['EfM3.000860', '52']\n",
      "EfM3.000870\t86\n",
      "\n",
      "['EfM3.000870', '86']\n",
      "EfM3.000880\t2\n",
      "\n",
      "['EfM3.000880', '2']\n",
      "EfM3.000890\t124\n",
      "\n",
      "['EfM3.000890', '124']\n",
      "EfM3.000900\t77\n",
      "\n",
      "['EfM3.000900', '77']\n",
      "EfM3.000910\t34\n",
      "\n",
      "['EfM3.000910', '34']\n",
      "EfM3.000920\t290\n",
      "\n",
      "['EfM3.000920', '290']\n",
      "EfM3.000930\t909\n",
      "\n",
      "['EfM3.000930', '909']\n",
      "EfM3.000940\t266\n",
      "\n",
      "['EfM3.000940', '266']\n",
      "EfM3.000950\t16\n",
      "\n",
      "['EfM3.000950', '16']\n",
      "EfM3.000960\t130\n",
      "\n",
      "['EfM3.000960', '130']\n",
      "EfM3.000970\t414\n",
      "\n",
      "['EfM3.000970', '414']\n",
      "EfM3.000980\t95\n",
      "\n",
      "['EfM3.000980', '95']\n",
      "EfM3.000990\t336\n",
      "\n",
      "['EfM3.000990', '336']\n",
      "EfM3.001000\t14\n",
      "\n",
      "['EfM3.001000', '14']\n"
     ]
    }
   ],
   "source": [
    "for line in file_handle:\n",
    "    print(line)\n",
    "    print([token.strip() for token in line.split(\"\\t\")])"
   ]
  },
  {
   "cell_type": "code",
   "execution_count": 58,
   "metadata": {},
   "outputs": [
    {
     "data": {
      "text/plain": [
       "['gene\\tsampleA\\n',\n",
       " 'EfM3.000010\\t21\\n',\n",
       " 'EfM3.000020\\t63\\n',\n",
       " 'EfM3.000030\\t42\\n',\n",
       " 'EfM3.000040\\t8\\n',\n",
       " 'EfM3.000050\\t206\\n',\n",
       " 'EfM3.000060\\t202\\n',\n",
       " 'EfM3.000070\\t129\\n',\n",
       " 'EfM3.000080\\t89\\n',\n",
       " 'EfM3.000090\\t11\\n',\n",
       " 'EfM3.000100\\t326\\n',\n",
       " 'EfM3.000110\\t149\\n',\n",
       " 'EfM3.000120\\t51\\n',\n",
       " 'EfM3.000130\\t0\\n',\n",
       " 'EfM3.000140\\t5\\n',\n",
       " 'EfM3.000150\\t77\\n',\n",
       " 'EfM3.000160\\t66\\n',\n",
       " 'EfM3.000170\\t120\\n',\n",
       " 'EfM3.000180\\t14\\n',\n",
       " 'EfM3.000190\\t1060\\n',\n",
       " 'EfM3.000200\\t57\\n',\n",
       " 'EfM3.000210\\t876\\n',\n",
       " 'EfM3.000220\\t1\\n',\n",
       " 'EfM3.000230\\t24\\n',\n",
       " 'EfM3.000240\\t67\\n',\n",
       " 'EfM3.000250\\t4\\n',\n",
       " 'EfM3.000260\\t14\\n',\n",
       " 'EfM3.000270\\t174\\n',\n",
       " 'EfM3.000280\\t6\\n',\n",
       " 'EfM3.000290\\t68\\n',\n",
       " 'EfM3.000300\\t24\\n',\n",
       " 'EfM3.000310\\t85\\n',\n",
       " 'EfM3.000320\\t36\\n',\n",
       " 'EfM3.000330\\t142\\n',\n",
       " 'EfM3.000340\\t107\\n',\n",
       " 'EfM3.000350\\t134\\n',\n",
       " 'EfM3.000360\\t322\\n',\n",
       " 'EfM3.000370\\t147\\n',\n",
       " 'EfM3.000380\\t3\\n',\n",
       " 'EfM3.000390\\t333\\n',\n",
       " 'EfM3.000400\\t237\\n',\n",
       " 'EfM3.000410\\t25\\n',\n",
       " 'EfM3.000420\\t35\\n',\n",
       " 'EfM3.000430\\t314\\n',\n",
       " 'EfM3.000440\\t214\\n',\n",
       " 'EfM3.000450\\t8\\n',\n",
       " 'EfM3.000460\\t42\\n',\n",
       " 'EfM3.000470\\t38\\n',\n",
       " 'EfM3.000480\\t78\\n',\n",
       " 'EfM3.000490\\t127\\n',\n",
       " 'EfM3.000500\\t125\\n',\n",
       " 'EfM3.000510\\t228\\n',\n",
       " 'EfM3.000520\\t416\\n',\n",
       " 'EfM3.000530\\t626\\n',\n",
       " 'EfM3.000540\\t207\\n',\n",
       " 'EfM3.000550\\t12\\n',\n",
       " 'EfM3.000560\\t168\\n',\n",
       " 'EfM3.000570\\t524\\n',\n",
       " 'EfM3.000580\\t102\\n',\n",
       " 'EfM3.000590\\t101\\n',\n",
       " 'EfM3.000600\\t207\\n',\n",
       " 'EfM3.000610\\t344\\n',\n",
       " 'EfM3.000620\\t116\\n',\n",
       " 'EfM3.000630\\t109\\n',\n",
       " 'EfM3.000640\\t1\\n',\n",
       " 'EfM3.000650\\t163\\n',\n",
       " 'EfM3.000660\\t18\\n',\n",
       " 'EfM3.000670\\t285\\n',\n",
       " 'EfM3.000680\\t1\\n',\n",
       " 'EfM3.000690\\t295\\n',\n",
       " 'EfM3.000700\\t199\\n',\n",
       " 'EfM3.000710\\t204\\n',\n",
       " 'EfM3.000720\\t366\\n',\n",
       " 'EfM3.000730\\t45\\n',\n",
       " 'EfM3.000740\\t139\\n',\n",
       " 'EfM3.000750\\t41\\n',\n",
       " 'EfM3.000760\\t103\\n',\n",
       " 'EfM3.000770\\t314\\n',\n",
       " 'EfM3.000780\\t66\\n',\n",
       " 'EfM3.000790\\t142\\n',\n",
       " 'EfM3.000800\\t157\\n',\n",
       " 'EfM3.000810\\t24\\n',\n",
       " 'EfM3.000820\\t28\\n',\n",
       " 'EfM3.000830\\t22\\n',\n",
       " 'EfM3.000840\\t64\\n',\n",
       " 'EfM3.000850\\t112\\n',\n",
       " 'EfM3.000860\\t52\\n',\n",
       " 'EfM3.000870\\t86\\n',\n",
       " 'EfM3.000880\\t2\\n',\n",
       " 'EfM3.000890\\t124\\n',\n",
       " 'EfM3.000900\\t77\\n',\n",
       " 'EfM3.000910\\t34\\n',\n",
       " 'EfM3.000920\\t290\\n',\n",
       " 'EfM3.000930\\t909\\n',\n",
       " 'EfM3.000940\\t266\\n',\n",
       " 'EfM3.000950\\t16\\n',\n",
       " 'EfM3.000960\\t130\\n',\n",
       " 'EfM3.000970\\t414\\n',\n",
       " 'EfM3.000980\\t95\\n',\n",
       " 'EfM3.000990\\t336\\n',\n",
       " 'EfM3.001000\\t14\\n']"
      ]
     },
     "execution_count": 58,
     "metadata": {},
     "output_type": "execute_result"
    }
   ],
   "source": [
    "file_handle.readlines()\n"
   ]
  },
  {
   "cell_type": "code",
   "execution_count": 59,
   "metadata": {},
   "outputs": [],
   "source": [
    "d = {}"
   ]
  },
  {
   "cell_type": "code",
   "execution_count": 64,
   "metadata": {},
   "outputs": [],
   "source": [
    "d['k'] = \"12\\n\""
   ]
  },
  {
   "cell_type": "code",
   "execution_count": 65,
   "metadata": {},
   "outputs": [
    {
     "data": {
      "text/plain": [
       "{'k': '12\\n'}"
      ]
     },
     "execution_count": 65,
     "metadata": {},
     "output_type": "execute_result"
    }
   ],
   "source": [
    "d"
   ]
  },
  {
   "cell_type": "code",
   "execution_count": 66,
   "metadata": {},
   "outputs": [
    {
     "data": {
      "text/plain": [
       "'12\\n12\\n12\\n12\\n12\\n12\\n12\\n'"
      ]
     },
     "execution_count": 66,
     "metadata": {},
     "output_type": "execute_result"
    }
   ],
   "source": [
    "d['k'] * 7"
   ]
  },
  {
   "cell_type": "code",
   "execution_count": null,
   "metadata": {},
   "outputs": [],
   "source": []
  }
 ],
 "metadata": {
  "kernelspec": {
   "display_name": "Python 3",
   "language": "python",
   "name": "python3"
  },
  "language_info": {
   "codemirror_mode": {
    "name": "ipython",
    "version": 3
   },
   "file_extension": ".py",
   "mimetype": "text/x-python",
   "name": "python",
   "nbconvert_exporter": "python",
   "pygments_lexer": "ipython3",
   "version": "3.6.7"
  }
 },
 "nbformat": 4,
 "nbformat_minor": 2
}
